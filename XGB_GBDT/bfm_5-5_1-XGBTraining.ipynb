{
 "cells": [
  {
   "cell_type": "code",
   "execution_count": 1,
   "metadata": {},
   "outputs": [
    {
     "name": "stderr",
     "output_type": "stream",
     "text": [
      "/Users/thomasdodd/opt/anaconda3/envs/omphalos/lib/python3.10/site-packages/xgboost/compat.py:36: FutureWarning: pandas.Int64Index is deprecated and will be removed from pandas in a future version. Use pandas.Index with the appropriate dtype instead.\n",
      "  from pandas import MultiIndex, Int64Index\n"
     ]
    }
   ],
   "source": [
    "# Get Omphalos github repository in path so modules can be loaded in\n",
    "import sys\n",
    "sys.path.insert(0,'/Users/thomasdodd/Library/CloudStorage/OneDrive-MillfieldEnterprisesLimited/github/Omphalos')\n",
    "sys.path.insert(1,'/Users/thomasdodd/Library/CloudStorage/OneDrive-MillfieldEnterprisesLimited/github')\n",
    "\n",
    "# Import generic data science modules\n",
    "import numpy as np\n",
    "import pandas as pd\n",
    "import xarray as xr\n",
    "\n",
    "# Import misc\n",
    "import wandb\n",
    "import xgboost as xgb\n",
    "import re\n",
    "from importlib import reload\n",
    "\n",
    "# Import Omphalos modules.\n",
    "from omphalos import file_methods as fm\n",
    "from omphalos import attributes as attr\n",
    "from omphalos import labels as lbls\n",
    "from analysis import helper as hp\n",
    "\n",
    "# Import plotting tools\n",
    "from matplotlib import pyplot as plt\n",
    "from sklearn.model_selection import train_test_split\n",
    "from mpl_toolkits import mplot3d\n",
    "\n",
    "# Setup random state\n",
    "random_state = 69\n",
    "np.random.state = random_state\n",
    "np.random.seed = random_state"
   ]
  },
  {
   "cell_type": "markdown",
   "metadata": {},
   "source": [
    "# Training Data Import & Cleaning"
   ]
  },
  {
   "cell_type": "code",
   "execution_count": 2,
   "metadata": {},
   "outputs": [],
   "source": [
    "# Define all the attributes we have varied in .yaml file\n",
    "attribute_names = [\"Al+++\",\"Ca++\",\"Fe++\",\"K+\",\"Na+\",\"Mg++\",\"SiO2(aq)\",\"Cl-\"]"
   ]
  },
  {
   "cell_type": "code",
   "execution_count": 3,
   "metadata": {},
   "outputs": [],
   "source": [
    "# Port in and unpack all the runs we need from the .pkl file.\n",
    "TrainSet_dict = fm.unpickle('/Users/thomasdodd/Library/CloudStorage/OneDrive-MillfieldEnterprisesLimited/Cambridge/AI4ER/Easter/MRes/CrunchFlow_Work/bfm/2022-06-18_bfm_5-5_32000runs/completed_run.pkl')"
   ]
  },
  {
   "cell_type": "code",
   "execution_count": 4,
   "metadata": {},
   "outputs": [
    {
     "name": "stdout",
     "output_type": "stream",
     "text": [
      "Returned 27509 files without errors out of a total possible 32000.\n",
      "4491 files had errors.\n",
      "0 files had unhandled errors.\n",
      "File failure rate: 16.32556617834163 %.\n",
      "To see unhandled errors, run with verbose=True.\n"
     ]
    }
   ],
   "source": [
    "# Filter all errored files out of the dictionary\n",
    "dataset_dict, error_dict = hp.filter_errors(TrainSet_dict)"
   ]
  },
  {
   "cell_type": "code",
   "execution_count": 5,
   "metadata": {},
   "outputs": [
    {
     "name": "stderr",
     "output_type": "stream",
     "text": [
      "/Users/thomasdodd/Library/CloudStorage/OneDrive-MillfieldEnterprisesLimited/github/Omphalos/omphalos/attributes.py:40: FutureWarning: The frame.append method is deprecated and will be removed from pandas in a future version. Use pandas.concat instead.\n",
      "  species_attrs = species_attrs.append(primary_species(data_set[i], condition), ignore_index=True)\n"
     ]
    },
    {
     "data": {
      "text/html": [
       "<div>\n",
       "<style scoped>\n",
       "    .dataframe tbody tr th:only-of-type {\n",
       "        vertical-align: middle;\n",
       "    }\n",
       "\n",
       "    .dataframe tbody tr th {\n",
       "        vertical-align: top;\n",
       "    }\n",
       "\n",
       "    .dataframe thead th {\n",
       "        text-align: right;\n",
       "    }\n",
       "</style>\n",
       "<table border=\"1\" class=\"dataframe\">\n",
       "  <thead>\n",
       "    <tr style=\"text-align: right;\">\n",
       "      <th></th>\n",
       "      <th>Al+++</th>\n",
       "      <th>Ca++</th>\n",
       "      <th>Fe++</th>\n",
       "      <th>K+</th>\n",
       "      <th>Na+</th>\n",
       "      <th>Mg++</th>\n",
       "      <th>SiO2(aq)</th>\n",
       "      <th>Cl-</th>\n",
       "    </tr>\n",
       "  </thead>\n",
       "  <tbody>\n",
       "    <tr>\n",
       "      <th>0</th>\n",
       "      <td>0.016153</td>\n",
       "      <td>0.016134</td>\n",
       "      <td>0.012228</td>\n",
       "      <td>0.018647</td>\n",
       "      <td>0.016275</td>\n",
       "      <td>0.017318</td>\n",
       "      <td>0.003776</td>\n",
       "      <td>0.016377</td>\n",
       "    </tr>\n",
       "    <tr>\n",
       "      <th>1</th>\n",
       "      <td>0.003152</td>\n",
       "      <td>0.013060</td>\n",
       "      <td>0.013292</td>\n",
       "      <td>0.013327</td>\n",
       "      <td>0.012281</td>\n",
       "      <td>0.013464</td>\n",
       "      <td>0.007094</td>\n",
       "      <td>0.002883</td>\n",
       "    </tr>\n",
       "    <tr>\n",
       "      <th>2</th>\n",
       "      <td>0.010019</td>\n",
       "      <td>0.018628</td>\n",
       "      <td>0.000623</td>\n",
       "      <td>0.004058</td>\n",
       "      <td>0.019369</td>\n",
       "      <td>0.018086</td>\n",
       "      <td>0.014039</td>\n",
       "      <td>0.009710</td>\n",
       "    </tr>\n",
       "    <tr>\n",
       "      <th>3</th>\n",
       "      <td>0.011326</td>\n",
       "      <td>0.012745</td>\n",
       "      <td>0.002625</td>\n",
       "      <td>0.011348</td>\n",
       "      <td>0.000538</td>\n",
       "      <td>0.014791</td>\n",
       "      <td>0.010975</td>\n",
       "      <td>0.012746</td>\n",
       "    </tr>\n",
       "    <tr>\n",
       "      <th>4</th>\n",
       "      <td>0.006303</td>\n",
       "      <td>0.010286</td>\n",
       "      <td>0.002111</td>\n",
       "      <td>0.017350</td>\n",
       "      <td>0.012449</td>\n",
       "      <td>0.019303</td>\n",
       "      <td>0.002528</td>\n",
       "      <td>0.018715</td>\n",
       "    </tr>\n",
       "    <tr>\n",
       "      <th>...</th>\n",
       "      <td>...</td>\n",
       "      <td>...</td>\n",
       "      <td>...</td>\n",
       "      <td>...</td>\n",
       "      <td>...</td>\n",
       "      <td>...</td>\n",
       "      <td>...</td>\n",
       "      <td>...</td>\n",
       "    </tr>\n",
       "    <tr>\n",
       "      <th>27504</th>\n",
       "      <td>0.010794</td>\n",
       "      <td>0.008441</td>\n",
       "      <td>0.018678</td>\n",
       "      <td>0.008334</td>\n",
       "      <td>0.015491</td>\n",
       "      <td>0.010218</td>\n",
       "      <td>0.018763</td>\n",
       "      <td>0.007174</td>\n",
       "    </tr>\n",
       "    <tr>\n",
       "      <th>27505</th>\n",
       "      <td>0.015221</td>\n",
       "      <td>0.018727</td>\n",
       "      <td>0.004800</td>\n",
       "      <td>0.005948</td>\n",
       "      <td>0.011802</td>\n",
       "      <td>0.010917</td>\n",
       "      <td>0.014930</td>\n",
       "      <td>0.007451</td>\n",
       "    </tr>\n",
       "    <tr>\n",
       "      <th>27506</th>\n",
       "      <td>0.014366</td>\n",
       "      <td>0.008698</td>\n",
       "      <td>0.004591</td>\n",
       "      <td>0.003868</td>\n",
       "      <td>0.000819</td>\n",
       "      <td>0.011543</td>\n",
       "      <td>0.014164</td>\n",
       "      <td>0.005451</td>\n",
       "    </tr>\n",
       "    <tr>\n",
       "      <th>27507</th>\n",
       "      <td>0.001577</td>\n",
       "      <td>0.001195</td>\n",
       "      <td>0.003691</td>\n",
       "      <td>0.018730</td>\n",
       "      <td>0.008866</td>\n",
       "      <td>0.004941</td>\n",
       "      <td>0.016075</td>\n",
       "      <td>0.009608</td>\n",
       "    </tr>\n",
       "    <tr>\n",
       "      <th>27508</th>\n",
       "      <td>0.017626</td>\n",
       "      <td>0.009443</td>\n",
       "      <td>0.000099</td>\n",
       "      <td>0.012389</td>\n",
       "      <td>0.017322</td>\n",
       "      <td>0.010876</td>\n",
       "      <td>0.004064</td>\n",
       "      <td>0.017172</td>\n",
       "    </tr>\n",
       "  </tbody>\n",
       "</table>\n",
       "<p>27509 rows × 8 columns</p>\n",
       "</div>"
      ],
      "text/plain": [
       "          Al+++      Ca++      Fe++        K+       Na+      Mg++  SiO2(aq)  \\\n",
       "0      0.016153  0.016134  0.012228  0.018647  0.016275  0.017318  0.003776   \n",
       "1      0.003152  0.013060  0.013292  0.013327  0.012281  0.013464  0.007094   \n",
       "2      0.010019  0.018628  0.000623  0.004058  0.019369  0.018086  0.014039   \n",
       "3      0.011326  0.012745  0.002625  0.011348  0.000538  0.014791  0.010975   \n",
       "4      0.006303  0.010286  0.002111  0.017350  0.012449  0.019303  0.002528   \n",
       "...         ...       ...       ...       ...       ...       ...       ...   \n",
       "27504  0.010794  0.008441  0.018678  0.008334  0.015491  0.010218  0.018763   \n",
       "27505  0.015221  0.018727  0.004800  0.005948  0.011802  0.010917  0.014930   \n",
       "27506  0.014366  0.008698  0.004591  0.003868  0.000819  0.011543  0.014164   \n",
       "27507  0.001577  0.001195  0.003691  0.018730  0.008866  0.004941  0.016075   \n",
       "27508  0.017626  0.009443  0.000099  0.012389  0.017322  0.010876  0.004064   \n",
       "\n",
       "            Cl-  \n",
       "0      0.016377  \n",
       "1      0.002883  \n",
       "2      0.009710  \n",
       "3      0.012746  \n",
       "4      0.018715  \n",
       "...         ...  \n",
       "27504  0.007174  \n",
       "27505  0.007451  \n",
       "27506  0.005451  \n",
       "27507  0.009608  \n",
       "27508  0.017172  \n",
       "\n",
       "[27509 rows x 8 columns]"
      ]
     },
     "execution_count": 5,
     "metadata": {},
     "output_type": "execute_result"
    }
   ],
   "source": [
    "# Get a df of all the start attributes of interest\n",
    "attributes_all_df = attr.get_condition(dataset_dict,\"f_i_onehundred\",species_concs=True)\n",
    "attributes_all_df = attributes_all_df.loc[:, attribute_names]\n",
    "attributes_all_df"
   ]
  },
  {
   "cell_type": "code",
   "execution_count": 6,
   "metadata": {},
   "outputs": [
    {
     "data": {
      "text/html": [
       "<div>\n",
       "<style scoped>\n",
       "    .dataframe tbody tr th:only-of-type {\n",
       "        vertical-align: middle;\n",
       "    }\n",
       "\n",
       "    .dataframe tbody tr th {\n",
       "        vertical-align: top;\n",
       "    }\n",
       "\n",
       "    .dataframe thead th {\n",
       "        text-align: right;\n",
       "    }\n",
       "</style>\n",
       "<table border=\"1\" class=\"dataframe\">\n",
       "  <thead>\n",
       "    <tr style=\"text-align: right;\">\n",
       "      <th></th>\n",
       "      <th>Al+++</th>\n",
       "      <th>Ca++</th>\n",
       "      <th>Fe++</th>\n",
       "      <th>K+</th>\n",
       "      <th>Na+</th>\n",
       "      <th>Mg++</th>\n",
       "      <th>SiO2(aq)</th>\n",
       "      <th>Cl-</th>\n",
       "      <th>Carbonates_sum</th>\n",
       "    </tr>\n",
       "  </thead>\n",
       "  <tbody>\n",
       "    <tr>\n",
       "      <th>0</th>\n",
       "      <td>0.016153</td>\n",
       "      <td>0.016134</td>\n",
       "      <td>0.012228</td>\n",
       "      <td>0.018647</td>\n",
       "      <td>0.016275</td>\n",
       "      <td>0.017318</td>\n",
       "      <td>0.003776</td>\n",
       "      <td>0.016377</td>\n",
       "      <td>1.672473</td>\n",
       "    </tr>\n",
       "    <tr>\n",
       "      <th>1</th>\n",
       "      <td>0.003152</td>\n",
       "      <td>0.013060</td>\n",
       "      <td>0.013292</td>\n",
       "      <td>0.013327</td>\n",
       "      <td>0.012281</td>\n",
       "      <td>0.013464</td>\n",
       "      <td>0.007094</td>\n",
       "      <td>0.002883</td>\n",
       "      <td>1.876084</td>\n",
       "    </tr>\n",
       "    <tr>\n",
       "      <th>2</th>\n",
       "      <td>0.010019</td>\n",
       "      <td>0.018628</td>\n",
       "      <td>0.000623</td>\n",
       "      <td>0.004058</td>\n",
       "      <td>0.019369</td>\n",
       "      <td>0.018086</td>\n",
       "      <td>0.014039</td>\n",
       "      <td>0.009710</td>\n",
       "      <td>1.273991</td>\n",
       "    </tr>\n",
       "    <tr>\n",
       "      <th>3</th>\n",
       "      <td>0.011326</td>\n",
       "      <td>0.012745</td>\n",
       "      <td>0.002625</td>\n",
       "      <td>0.011348</td>\n",
       "      <td>0.000538</td>\n",
       "      <td>0.014791</td>\n",
       "      <td>0.010975</td>\n",
       "      <td>0.012746</td>\n",
       "      <td>1.234340</td>\n",
       "    </tr>\n",
       "    <tr>\n",
       "      <th>4</th>\n",
       "      <td>0.006303</td>\n",
       "      <td>0.010286</td>\n",
       "      <td>0.002111</td>\n",
       "      <td>0.017350</td>\n",
       "      <td>0.012449</td>\n",
       "      <td>0.019303</td>\n",
       "      <td>0.002528</td>\n",
       "      <td>0.018715</td>\n",
       "      <td>2.290114</td>\n",
       "    </tr>\n",
       "    <tr>\n",
       "      <th>...</th>\n",
       "      <td>...</td>\n",
       "      <td>...</td>\n",
       "      <td>...</td>\n",
       "      <td>...</td>\n",
       "      <td>...</td>\n",
       "      <td>...</td>\n",
       "      <td>...</td>\n",
       "      <td>...</td>\n",
       "      <td>...</td>\n",
       "    </tr>\n",
       "    <tr>\n",
       "      <th>27504</th>\n",
       "      <td>0.010794</td>\n",
       "      <td>0.008441</td>\n",
       "      <td>0.018678</td>\n",
       "      <td>0.008334</td>\n",
       "      <td>0.015491</td>\n",
       "      <td>0.010218</td>\n",
       "      <td>0.018763</td>\n",
       "      <td>0.007174</td>\n",
       "      <td>1.115855</td>\n",
       "    </tr>\n",
       "    <tr>\n",
       "      <th>27505</th>\n",
       "      <td>0.015221</td>\n",
       "      <td>0.018727</td>\n",
       "      <td>0.004800</td>\n",
       "      <td>0.005948</td>\n",
       "      <td>0.011802</td>\n",
       "      <td>0.010917</td>\n",
       "      <td>0.014930</td>\n",
       "      <td>0.007451</td>\n",
       "      <td>1.057754</td>\n",
       "    </tr>\n",
       "    <tr>\n",
       "      <th>27506</th>\n",
       "      <td>0.014366</td>\n",
       "      <td>0.008698</td>\n",
       "      <td>0.004591</td>\n",
       "      <td>0.003868</td>\n",
       "      <td>0.000819</td>\n",
       "      <td>0.011543</td>\n",
       "      <td>0.014164</td>\n",
       "      <td>0.005451</td>\n",
       "      <td>1.090099</td>\n",
       "    </tr>\n",
       "    <tr>\n",
       "      <th>27507</th>\n",
       "      <td>0.001577</td>\n",
       "      <td>0.001195</td>\n",
       "      <td>0.003691</td>\n",
       "      <td>0.018730</td>\n",
       "      <td>0.008866</td>\n",
       "      <td>0.004941</td>\n",
       "      <td>0.016075</td>\n",
       "      <td>0.009608</td>\n",
       "      <td>2.235406</td>\n",
       "    </tr>\n",
       "    <tr>\n",
       "      <th>27508</th>\n",
       "      <td>0.017626</td>\n",
       "      <td>0.009443</td>\n",
       "      <td>0.000099</td>\n",
       "      <td>0.012389</td>\n",
       "      <td>0.017322</td>\n",
       "      <td>0.010876</td>\n",
       "      <td>0.004064</td>\n",
       "      <td>0.017172</td>\n",
       "      <td>2.017958</td>\n",
       "    </tr>\n",
       "  </tbody>\n",
       "</table>\n",
       "<p>27509 rows × 9 columns</p>\n",
       "</div>"
      ],
      "text/plain": [
       "          Al+++      Ca++      Fe++        K+       Na+      Mg++  SiO2(aq)  \\\n",
       "0      0.016153  0.016134  0.012228  0.018647  0.016275  0.017318  0.003776   \n",
       "1      0.003152  0.013060  0.013292  0.013327  0.012281  0.013464  0.007094   \n",
       "2      0.010019  0.018628  0.000623  0.004058  0.019369  0.018086  0.014039   \n",
       "3      0.011326  0.012745  0.002625  0.011348  0.000538  0.014791  0.010975   \n",
       "4      0.006303  0.010286  0.002111  0.017350  0.012449  0.019303  0.002528   \n",
       "...         ...       ...       ...       ...       ...       ...       ...   \n",
       "27504  0.010794  0.008441  0.018678  0.008334  0.015491  0.010218  0.018763   \n",
       "27505  0.015221  0.018727  0.004800  0.005948  0.011802  0.010917  0.014930   \n",
       "27506  0.014366  0.008698  0.004591  0.003868  0.000819  0.011543  0.014164   \n",
       "27507  0.001577  0.001195  0.003691  0.018730  0.008866  0.004941  0.016075   \n",
       "27508  0.017626  0.009443  0.000099  0.012389  0.017322  0.010876  0.004064   \n",
       "\n",
       "            Cl-  Carbonates_sum  \n",
       "0      0.016377        1.672473  \n",
       "1      0.002883        1.876084  \n",
       "2      0.009710        1.273991  \n",
       "3      0.012746        1.234340  \n",
       "4      0.018715        2.290114  \n",
       "...         ...             ...  \n",
       "27504  0.007174        1.115855  \n",
       "27505  0.007451        1.057754  \n",
       "27506  0.005451        1.090099  \n",
       "27507  0.009608        2.235406  \n",
       "27508  0.017172        2.017958  \n",
       "\n",
       "[27509 rows x 9 columns]"
      ]
     },
     "execution_count": 6,
     "metadata": {},
     "output_type": "execute_result"
    }
   ],
   "source": [
    "# Get an array of the end carbonate volumes generated\n",
    "NonCalSidMag_arr = [\"Diopside\",\"Diopside_a\",\"Hedenbergite\",\"Hedenbergite_a\",\n",
    "                    \"Albite\",\"Albite_a\",\"Anorthite\",\"Anorthite_a\",\"M_Microcline\",\n",
    "                    \"M_Microcline_a\",\"M_Microcline_b\",\"Forsterite\",\"Forsterite_a\",\n",
    "                    \"Fayalite\",\"Fayalite_a\",\"Antigorite\",\"Antigorite_a\",\"Greenalite\",\n",
    "                    \"Greenalite_a\",\"Calcite_a\",\"Siderite_a\",\"Magnesite_a\"]\n",
    "CalSidMag_arr = [\"Calcite\",\"Siderite\",\"Magnesite\"]\n",
    "\n",
    "Vols_ds = lbls.raw(dataset_dict, 'volume')\n",
    "NrXDiscretisedBlocks = len(Vols_ds.X.values)\n",
    "EndVols_ds = Vols_ds.sel(time=280.0)\n",
    "CalSidMagEndVols_ds = EndVols_ds.drop(labels=NonCalSidMag_arr)\n",
    "\n",
    "CalSidMagEndVols_da = CalSidMagEndVols_ds.to_array(dim='arbitrary_array')\n",
    "CalSidMagEndVols_da = CalSidMagEndVols_da.astype(str)\n",
    "CalSidMagEndVols_da = CalSidMagEndVols_da.str.replace(\"^\\d+\\.\\d+-\\d+$\", \"0\", regex=True)\n",
    "CalSidMagEndVols_da = CalSidMagEndVols_da.str.replace(\"^\\d+\\.\\d+\\+\\d+$\", \"5000.0000\", regex=True)\n",
    "CalSidMagEndVols_da = CalSidMagEndVols_da.astype(float)\n",
    "\n",
    "CalSidMagEndVols_ds = CalSidMagEndVols_da.to_dataset(dim=\"arbitrary_array\")\n",
    "SpatialSummedCalSidMagEndVols_ds = CalSidMagEndVols_ds.sum(dim=[\"X\",\"Y\",\"Z\"])\n",
    "SpatialSummedCarbEndVols_ds = SpatialSummedCalSidMagEndVols_ds.assign(Carbonates=lambda SpatialSummedCalSidMagEndVols_ds: SpatialSummedCalSidMagEndVols_ds.Calcite + SpatialSummedCalSidMagEndVols_ds.Siderite + SpatialSummedCalSidMagEndVols_ds.Magnesite)\n",
    "SpatialSummedCarbEndVols_ds = SpatialSummedCarbEndVols_ds.drop(labels=CalSidMag_arr)\n",
    "SpatialSummedCarbEndVols_arr = np.array(SpatialSummedCarbEndVols_ds.Carbonates.values)\n",
    "attributes_all_df[\"Carbonates_sum\"] = SpatialSummedCarbEndVols_arr.tolist()\n",
    "\n",
    "attributes_cleaned_df = attributes_all_df\n",
    "attributes_cleaned_df.loc[attributes_cleaned_df['Carbonates_sum'] > (1*NrXDiscretisedBlocks), 'Carbonates_sum'] = np.nan\n",
    "attributes_cleaned_df.loc[attributes_cleaned_df['Carbonates_sum'] == np.inf, 'Carbonates_sum'] = np.nan\n",
    "attributes_cleaned_df = attributes_cleaned_df.dropna()\n",
    "attributes_cleaned_df = attributes_cleaned_df.reset_index(drop=True)\n",
    "attributes_cleaned_df[\"Carbonates_avg\"] = (attributes_cleaned_df[\"Carbonates_sum\"] / NrXDiscretisedBlocks)\n",
    "attributes_cleaned_df[\"Carbonates_pct\"] = (attributes_cleaned_df[\"Carbonates_avg\"] / 1) * 100\n",
    "attributes_cleaned_df = attributes_cleaned_df.drop(['Carbonates_sum', 'Carbonates_avg'], axis=1)\n",
    "attributes_cleaned_df"
   ]
  },
  {
   "cell_type": "markdown",
   "metadata": {},
   "source": [
    "# XGBoost Model Training"
   ]
  },
  {
   "cell_type": "code",
   "execution_count": 8,
   "metadata": {},
   "outputs": [
    {
     "name": "stdout",
     "output_type": "stream",
     "text": [
      "Normalisation Factor for Al+++ = 0.0199996777771118\n",
      "Normalisation Factor for Ca++ = 0.0199998101672167\n",
      "Normalisation Factor for Fe++ = 0.019999719657439\n",
      "Normalisation Factor for K+ = 0.019999945896381\n",
      "Normalisation Factor for Na+ = 0.0199997455006281\n",
      "Normalisation Factor for Mg++ = 0.0199994907051103\n",
      "Normalisation Factor for SiO2(aq) = 0.0199990220873342\n",
      "Normalisation Factor for Cl- = 0.0199997402413945\n",
      "Normalisation Factor for Carbonate Volume Generated = [96.2359084]\n"
     ]
    }
   ],
   "source": [
    "# Split the ML datasets into x's (predictor arrays) and y's (target arrays).\n",
    "x = attributes_cleaned_df.loc[:, attribute_names].astype(float)\n",
    "y = attributes_cleaned_df[\"Carbonates_pct\"].values.astype(float)\n",
    "\n",
    "# Generate a numpy matrix from a pandas dataframe.\n",
    "x = x.to_numpy()\n",
    "\n",
    "# Normalisation array for each of the columns in x.\n",
    "x_norms = []\n",
    "for _ in attribute_names:\n",
    "    max_val = max(attributes_cleaned_df[_].values)\n",
    "    x_norms.append(max_val)\n",
    "    print(f\"Normalisation Factor for {_} = {max_val}\")\n",
    "\n",
    "# Normalisation of the np matrix using the x_norm array.\n",
    "for i, norm in enumerate(x_norms):\n",
    "    x[:, i] = x[:, i]/norm\n",
    "\n",
    "# Generate a vertical array of target values.\n",
    "y = y.reshape(-1,1)\n",
    "\n",
    "# Normalisation of the target array.\n",
    "y_norm = max(y)\n",
    "print(f\"Normalisation Factor for Carbonate Volume Generated = {y_norm}\")\n",
    "y = y / y_norm\n",
    "\n",
    "# Splitting the data into test and train batches using scikit train_test_split method.\n",
    "x_train, x_test, y_train, y_test = train_test_split(x, y, test_size=0.1, random_state=random_state)"
   ]
  },
  {
   "cell_type": "code",
   "execution_count": 9,
   "metadata": {},
   "outputs": [
    {
     "name": "stderr",
     "output_type": "stream",
     "text": [
      "Failed to detect the name of this notebook, you can set it manually with the WANDB_NOTEBOOK_NAME environment variable to enable code saving.\n",
      "\u001b[34m\u001b[1mwandb\u001b[0m: Currently logged in as: \u001b[33mtjhd97\u001b[0m. Use \u001b[1m`wandb login --relogin`\u001b[0m to force relogin\n"
     ]
    },
    {
     "data": {
      "text/html": [
       "wandb version 0.12.19 is available!  To upgrade, please run:\n",
       " $ pip install wandb --upgrade"
      ],
      "text/plain": [
       "<IPython.core.display.HTML object>"
      ]
     },
     "metadata": {},
     "output_type": "display_data"
    },
    {
     "data": {
      "text/html": [
       "Tracking run with wandb version 0.12.17"
      ],
      "text/plain": [
       "<IPython.core.display.HTML object>"
      ]
     },
     "metadata": {},
     "output_type": "display_data"
    },
    {
     "data": {
      "text/html": [
       "Run data is saved locally in <code>/Users/thomasdodd/Library/CloudStorage/OneDrive-MillfieldEnterprisesLimited/Cambridge/AI4ER/Easter/MRes/CrunchFlow_Work/bfm/2022-06-18_bfm_5-5_32000runs/wandb/run-20220623_150020-3tje9l0a</code>"
      ],
      "text/plain": [
       "<IPython.core.display.HTML object>"
      ]
     },
     "metadata": {},
     "output_type": "display_data"
    },
    {
     "data": {
      "text/html": [
       "Syncing run <strong><a href=\"https://wandb.ai/tjhd97/bfm_5-5/runs/3tje9l0a\" target=\"_blank\">jumping-microwave-25</a></strong> to <a href=\"https://wandb.ai/tjhd97/bfm_5-5\" target=\"_blank\">Weights & Biases</a> (<a href=\"https://wandb.me/run\" target=\"_blank\">docs</a>)<br/>"
      ],
      "text/plain": [
       "<IPython.core.display.HTML object>"
      ]
     },
     "metadata": {},
     "output_type": "display_data"
    },
    {
     "data": {
      "text/html": [
       "Waiting for W&B process to finish... <strong style=\"color:green\">(success).</strong>"
      ],
      "text/plain": [
       "<IPython.core.display.HTML object>"
      ]
     },
     "metadata": {},
     "output_type": "display_data"
    },
    {
     "data": {
      "application/vnd.jupyter.widget-view+json": {
       "model_id": "b3797f96f2eb4d5ebbadba90872d02d0",
       "version_major": 2,
       "version_minor": 0
      },
      "text/plain": [
       "VBox(children=(Label(value='0.001 MB of 0.001 MB uploaded (0.000 MB deduped)\\r'), FloatProgress(value=1.0, max…"
      ]
     },
     "metadata": {},
     "output_type": "display_data"
    },
    {
     "data": {
      "text/html": [
       "<style>\n",
       "    table.wandb td:nth-child(1) { padding: 0 10px; text-align: left ; width: auto;} td:nth-child(2) {text-align: left ; width: 100%}\n",
       "    .wandb-row { display: flex; flex-direction: row; flex-wrap: wrap; justify-content: flex-start; width: 100% }\n",
       "    .wandb-col { display: flex; flex-direction: column; flex-basis: 100%; flex: 1; padding: 10px; }\n",
       "    </style>\n",
       "<div class=\"wandb-row\"><div class=\"wandb-col\"><h3>Run history:</h3><br/><table class=\"wandb\"><tr><td>epoch</td><td>▁▁▁▁▂▂▂▂▂▃▃▃▃▃▃▄▄▄▄▄▅▅▅▅▅▅▆▆▆▆▆▇▇▇▇▇▇███</td></tr><tr><td>eval-rmse</td><td>▁▁▁▂▂▃▃▃▄▅▅▅▆▆▆▆▆▆▆▇▇▇▇▇▇▇▇▇▇▇▇▇████████</td></tr><tr><td>train-rmse</td><td>██▇▇▇▆▆▆▆▅▅▅▅▅▅▄▄▄▄▄▄▃▃▃▃▃▃▃▂▂▂▂▂▂▂▂▁▁▁▁</td></tr></table><br/></div><div class=\"wandb-col\"><h3>Run summary:</h3><br/><table class=\"wandb\"><tr><td>epoch</td><td>299999</td></tr></table><br/></div></div>"
      ],
      "text/plain": [
       "<IPython.core.display.HTML object>"
      ]
     },
     "metadata": {},
     "output_type": "display_data"
    },
    {
     "data": {
      "text/html": [
       "Synced <strong style=\"color:#cdcd00\">jumping-microwave-25</strong>: <a href=\"https://wandb.ai/tjhd97/bfm_5-5/runs/3tje9l0a\" target=\"_blank\">https://wandb.ai/tjhd97/bfm_5-5/runs/3tje9l0a</a><br/>Synced 5 W&B file(s), 1 media file(s), 1 artifact file(s) and 0 other file(s)"
      ],
      "text/plain": [
       "<IPython.core.display.HTML object>"
      ]
     },
     "metadata": {},
     "output_type": "display_data"
    },
    {
     "data": {
      "text/html": [
       "Find logs at: <code>./wandb/run-20220623_150020-3tje9l0a/logs</code>"
      ],
      "text/plain": [
       "<IPython.core.display.HTML object>"
      ]
     },
     "metadata": {},
     "output_type": "display_data"
    },
    {
     "name": "stdout",
     "output_type": "stream",
     "text": [
      "CPU times: user 3h 9min 33s, sys: 9min 11s, total: 3h 18min 44s\n",
      "Wall time: 19min 36s\n"
     ]
    }
   ],
   "source": [
    "%%time\n",
    "\n",
    "xgb_defaults = {\n",
    "    'tree_method': 'hist',\n",
    "    'gamma': 0,\n",
    "    'mds': 0,\n",
    "    'eta': 0.01,\n",
    "    'l1' : 0,\n",
    "    'l2' : 1,\n",
    "    'max_depth' : 0,\n",
    "    'max_leaves': 6,\n",
    "    'objective': 'reg:squarederror',\n",
    "    'max_bin': 10000,\n",
    "    'grow_policy': 'lossguide'\n",
    "}\n",
    "\n",
    "# Initialise the wandb instance\n",
    "wandb.init(config=xgb_defaults, project='bfm_5-5')\n",
    "\n",
    "# Setup xgb matrices; one for training and one testing\n",
    "dtrain = xgb.DMatrix(x_train, label=y_train)\n",
    "dtest = xgb.DMatrix(x_test, label=y_test)\n",
    "\n",
    "evallist = [(dtest, 'eval'), (dtrain, 'train')]\n",
    "\n",
    "params = {'max_depth': wandb.config.max_depth,\n",
    "            'tree_method': wandb.config.tree_method,\n",
    "            'max_delta_step': wandb.config.mds,\n",
    "            'eta': wandb.config.eta,\n",
    "            'objective': wandb.config.objective,\n",
    "            'alpha': wandb.config.l1,\n",
    "            'lambda': wandb.config.l2,\n",
    "            'gamma': wandb.config.gamma,\n",
    "            'max_leaves': wandb.config.max_leaves,\n",
    "            'max_bin': wandb.config.max_bin,\n",
    "            'grow_policy': wandb.config.grow_policy\n",
    "        }\n",
    "\n",
    "results = {}\n",
    "\n",
    "num_round = 300000\n",
    "bst = xgb.train(params, dtrain, num_round, evallist, evals_result=results, verbose_eval=False, callbacks=[wandb.xgboost.WandbCallback()])\n",
    "wandb.finish()"
   ]
  },
  {
   "cell_type": "code",
   "execution_count": 10,
   "metadata": {},
   "outputs": [],
   "source": [
    "bst.save_model(\"bfm_XGBModel_5-5_Epo-300000.json\")"
   ]
  }
 ],
 "metadata": {
  "interpreter": {
   "hash": "296a52c54e27bbbcd48798fb7fd1a88824ee79f86959dd60c8f5f391966dbb41"
  },
  "kernelspec": {
   "display_name": "Python 3.10.4 ('omphalos')",
   "language": "python",
   "name": "python3"
  },
  "language_info": {
   "codemirror_mode": {
    "name": "ipython",
    "version": 3
   },
   "file_extension": ".py",
   "mimetype": "text/x-python",
   "name": "python",
   "nbconvert_exporter": "python",
   "pygments_lexer": "ipython3",
   "version": "3.10.4"
  },
  "orig_nbformat": 4
 },
 "nbformat": 4,
 "nbformat_minor": 2
}
