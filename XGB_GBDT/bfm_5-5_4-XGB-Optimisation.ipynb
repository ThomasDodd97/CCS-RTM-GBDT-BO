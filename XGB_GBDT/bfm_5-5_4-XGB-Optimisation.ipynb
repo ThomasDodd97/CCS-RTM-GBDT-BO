{
 "cells": [
  {
   "cell_type": "code",
   "execution_count": 1,
   "metadata": {},
   "outputs": [
    {
     "name": "stderr",
     "output_type": "stream",
     "text": [
      "/Users/thomasdodd/opt/anaconda3/envs/omphalos2/lib/python3.10/site-packages/xgboost/compat.py:36: FutureWarning: pandas.Int64Index is deprecated and will be removed from pandas in a future version. Use pandas.Index with the appropriate dtype instead.\n",
      "  from pandas import MultiIndex, Int64Index\n"
     ]
    }
   ],
   "source": [
    "from bayes_opt import BayesianOptimization\n",
    "from bayes_opt.logger import JSONLogger\n",
    "from bayes_opt.event import Events\n",
    "from bayes_opt.util import load_logs\n",
    "import numpy as np\n",
    "import xgboost as xgb"
   ]
  },
  {
   "cell_type": "markdown",
   "metadata": {},
   "source": [
    "# Black Box Function Setup"
   ]
  },
  {
   "cell_type": "code",
   "execution_count": 2,
   "metadata": {},
   "outputs": [],
   "source": [
    "# Load in XGBoost GBDT model\n",
    "bst = xgb.Booster()\n",
    "bst.load_model(fname='bfm_XGBModel_5-5_Epo-300000.json')"
   ]
  },
  {
   "cell_type": "code",
   "execution_count": 3,
   "metadata": {},
   "outputs": [],
   "source": [
    "# Define all the attributes we have varied in .yaml file\n",
    "attribute_names = [\"Al+++\",\"Ca++\",\"Fe++\",\"K+\",\"Na+\",\"Mg++\",\"SiO2(aq)\",\"Cl-\"]"
   ]
  },
  {
   "cell_type": "code",
   "execution_count": 4,
   "metadata": {},
   "outputs": [],
   "source": [
    "# Normalisation factors\n",
    "y_norm = 96.2359084\n",
    "x_norms = [0.0199996777771118,0.0199998101672167,0.019999719657439,0.019999945896381,0.0199997455006281,0.0199994907051103,0.0199990220873342,0.0199997402413945]"
   ]
  },
  {
   "cell_type": "code",
   "execution_count": 5,
   "metadata": {},
   "outputs": [],
   "source": [
    "# Upper and lower bounds of the parameter space to be explored.\n",
    "upper_x = 0.016\n",
    "lower_x = 0"
   ]
  },
  {
   "cell_type": "code",
   "execution_count": 6,
   "metadata": {},
   "outputs": [],
   "source": [
    "# The (ab)normalization functions and scaling function\n",
    "def NormalizeData(data, upper):\n",
    "    return data / upper\n",
    "def AbNormalizeData(data, upper):\n",
    "    return data * upper"
   ]
  },
  {
   "cell_type": "code",
   "execution_count": 7,
   "metadata": {},
   "outputs": [],
   "source": [
    "def black_box_function(x1,x2,x3,x4,x5,x6,x7,x8):\n",
    "    \"\"\"\n",
    "    Function with unknown internals we wish to maximize.\n",
    "    \"\"\"\n",
    "    # Normalisation of xs:\n",
    "    for _ in x_norms:\n",
    "        x1_norm = NormalizeData(x1,_)\n",
    "        x2_norm = NormalizeData(x2,_)\n",
    "        x3_norm = NormalizeData(x3,_)\n",
    "        x4_norm = NormalizeData(x4,_)\n",
    "        x5_norm = NormalizeData(x5,_)\n",
    "        x6_norm = NormalizeData(x6,_)\n",
    "        x7_norm = NormalizeData(x7,_)\n",
    "        x8_norm = NormalizeData(x8,_)\n",
    "    # Matrixification of the xs:\n",
    "    matrix_norm = np.ones((1, 8))\n",
    "    matrix_norm[:,0] = x1_norm\n",
    "    matrix_norm[:,1] = x2_norm\n",
    "    matrix_norm[:,2] = x3_norm\n",
    "    matrix_norm[:,3] = x4_norm\n",
    "    matrix_norm[:,4] = x5_norm\n",
    "    matrix_norm[:,5] = x6_norm\n",
    "    matrix_norm[:,6] = x7_norm\n",
    "    matrix_norm[:,7] = x8_norm\n",
    "    # Prediction of a y value from xs:\n",
    "    ypred_arr_norm = bst.predict(xgb.DMatrix(matrix_norm))\n",
    "    # Abnormalisation of a normalised y back to a regular y value\n",
    "    ypred_arr = AbNormalizeData(ypred_arr_norm, y_norm)\n",
    "    ypred_arr\n",
    "    return (ypred_arr[0]).astype(float)"
   ]
  },
  {
   "cell_type": "markdown",
   "metadata": {},
   "source": [
    "# Parameter Space Setup"
   ]
  },
  {
   "cell_type": "code",
   "execution_count": 8,
   "metadata": {},
   "outputs": [],
   "source": [
    "# Bounded region of parameter space\n",
    "pbounds = {'x1': (lower_x, upper_x),'x2': (lower_x, upper_x),'x3': (lower_x, upper_x),'x4': (lower_x, upper_x),'x5': (lower_x, upper_x),'x6': (lower_x, upper_x),'x7': (lower_x, upper_x),'x8': (lower_x, upper_x)}"
   ]
  },
  {
   "cell_type": "markdown",
   "metadata": {},
   "source": [
    "# Initial Bayesian Optimisation Round - 100 init runs"
   ]
  },
  {
   "cell_type": "code",
   "execution_count": 10,
   "metadata": {},
   "outputs": [],
   "source": [
    "# Setting up the optimiser for use:\n",
    "optimizer = BayesianOptimization(\n",
    "    f=black_box_function,\n",
    "    pbounds=pbounds,\n",
    "    verbose=2, # verbose = 1 prints only when a maximum is observed, verbose = 0 is silent\n",
    "    random_state=1,\n",
    ")"
   ]
  },
  {
   "cell_type": "code",
   "execution_count": 11,
   "metadata": {},
   "outputs": [],
   "source": [
    "# Setting up a logger to place rounds of optimisation into a histroical backup\n",
    "logger = JSONLogger(path=\"./BayesOptLogs_one.json\")\n",
    "optimizer.subscribe(Events.OPTIMIZATION_STEP, logger)"
   ]
  },
  {
   "cell_type": "code",
   "execution_count": 12,
   "metadata": {},
   "outputs": [],
   "source": [
    "# Initial round of random guesses across the parameter space\n",
    "optimizer.maximize(\n",
    "    init_points=100,\n",
    "    n_iter=0,\n",
    ")"
   ]
  },
  {
   "cell_type": "code",
   "execution_count": 13,
   "metadata": {},
   "outputs": [
    {
     "name": "stdout",
     "output_type": "stream",
     "text": [
      "{'target': 2.482495069503784, 'params': {'x1': 0.0003443968843871677, 'x2': 0.015167523379482897, 'x3': 0.01323384753873172, 'x4': 0.00024030369187395806, 'x5': 0.002819140089200884, 'x6': 0.005313017189869392, 'x7': 0.0020959495169746703, 'x8': 0.012951851074025314}}\n"
     ]
    }
   ],
   "source": [
    "# Printing the highest target as a function of its predictors\n",
    "print(optimizer.max)"
   ]
  },
  {
   "cell_type": "code",
   "execution_count": 14,
   "metadata": {},
   "outputs": [
    {
     "name": "stdout",
     "output_type": "stream",
     "text": [
      "Total Carbonates in Fracture by Optimisation Initiation Fluid: 2.482 %\n"
     ]
    }
   ],
   "source": [
    "# printing the maximum target value obtained during the initial set of runs\n",
    "max_val = optimizer.max[\"target\"]\n",
    "print(f\"Total Carbonates in Fracture by Optimisation Initiation Fluid: {str(round(max_val, 3))} %\")"
   ]
  },
  {
   "cell_type": "markdown",
   "metadata": {},
   "source": [
    "# Further Optimisation "
   ]
  },
  {
   "cell_type": "code",
   "execution_count": 18,
   "metadata": {},
   "outputs": [
    {
     "name": "stdout",
     "output_type": "stream",
     "text": [
      "0\n"
     ]
    }
   ],
   "source": [
    "# Setting up the secondary optimiser for use\n",
    "subsequent_optimizer = BayesianOptimization(\n",
    "    f=black_box_function,\n",
    "    pbounds=pbounds,\n",
    "    verbose=2,\n",
    "    random_state=7,\n",
    ")\n",
    "print(len(subsequent_optimizer.space))"
   ]
  },
  {
   "cell_type": "code",
   "execution_count": 19,
   "metadata": {},
   "outputs": [
    {
     "name": "stdout",
     "output_type": "stream",
     "text": [
      "Subsequent optimizer is now aware of 100 points.\n",
      "{'target': 2.482495069503784, 'params': {'x1': 0.0003443968843871677, 'x2': 0.015167523379482897, 'x3': 0.01323384753873172, 'x4': 0.00024030369187395806, 'x5': 0.002819140089200884, 'x6': 0.005313017189869392, 'x7': 0.0020959495169746703, 'x8': 0.012951851074025314}}\n"
     ]
    }
   ],
   "source": [
    "# Loading the initial runs\n",
    "load_logs(subsequent_optimizer, logs=[\"./BayesOptLogs_one.json\"])\n",
    "# Checking the optimiser has seen the previous runs\n",
    "print(\"Subsequent optimizer is now aware of {} points.\".format(len(subsequent_optimizer.space)))\n",
    "# Printing the highest target as a function of its predictors\n",
    "print(subsequent_optimizer.max)"
   ]
  },
  {
   "cell_type": "code",
   "execution_count": 20,
   "metadata": {},
   "outputs": [
    {
     "name": "stdout",
     "output_type": "stream",
     "text": [
      "Total Carbonates in Fracture by Optimisation Initiation Fluid: 2.482 %\n"
     ]
    }
   ],
   "source": [
    "# Checking the current maxmimum found based on the initial runs\n",
    "max_val = subsequent_optimizer.max[\"target\"]\n",
    "print(f\"Total Carbonates in Fracture by Optimisation Initiation Fluid: {str(round(max_val, 3))} %\")"
   ]
  },
  {
   "cell_type": "code",
   "execution_count": 21,
   "metadata": {},
   "outputs": [],
   "source": [
    "# starting a logger to log the iterative runs\n",
    "logger = JSONLogger(path=\"./BayesOptLogs_two.json\")\n",
    "subsequent_optimizer.subscribe(Events.OPTIMIZATION_STEP, logger)"
   ]
  },
  {
   "cell_type": "code",
   "execution_count": 22,
   "metadata": {},
   "outputs": [],
   "source": [
    "# starting the second round of optimisation\n",
    "subsequent_optimizer.maximize(\n",
    "    init_points=0,\n",
    "    n_iter=500,\n",
    ")"
   ]
  },
  {
   "cell_type": "code",
   "execution_count": 23,
   "metadata": {},
   "outputs": [
    {
     "name": "stdout",
     "output_type": "stream",
     "text": [
      "{'target': 3.411043882369995, 'params': {'x1': 0.0, 'x2': 0.0, 'x3': 0.016, 'x4': 0.0, 'x5': 0.0, 'x6': 0.0, 'x7': 0.0, 'x8': 0.008032778113953}}\n"
     ]
    }
   ],
   "source": [
    "# Printing the highest target as a function of its predictors\n",
    "print(subsequent_optimizer.max)"
   ]
  },
  {
   "cell_type": "code",
   "execution_count": 24,
   "metadata": {},
   "outputs": [
    {
     "name": "stdout",
     "output_type": "stream",
     "text": [
      "Total Carbonates in Fracture by Optimisation Continuation Fluid: 3.411 %\n"
     ]
    }
   ],
   "source": [
    "max_val = subsequent_optimizer.max[\"target\"]\n",
    "print(f\"Total Carbonates in Fracture by Optimisation Continuation Fluid: {str(round(max_val, 3))} %\")"
   ]
  },
  {
   "cell_type": "code",
   "execution_count": null,
   "metadata": {},
   "outputs": [],
   "source": []
  }
 ],
 "metadata": {
  "kernelspec": {
   "display_name": "Python 3.10.4 ('omphalos2')",
   "language": "python",
   "name": "python3"
  },
  "language_info": {
   "codemirror_mode": {
    "name": "ipython",
    "version": 3
   },
   "file_extension": ".py",
   "mimetype": "text/x-python",
   "name": "python",
   "nbconvert_exporter": "python",
   "pygments_lexer": "ipython3",
   "version": "3.10.4"
  },
  "orig_nbformat": 4,
  "vscode": {
   "interpreter": {
    "hash": "5ae94d04074e005c251e05b1480471b3dba5d081743a44dba15fe4b295c0b86a"
   }
  }
 },
 "nbformat": 4,
 "nbformat_minor": 2
}
