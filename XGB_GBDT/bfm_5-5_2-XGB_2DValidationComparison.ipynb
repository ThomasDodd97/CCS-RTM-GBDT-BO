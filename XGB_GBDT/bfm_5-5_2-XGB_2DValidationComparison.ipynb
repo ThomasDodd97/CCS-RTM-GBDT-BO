{
 "cells": [
  {
   "cell_type": "code",
   "execution_count": 1,
   "metadata": {},
   "outputs": [
    {
     "name": "stderr",
     "output_type": "stream",
     "text": [
      "/Users/thomasdodd/opt/anaconda3/envs/omphalos/lib/python3.10/site-packages/xgboost/compat.py:36: FutureWarning: pandas.Int64Index is deprecated and will be removed from pandas in a future version. Use pandas.Index with the appropriate dtype instead.\n",
      "  from pandas import MultiIndex, Int64Index\n"
     ]
    }
   ],
   "source": [
    "# Get Omphalos github repository in path so modules can be loaded in\n",
    "import sys\n",
    "sys.path.insert(0,'/Users/thomasdodd/Library/CloudStorage/OneDrive-MillfieldEnterprisesLimited/github/Omphalos')\n",
    "sys.path.insert(1,'/Users/thomasdodd/Library/CloudStorage/OneDrive-MillfieldEnterprisesLimited/github')\n",
    "\n",
    "# Import generic data science modules\n",
    "import numpy as np\n",
    "import pandas as pd\n",
    "import xarray as xr\n",
    "\n",
    "# Import misc\n",
    "import wandb\n",
    "import xgboost as xgb\n",
    "import re\n",
    "from importlib import reload\n",
    "\n",
    "# Import Omphalos modules.\n",
    "from omphalos import file_methods as fm\n",
    "from omphalos import attributes as attr\n",
    "from omphalos import labels as lbls\n",
    "from analysis import helper as hp\n",
    "\n",
    "# Import plotting tools\n",
    "from matplotlib import pyplot as plt\n",
    "from sklearn.model_selection import train_test_split\n",
    "from mpl_toolkits import mplot3d\n",
    "\n",
    "# Setup random state\n",
    "random_state = 69\n",
    "np.random.state = random_state\n",
    "np.random.seed = random_state"
   ]
  },
  {
   "cell_type": "code",
   "execution_count": 2,
   "metadata": {},
   "outputs": [],
   "source": [
    "# Define all the attributes we have varied in .yaml file\n",
    "attribute_names = [\"Al+++\",\"Ca++\",\"Fe++\",\"K+\",\"Na+\",\"Mg++\",\"SiO2(aq)\",\"Cl-\"]"
   ]
  },
  {
   "cell_type": "code",
   "execution_count": 3,
   "metadata": {},
   "outputs": [],
   "source": [
    "# Retrieve the x and y normalisation factors used in the original training.\n",
    "x_norms = [0.0199996777771118,0.0199998101672167,0.019999719657439,0.019999945896381,0.0199997455006281,0.0199994907051103,0.0199990220873342,0.0199997402413945]\n",
    "y_norm = 96.2359084"
   ]
  },
  {
   "cell_type": "markdown",
   "metadata": {},
   "source": [
    "# RTM Ground Truth Data"
   ]
  },
  {
   "cell_type": "code",
   "execution_count": 4,
   "metadata": {},
   "outputs": [],
   "source": [
    "# Port in and unpack all the runs we need from the .pkl file.\n",
    "CtrlSet_al_dict = fm.unpickle('/Users/thomasdodd/Library/CloudStorage/OneDrive-MillfieldEnterprisesLimited/Cambridge/AI4ER/Easter/MRes/CrunchFlow_Work/bfm/2022-06-18_bfm_5-5_16000runs/control_tests/al/completed_run.pkl')\n",
    "CtrlSet_ca_dict = fm.unpickle('/Users/thomasdodd/Library/CloudStorage/OneDrive-MillfieldEnterprisesLimited/Cambridge/AI4ER/Easter/MRes/CrunchFlow_Work/bfm/2022-06-18_bfm_5-5_16000runs/control_tests/ca/completed_run.pkl')\n",
    "CtrlSet_fe_dict = fm.unpickle('/Users/thomasdodd/Library/CloudStorage/OneDrive-MillfieldEnterprisesLimited/Cambridge/AI4ER/Easter/MRes/CrunchFlow_Work/bfm/2022-06-18_bfm_5-5_16000runs/control_tests/fe/completed_run.pkl')\n",
    "CtrlSet_k_dict = fm.unpickle('/Users/thomasdodd/Library/CloudStorage/OneDrive-MillfieldEnterprisesLimited/Cambridge/AI4ER/Easter/MRes/CrunchFlow_Work/bfm/2022-06-18_bfm_5-5_16000runs/control_tests/k/completed_run.pkl')\n",
    "CtrlSet_mg_dict = fm.unpickle('/Users/thomasdodd/Library/CloudStorage/OneDrive-MillfieldEnterprisesLimited/Cambridge/AI4ER/Easter/MRes/CrunchFlow_Work/bfm/2022-06-18_bfm_5-5_16000runs/control_tests/mg/completed_run.pkl')\n",
    "CtrlSet_na_dict = fm.unpickle('/Users/thomasdodd/Library/CloudStorage/OneDrive-MillfieldEnterprisesLimited/Cambridge/AI4ER/Easter/MRes/CrunchFlow_Work/bfm/2022-06-18_bfm_5-5_16000runs/control_tests/na/completed_run.pkl')\n",
    "CtrlSet_si_dict = fm.unpickle('/Users/thomasdodd/Library/CloudStorage/OneDrive-MillfieldEnterprisesLimited/Cambridge/AI4ER/Easter/MRes/CrunchFlow_Work/bfm/2022-06-18_bfm_5-5_16000runs/control_tests/si/completed_run.pkl')\n",
    "CtrlSet_cl_dict = fm.unpickle('/Users/thomasdodd/Library/CloudStorage/OneDrive-MillfieldEnterprisesLimited/Cambridge/AI4ER/Easter/MRes/CrunchFlow_Work/bfm/2022-06-18_bfm_5-5_16000runs/control_tests/cl/completed_run.pkl')"
   ]
  },
  {
   "cell_type": "code",
   "execution_count": 5,
   "metadata": {},
   "outputs": [
    {
     "name": "stdout",
     "output_type": "stream",
     "text": [
      "Returned 170 files without errors out of a total possible 200.\n",
      "30 files had errors.\n",
      "0 files had unhandled errors.\n",
      "File failure rate: 17.647058823529413 %.\n",
      "To see unhandled errors, run with verbose=True.\n",
      "Returned 197 files without errors out of a total possible 200.\n",
      "3 files had errors.\n",
      "0 files had unhandled errors.\n",
      "File failure rate: 1.5228426395939088 %.\n",
      "To see unhandled errors, run with verbose=True.\n",
      "Returned 199 files without errors out of a total possible 200.\n",
      "1 files had errors.\n",
      "0 files had unhandled errors.\n",
      "File failure rate: 0.5025125628140703 %.\n",
      "To see unhandled errors, run with verbose=True.\n",
      "Returned 197 files without errors out of a total possible 200.\n",
      "3 files had errors.\n",
      "0 files had unhandled errors.\n",
      "File failure rate: 1.5228426395939088 %.\n",
      "To see unhandled errors, run with verbose=True.\n",
      "Returned 199 files without errors out of a total possible 199.\n",
      "0 files had errors.\n",
      "0 files had unhandled errors.\n",
      "File failure rate: 0.0 %.\n",
      "To see unhandled errors, run with verbose=True.\n",
      "Returned 200 files without errors out of a total possible 200.\n",
      "0 files had errors.\n",
      "0 files had unhandled errors.\n",
      "File failure rate: 0.0 %.\n",
      "To see unhandled errors, run with verbose=True.\n",
      "Returned 200 files without errors out of a total possible 200.\n",
      "0 files had errors.\n",
      "0 files had unhandled errors.\n",
      "File failure rate: 0.0 %.\n",
      "To see unhandled errors, run with verbose=True.\n",
      "Returned 200 files without errors out of a total possible 200.\n",
      "0 files had errors.\n",
      "0 files had unhandled errors.\n",
      "File failure rate: 0.0 %.\n",
      "To see unhandled errors, run with verbose=True.\n"
     ]
    }
   ],
   "source": [
    "# Create a number of datasets from the control RTM experiments\n",
    "dataset_al_dict, error_dict = hp.filter_errors(CtrlSet_al_dict)\n",
    "dataset_ca_dict, error_dict = hp.filter_errors(CtrlSet_ca_dict)\n",
    "dataset_fe_dict, error_dict = hp.filter_errors(CtrlSet_fe_dict)\n",
    "dataset_k_dict, error_dict = hp.filter_errors(CtrlSet_k_dict)\n",
    "dataset_mg_dict, error_dict = hp.filter_errors(CtrlSet_mg_dict)\n",
    "dataset_na_dict, error_dict = hp.filter_errors(CtrlSet_na_dict)\n",
    "dataset_si_dict, error_dict = hp.filter_errors(CtrlSet_si_dict)\n",
    "dataset_cl_dict, error_dict = hp.filter_errors(CtrlSet_cl_dict)"
   ]
  },
  {
   "cell_type": "code",
   "execution_count": 6,
   "metadata": {},
   "outputs": [
    {
     "name": "stderr",
     "output_type": "stream",
     "text": [
      "/Users/thomasdodd/Library/CloudStorage/OneDrive-MillfieldEnterprisesLimited/github/Omphalos/omphalos/attributes.py:40: FutureWarning: The frame.append method is deprecated and will be removed from pandas in a future version. Use pandas.concat instead.\n",
      "  species_attrs = species_attrs.append(primary_species(data_set[i], condition), ignore_index=True)\n",
      "/Users/thomasdodd/Library/CloudStorage/OneDrive-MillfieldEnterprisesLimited/github/Omphalos/omphalos/attributes.py:40: FutureWarning: The frame.append method is deprecated and will be removed from pandas in a future version. Use pandas.concat instead.\n",
      "  species_attrs = species_attrs.append(primary_species(data_set[i], condition), ignore_index=True)\n",
      "/Users/thomasdodd/Library/CloudStorage/OneDrive-MillfieldEnterprisesLimited/github/Omphalos/omphalos/attributes.py:40: FutureWarning: The frame.append method is deprecated and will be removed from pandas in a future version. Use pandas.concat instead.\n",
      "  species_attrs = species_attrs.append(primary_species(data_set[i], condition), ignore_index=True)\n",
      "/Users/thomasdodd/Library/CloudStorage/OneDrive-MillfieldEnterprisesLimited/github/Omphalos/omphalos/attributes.py:40: FutureWarning: The frame.append method is deprecated and will be removed from pandas in a future version. Use pandas.concat instead.\n",
      "  species_attrs = species_attrs.append(primary_species(data_set[i], condition), ignore_index=True)\n",
      "/Users/thomasdodd/Library/CloudStorage/OneDrive-MillfieldEnterprisesLimited/github/Omphalos/omphalos/attributes.py:40: FutureWarning: The frame.append method is deprecated and will be removed from pandas in a future version. Use pandas.concat instead.\n",
      "  species_attrs = species_attrs.append(primary_species(data_set[i], condition), ignore_index=True)\n",
      "/Users/thomasdodd/Library/CloudStorage/OneDrive-MillfieldEnterprisesLimited/github/Omphalos/omphalos/attributes.py:40: FutureWarning: The frame.append method is deprecated and will be removed from pandas in a future version. Use pandas.concat instead.\n",
      "  species_attrs = species_attrs.append(primary_species(data_set[i], condition), ignore_index=True)\n",
      "/Users/thomasdodd/Library/CloudStorage/OneDrive-MillfieldEnterprisesLimited/github/Omphalos/omphalos/attributes.py:40: FutureWarning: The frame.append method is deprecated and will be removed from pandas in a future version. Use pandas.concat instead.\n",
      "  species_attrs = species_attrs.append(primary_species(data_set[i], condition), ignore_index=True)\n",
      "/Users/thomasdodd/Library/CloudStorage/OneDrive-MillfieldEnterprisesLimited/github/Omphalos/omphalos/attributes.py:40: FutureWarning: The frame.append method is deprecated and will be removed from pandas in a future version. Use pandas.concat instead.\n",
      "  species_attrs = species_attrs.append(primary_species(data_set[i], condition), ignore_index=True)\n"
     ]
    }
   ],
   "source": [
    "# Get all the attribute df's for the control RTM experiments\n",
    "attributes_al_df = attr.get_condition(dataset_al_dict,\"f_i_onehundred\",species_concs=True)\n",
    "attributes_al_df = attributes_al_df.loc[:, attribute_names]\n",
    "attributes_ca_df = attr.get_condition(dataset_ca_dict,\"f_i_onehundred\",species_concs=True)\n",
    "attributes_ca_df = attributes_ca_df.loc[:, attribute_names]\n",
    "attributes_fe_df = attr.get_condition(dataset_fe_dict,\"f_i_onehundred\",species_concs=True)\n",
    "attributes_fe_df = attributes_fe_df.loc[:, attribute_names]\n",
    "attributes_k_df = attr.get_condition(dataset_k_dict,\"f_i_onehundred\",species_concs=True)\n",
    "attributes_k_df = attributes_k_df.loc[:, attribute_names]\n",
    "attributes_mg_df = attr.get_condition(dataset_mg_dict,\"f_i_onehundred\",species_concs=True)\n",
    "attributes_mg_df = attributes_mg_df.loc[:, attribute_names]\n",
    "attributes_na_df = attr.get_condition(dataset_na_dict,\"f_i_onehundred\",species_concs=True)\n",
    "attributes_na_df = attributes_na_df.loc[:, attribute_names]\n",
    "attributes_si_df = attr.get_condition(dataset_si_dict,\"f_i_onehundred\",species_concs=True)\n",
    "attributes_si_df = attributes_si_df.loc[:, attribute_names]\n",
    "attributes_cl_df = attr.get_condition(dataset_cl_dict,\"f_i_onehundred\",species_concs=True)\n",
    "attributes_cl_df = attributes_cl_df.loc[:, attribute_names]"
   ]
  },
  {
   "cell_type": "code",
   "execution_count": 7,
   "metadata": {},
   "outputs": [],
   "source": [
    "# function that takes a messy attribute df and the original dataset dictionary and returns a\n",
    "# simplified attribute df and an array of corresponding targets.\n",
    "def ControlData_CarbonateArrayRetriever(dataset_dictionary,attributes_df):\n",
    "    NonCalSidMag_arr = [\"Diopside\",\"Diopside_a\",\"Hedenbergite\",\"Hedenbergite_a\",\n",
    "                    \"Albite\",\"Albite_a\",\"Anorthite\",\"Anorthite_a\",\"M_Microcline\",\n",
    "                    \"M_Microcline_a\",\"M_Microcline_b\",\"Forsterite\",\"Forsterite_a\",\n",
    "                    \"Fayalite\",\"Fayalite_a\",\"Antigorite\",\"Antigorite_a\",\"Greenalite\",\n",
    "                    \"Greenalite_a\",\"Calcite_a\",\"Siderite_a\",\"Magnesite_a\"]\n",
    "    CalSidMag_arr = [\"Calcite\",\"Siderite\",\"Magnesite\"]\n",
    "    Vols_ds = lbls.raw(dataset_dictionary, 'volume')\n",
    "    NrXDiscretisedBlocks = len(Vols_ds.X.values)\n",
    "    EndVols_ds = Vols_ds.sel(time=280.0)\n",
    "    CalSidMagEndVols_ds = EndVols_ds.drop(labels=NonCalSidMag_arr)\n",
    "\n",
    "    CalSidMagEndVols_da = CalSidMagEndVols_ds.to_array(dim='arbitrary_array')\n",
    "    CalSidMagEndVols_da = CalSidMagEndVols_da.astype(str)\n",
    "    CalSidMagEndVols_da = CalSidMagEndVols_da.str.replace(\"^\\d+\\.\\d+-\\d+$\", \"0\", regex=True)\n",
    "    CalSidMagEndVols_da = CalSidMagEndVols_da.str.replace(\"^\\d+\\.\\d+\\+\\d+$\", \"5000.0000\", regex=True)\n",
    "    CalSidMagEndVols_da = CalSidMagEndVols_da.astype(float)\n",
    "\n",
    "    CalSidMagEndVols_ds = CalSidMagEndVols_da.to_dataset(dim=\"arbitrary_array\")\n",
    "    SpatialSummedCalSidMagEndVols_ds = CalSidMagEndVols_ds.sum(dim=[\"X\",\"Y\",\"Z\"])\n",
    "    SpatialSummedCarbEndVols_ds = SpatialSummedCalSidMagEndVols_ds.assign(Carbonates=lambda SpatialSummedCalSidMagEndVols_ds: SpatialSummedCalSidMagEndVols_ds.Calcite + SpatialSummedCalSidMagEndVols_ds.Siderite + SpatialSummedCalSidMagEndVols_ds.Magnesite)\n",
    "    SpatialSummedCarbEndVols_arr = np.array(SpatialSummedCarbEndVols_ds.Carbonates.values)\n",
    "    attributes_df['Carbonates_sum'] = SpatialSummedCarbEndVols_arr.tolist()\n",
    "\n",
    "    attributes_df.loc[attributes_df['Carbonates_sum'] > (1*NrXDiscretisedBlocks), 'Carbonates_sum'] = np.nan\n",
    "    attributes_df.loc[attributes_df['Carbonates_sum'] == np.inf, 'Carbonates_sum'] = np.nan\n",
    "    attributes_df = attributes_df.dropna()\n",
    "    attributes_df = attributes_df.reset_index(drop=True)\n",
    "    attributes_df[\"Carbonates_avg\"] = (attributes_df[\"Carbonates_sum\"] / NrXDiscretisedBlocks)\n",
    "    attributes_df[\"Carbonates_pct\"] = (attributes_df[\"Carbonates_avg\"] / 1) * 100\n",
    "    CarbonatePct_arr = np.array(attributes_df[\"Carbonates_pct\"])\n",
    "\n",
    "    return CarbonatePct_arr, attributes_df"
   ]
  },
  {
   "cell_type": "code",
   "execution_count": 8,
   "metadata": {},
   "outputs": [],
   "source": [
    "# Retrieval of xarray datasets containing final and initial mineralogical volume fractions for the control RTM experiments\n",
    "CarbonatePct_al_arr,attributes_al_df = ControlData_CarbonateArrayRetriever(dataset_al_dict,attributes_al_df)\n",
    "CarbonatePct_ca_arr,attributes_ca_df = ControlData_CarbonateArrayRetriever(dataset_ca_dict,attributes_ca_df)\n",
    "CarbonatePct_fe_arr,attributes_fe_df = ControlData_CarbonateArrayRetriever(dataset_fe_dict,attributes_fe_df)\n",
    "CarbonatePct_k_arr,attributes_k_df = ControlData_CarbonateArrayRetriever(dataset_k_dict,attributes_k_df)\n",
    "CarbonatePct_mg_arr,attributes_mg_df = ControlData_CarbonateArrayRetriever(dataset_mg_dict,attributes_mg_df)\n",
    "CarbonatePct_na_arr,attributes_na_df = ControlData_CarbonateArrayRetriever(dataset_na_dict,attributes_na_df)\n",
    "CarbonatePct_si_arr,attributes_si_df = ControlData_CarbonateArrayRetriever(dataset_si_dict,attributes_si_df)\n",
    "CarbonatePct_cl_arr,attributes_cl_df = ControlData_CarbonateArrayRetriever(dataset_cl_dict,attributes_cl_df)"
   ]
  },
  {
   "cell_type": "code",
   "execution_count": 9,
   "metadata": {},
   "outputs": [],
   "source": [
    "# Control Experiments\n",
    "# Split the datasets into x's and y's\n",
    "# Normalise the control x's and y's in the same way as the training data\n",
    "\n",
    "\n",
    "# Control 1 - Al+++ Varied, Ca++/Fe++/K+/Na+/Mg++/SiO2(aq)/Cl- Held-Steady\n",
    "x_AlCtrl_matrix = attributes_al_df.loc[:, attribute_names].astype(float)\n",
    "y_AlCtrl_arr = CarbonatePct_al_arr.astype(float)\n",
    "\n",
    "x_AlCtrl_matrix = x_AlCtrl_matrix.to_numpy()\n",
    "x_AlCtrl_norm_matrix = x_AlCtrl_matrix\n",
    "for i, norm in enumerate(x_norms):\n",
    "    x_AlCtrl_norm_matrix[:, i] = x_AlCtrl_norm_matrix[:, i]/norm\n",
    "\n",
    "x_AlCtrl_norm_arr = np.hstack(x_AlCtrl_norm_matrix[:,0])\n",
    "y_AlCtrl_norm_arr = np.hstack(y_AlCtrl_arr / y_norm) \n",
    "\n",
    "\n",
    "# Control 2 - Ca++ Varied, Al+++/Fe++/K+/Na+/Mg++/SiO2(aq)/Cl- Held-Steady\n",
    "x_CaCtrl_matrix = attributes_ca_df.loc[:, attribute_names].astype(float)\n",
    "y_CaCtrl_arr = CarbonatePct_ca_arr.astype(float)\n",
    "\n",
    "x_CaCtrl_matrix = x_CaCtrl_matrix.to_numpy()\n",
    "x_CaCtrl_norm_matrix = x_CaCtrl_matrix\n",
    "for i, norm in enumerate(x_norms):\n",
    "    x_CaCtrl_norm_matrix[:, i] = x_CaCtrl_norm_matrix[:, i]/norm\n",
    "\n",
    "x_CaCtrl_norm_arr = np.hstack(x_CaCtrl_norm_matrix[:,1])\n",
    "y_CaCtrl_norm_arr = np.hstack(y_CaCtrl_arr / y_norm)\n",
    "\n",
    "\n",
    "# Control 3 - Fe++ Varied, Al+++/Ca++/K+/Na+/Mg++/SiO2(aq)/Cl- Held-Steady\n",
    "x_FeCtrl_matrix = attributes_fe_df.loc[:, attribute_names].astype(float)\n",
    "y_FeCtrl_arr = CarbonatePct_fe_arr.astype(float)\n",
    "\n",
    "x_FeCtrl_matrix = x_FeCtrl_matrix.to_numpy()\n",
    "x_FeCtrl_norm_matrix = x_FeCtrl_matrix\n",
    "for i, norm in enumerate(x_norms):\n",
    "    x_FeCtrl_norm_matrix[:, i] = x_FeCtrl_norm_matrix[:, i]/norm\n",
    "\n",
    "x_FeCtrl_norm_arr = np.hstack(x_FeCtrl_norm_matrix[:,2])\n",
    "y_FeCtrl_norm_arr = np.hstack(y_FeCtrl_arr / y_norm)\n",
    "\n",
    "\n",
    "# Control 4 - K+ Varied, Al+++/Ca++/Fe++/Na+/Mg++/SiO2(aq)/Cl- Held-Steady\n",
    "x_KCtrl_matrix = attributes_k_df.loc[:, attribute_names].astype(float)\n",
    "y_KCtrl_arr = CarbonatePct_k_arr.astype(float)\n",
    "\n",
    "x_KCtrl_matrix = x_KCtrl_matrix.to_numpy()\n",
    "x_KCtrl_norm_matrix = x_KCtrl_matrix\n",
    "for i, norm in enumerate(x_norms):\n",
    "    x_KCtrl_norm_matrix[:, i] = x_KCtrl_norm_matrix[:, i]/norm\n",
    "\n",
    "x_KCtrl_norm_arr = np.hstack(x_KCtrl_norm_matrix[:,3])\n",
    "y_KCtrl_norm_arr = np.hstack(y_KCtrl_arr / y_norm)\n",
    "\n",
    "\n",
    "# Control 5 - Na+ Varied, Al+++/Ca++/Fe++/K+/Mg++/SiO2(aq)/Cl- Held-Steady\n",
    "x_NaCtrl_matrix = attributes_na_df.loc[:, attribute_names].astype(float)\n",
    "y_NaCtrl_arr = CarbonatePct_na_arr.astype(float)\n",
    "\n",
    "x_NaCtrl_matrix = x_NaCtrl_matrix.to_numpy()\n",
    "x_NaCtrl_norm_matrix = x_NaCtrl_matrix\n",
    "for i, norm in enumerate(x_norms):\n",
    "    x_NaCtrl_norm_matrix[:, i] = x_NaCtrl_norm_matrix[:, i]/norm\n",
    "\n",
    "x_NaCtrl_norm_arr = np.hstack(x_NaCtrl_norm_matrix[:,4])\n",
    "y_NaCtrl_norm_arr = np.hstack(y_NaCtrl_arr / y_norm)\n",
    "\n",
    "\n",
    "# Control 6 - Mg++ Varied, Al+++/Ca++/Fe++/K+/Na+/SiO2(aq)/Cl- Held-Steady\n",
    "x_MgCtrl_matrix = attributes_mg_df.loc[:, attribute_names].astype(float)\n",
    "y_MgCtrl_arr = CarbonatePct_mg_arr.astype(float)\n",
    "\n",
    "x_MgCtrl_matrix = x_MgCtrl_matrix.to_numpy()\n",
    "x_MgCtrl_norm_matrix = x_MgCtrl_matrix\n",
    "for i, norm in enumerate(x_norms):\n",
    "    x_MgCtrl_norm_matrix[:, i] = x_MgCtrl_norm_matrix[:, i]/norm\n",
    "\n",
    "x_MgCtrl_norm_arr = np.hstack(x_MgCtrl_norm_matrix[:,5])\n",
    "y_MgCtrl_norm_arr = np.hstack(y_MgCtrl_arr / y_norm)\n",
    "\n",
    "\n",
    "# Control 7 - SiO2(aq) Varied, Al+++/Ca++/Fe++/K+/Na+/Mg++/Cl- Held-Steady\n",
    "x_SiCtrl_matrix = attributes_si_df.loc[:, attribute_names].astype(float)\n",
    "y_SiCtrl_arr = CarbonatePct_si_arr.astype(float)\n",
    "\n",
    "x_SiCtrl_matrix = x_SiCtrl_matrix.to_numpy()\n",
    "x_SiCtrl_norm_matrix = x_SiCtrl_matrix\n",
    "for i, norm in enumerate(x_norms):\n",
    "    x_SiCtrl_norm_matrix[:, i] = x_SiCtrl_norm_matrix[:, i]/norm\n",
    "\n",
    "x_SiCtrl_norm_arr = np.hstack(x_SiCtrl_norm_matrix[:,6])\n",
    "y_SiCtrl_norm_arr = np.hstack(y_SiCtrl_arr / y_norm)\n",
    "\n",
    "\n",
    "# Control 8 - Cl- Varied, Al+++/Ca++/Fe++/K+/Na+/Mg++/SiO2(aq) Held-Steady\n",
    "x_ClCtrl_matrix = attributes_cl_df.loc[:, attribute_names].astype(float)\n",
    "y_ClCtrl_arr = CarbonatePct_cl_arr.astype(float)\n",
    "\n",
    "x_ClCtrl_matrix = x_ClCtrl_matrix.to_numpy()\n",
    "x_ClCtrl_norm_matrix = x_ClCtrl_matrix\n",
    "for i, norm in enumerate(x_norms):\n",
    "    x_ClCtrl_norm_matrix[:, i] = x_ClCtrl_norm_matrix[:, i]/norm\n",
    "\n",
    "x_ClCtrl_norm_arr = np.hstack(x_ClCtrl_norm_matrix[:,7])\n",
    "y_ClCtrl_norm_arr = np.hstack(y_ClCtrl_arr / y_norm)"
   ]
  },
  {
   "cell_type": "code",
   "execution_count": 10,
   "metadata": {},
   "outputs": [],
   "source": [
    "def dictionary_maker(k_l, v_l):\n",
    "    zip_iterator = zip(k_l, v_l)\n",
    "    new_dictionary = dict(zip_iterator)\n",
    "    return new_dictionary"
   ]
  },
  {
   "cell_type": "code",
   "execution_count": 11,
   "metadata": {},
   "outputs": [],
   "source": [
    "def dictarray_retriever(searchDict,attrib):\n",
    "    find_key = attrib\n",
    "    res = list(searchDict.keys()).index(find_key)\n",
    "    values = list(searchDict.items())\n",
    "    dict_part = values[res]\n",
    "    return dict_part[1]"
   ]
  },
  {
   "cell_type": "code",
   "execution_count": 12,
   "metadata": {},
   "outputs": [],
   "source": [
    "attributes_RTMTruth_keys_list = attribute_names\n",
    "attributes_RTMTruth_values_list = [x_AlCtrl_norm_arr, x_CaCtrl_norm_arr, x_FeCtrl_norm_arr, x_KCtrl_norm_arr, x_NaCtrl_norm_arr, x_MgCtrl_norm_arr, x_SiCtrl_norm_arr, x_ClCtrl_norm_arr]\n",
    "attributes_RTMTruth_dict = dictionary_maker(attributes_RTMTruth_keys_list,attributes_RTMTruth_values_list)\n",
    "\n",
    "target_RTMTruth_keys_list = attribute_names\n",
    "target_RTMTruth_values_list = [y_AlCtrl_norm_arr, y_CaCtrl_norm_arr, y_FeCtrl_norm_arr, y_KCtrl_norm_arr, y_NaCtrl_norm_arr, y_MgCtrl_norm_arr, y_SiCtrl_norm_arr, y_ClCtrl_norm_arr]\n",
    "target_RTMTruth_dict = dictionary_maker(target_RTMTruth_keys_list,target_RTMTruth_values_list)"
   ]
  },
  {
   "cell_type": "markdown",
   "metadata": {},
   "source": [
    "# XGBoost Predicted Values"
   ]
  },
  {
   "cell_type": "code",
   "execution_count": 36,
   "metadata": {},
   "outputs": [],
   "source": [
    "# Number of samples we'd like to get the model to predict on\n",
    "samples = 15\n",
    "# The controlled values in the base .in file\n",
    "incontrolled_val = 1.00E-10"
   ]
  },
  {
   "cell_type": "code",
   "execution_count": 37,
   "metadata": {},
   "outputs": [],
   "source": [
    "# (ab)normalization functions\n",
    "def NormalizeData(data, upper):\n",
    "    return data / upper\n",
    "def AbNormalizeData(data, upper):\n",
    "    return data * upper\n",
    "def ScaleData(data, scale_factor):\n",
    "    return data * scale_factor"
   ]
  },
  {
   "cell_type": "code",
   "execution_count": 38,
   "metadata": {},
   "outputs": [],
   "source": [
    "def pred_getter(attrib_name,x_lower,x_upper,attrib_const_vals,attrib_names,samples,x_norms,y_norm,model_name):\n",
    "    x_attrib_name = attrib_name\n",
    "\n",
    "    matrix = np.full((samples,len(attrib_names)),10.01)\n",
    "\n",
    "    x_arr = []\n",
    "\n",
    "    i = 0\n",
    "    for _,__,___ in zip(attrib_const_vals,attrib_names,x_norms):\n",
    "        if __ == x_attrib_name:\n",
    "            xpred = np.linspace(x_lower, x_upper, samples)\n",
    "\n",
    "            x_arr.append(xpred)\n",
    "\n",
    "            xpred_matrix = np.matrix(xpred)\n",
    "\n",
    "            matrix[:,i] = xpred_matrix[0,:]\n",
    "        else:\n",
    "            default_arr = np.full((samples, 1), _)\n",
    "\n",
    "            default_matrix = np.matrix(default_arr)\n",
    "\n",
    "            matrix[:,i] = default_matrix[0,:]\n",
    "        i+=1\n",
    "\n",
    "    matrix_norm = matrix\n",
    "    for i, norm in enumerate(x_norms):\n",
    "        matrix_norm[:, i] = matrix_norm[:, i]/norm\n",
    "    \n",
    "    bst = xgb.Booster()\n",
    "    bst.load_model(fname=model_name)\n",
    "\n",
    "    y_arr_norm = bst.predict(xgb.DMatrix(matrix))\n",
    "    y_arr = AbNormalizeData(y_arr_norm,y_norm)\n",
    "\n",
    "    x_arr_scaled = ScaleData(np.array(x_arr),1000)\n",
    "\n",
    "    return x_arr_scaled,y_arr"
   ]
  },
  {
   "cell_type": "code",
   "execution_count": 39,
   "metadata": {},
   "outputs": [],
   "source": [
    "attribute_constant_vals = [0.00953981392737719,0.006229012131079079,0.018144146311725996,0.017110734975244037,0.018215952565736267,0.013919712364785673,0.01651024693344055,0.012756491752318355]"
   ]
  },
  {
   "cell_type": "markdown",
   "metadata": {},
   "source": [
    "# RTM Ground Truth vs XGBoost Predictions - A Cross Comparison"
   ]
  },
  {
   "cell_type": "code",
   "execution_count": 50,
   "metadata": {},
   "outputs": [],
   "source": [
    "model_names = [\"bfm_XGBModel_5-5_Epo-3000.json\",\"bfm_XGBModel_5-5_Epo-30000.json\",\"bfm_XGBModel_5-5_Epo-300000.json\"]\n",
    "model_labels = [\"XGB-3,000\",\"XGB-30,000\",\"XGB-300,000\"]\n",
    "graph_titles = [\"A\",\"B\",\"C\",\"D\",\"E\",\"F\",\"G\",\"H\"]"
   ]
  },
  {
   "cell_type": "code",
   "execution_count": 54,
   "metadata": {},
   "outputs": [
    {
     "data": {
      "image/png": "[encoded data removed]",
      "text/plain": [
       "<Figure size 1152x504 with 9 Axes>"
      ]
     },
     "metadata": {
      "needs_background": "light"
     },
     "output_type": "display_data"
    }
   ],
   "source": [
    "# Plotting the control RTM experiments against predictions made by the XGBoost Model\n",
    "\n",
    "fig = plt.figure()\n",
    "ax = fig.add_subplot(111)\n",
    "ax1 = fig.add_subplot(241)\n",
    "ax2 = fig.add_subplot(242)\n",
    "ax3 = fig.add_subplot(243)\n",
    "ax4 = fig.add_subplot(244)\n",
    "ax5 = fig.add_subplot(245)\n",
    "ax6 = fig.add_subplot(246)\n",
    "ax7 = fig.add_subplot(247)\n",
    "ax8 = fig.add_subplot(248)\n",
    "\n",
    "axes = [ax1,ax2,ax3,ax4,ax5,ax6,ax7,ax8]\n",
    "\n",
    "fig.suptitle('RTM vs XGB')\n",
    "\n",
    "fig.set_figheight(7)\n",
    "fig.set_figwidth(16)\n",
    "\n",
    "for attribute_name,axis,x_norm,graph_title in zip(attribute_names,axes,x_norms,graph_titles):\n",
    "    axis.set_title(graph_title, loc='left',fontweight=\"bold\")\n",
    "    x_truth = dictarray_retriever(attributes_RTMTruth_dict,attribute_name)\n",
    "    y_truth = dictarray_retriever(target_RTMTruth_dict,attribute_name)\n",
    "    x_truth = x_truth * x_norm\n",
    "    y_truth = y_truth * y_norm\n",
    "    x_truth_scaled = ScaleData(x_truth, 1000)\n",
    "    axis.scatter(x=x_truth_scaled, y=y_truth, s=10, alpha=1, label=\"RTM-GT\")\n",
    "    axis.set_xlabel(f'[{attribute_name}]')\n",
    "    # axis.set_ylim(0.5, 1.5)\n",
    "    axis.set_ylim(0.5, 2)\n",
    "\n",
    "for attribute_name,axis in zip(attribute_names,axes):\n",
    "    for model,model_label in zip(model_names,model_labels):\n",
    "        x_pred,y_pred = pred_getter(attribute_name, 0, 0.02, attribute_constant_vals,attribute_names,samples,x_norms,y_norm,model)\n",
    "        axis.scatter(x=x_pred, y=y_pred, s=15, alpha=1, label=model_label, marker=\"+\")\n",
    "\n",
    "ax4.legend()\n",
    "\n",
    "# Turn off axis lines and ticks of the big subplot\n",
    "ax.spines['top'].set_color('w')\n",
    "ax.spines['bottom'].set_color('w')\n",
    "ax.spines['left'].set_color('w')\n",
    "ax.spines['right'].set_color('w')\n",
    "ax.axes.yaxis.set_ticklabels([])\n",
    "ax.axes.xaxis.set_ticklabels([])\n",
    "# ax.tick_params(labelcolor='w', top=False, bottom=False, left=False, right=False)\n",
    "ax.set_ylabel('Total Volume Fraction of Carbonates in Fracture (%)', labelpad=30)\n",
    "ax.set_xlabel('Species Concentration in Carbonated Fluid (mmol/kg)', labelpad=40)\n",
    "\n",
    "ax2.get_yaxis().set_visible(False)\n",
    "ax3.get_yaxis().set_visible(False)\n",
    "ax4.get_yaxis().set_visible(False)\n",
    "ax6.get_yaxis().set_visible(False)\n",
    "ax7.get_yaxis().set_visible(False)\n",
    "ax8.get_yaxis().set_visible(False)\n",
    "plt.tight_layout()"
   ]
  },
  {
   "cell_type": "code",
   "execution_count": null,
   "metadata": {},
   "outputs": [],
   "source": []
  }
 ],
 "metadata": {
  "kernelspec": {
   "display_name": "Python 3.10.4 ('omphalos')",
   "language": "python",
   "name": "python3"
  },
  "language_info": {
   "codemirror_mode": {
    "name": "ipython",
    "version": 3
   },
   "file_extension": ".py",
   "mimetype": "text/x-python",
   "name": "python",
   "nbconvert_exporter": "python",
   "pygments_lexer": "ipython3",
   "version": "3.10.4"
  },
  "orig_nbformat": 4,
  "vscode": {
   "interpreter": {
    "hash": "296a52c54e27bbbcd48798fb7fd1a88824ee79f86959dd60c8f5f391966dbb41"
   }
  }
 },
 "nbformat": 4,
 "nbformat_minor": 2
}
