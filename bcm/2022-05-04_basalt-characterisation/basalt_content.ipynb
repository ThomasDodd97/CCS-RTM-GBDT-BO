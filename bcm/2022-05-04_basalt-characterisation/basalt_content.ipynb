{
 "cells": [
  {
   "cell_type": "code",
   "execution_count": 33,
   "metadata": {},
   "outputs": [],
   "source": [
    "import numpy as np\n",
    "import pandas as pd\n",
    "import matplotlib.pyplot as plt\n",
    "%matplotlib inline"
   ]
  },
  {
   "cell_type": "markdown",
   "metadata": {},
   "source": [
    "# Composition"
   ]
  },
  {
   "cell_type": "markdown",
   "metadata": {},
   "source": [
    "Imagine a 100g sample of olivine basalt:"
   ]
  },
  {
   "cell_type": "code",
   "execution_count": 34,
   "metadata": {},
   "outputs": [],
   "source": [
    "# Total Mass of Basalt (g)\n",
    "Basalt_m = 100"
   ]
  },
  {
   "cell_type": "markdown",
   "metadata": {},
   "source": [
    "Then we split it down into a composition table based on oxides:"
   ]
  },
  {
   "cell_type": "code",
   "execution_count": 35,
   "metadata": {},
   "outputs": [],
   "source": [
    "# Oxide Masses (g)\n",
    "SiO2_m = 47.90\n",
    "MgO_m = 14.07\n",
    "Al2O3_m = 11.84\n",
    "FeO_m = 9.8\n",
    "CaO_m = 9.29\n",
    "Fe2O3_m = 2.32\n",
    "Na2O_m = 1.66\n",
    "Trace_m = 3.12"
   ]
  },
  {
   "cell_type": "markdown",
   "metadata": {},
   "source": [
    "Molecular masses of elements are defined:"
   ]
  },
  {
   "cell_type": "code",
   "execution_count": 36,
   "metadata": {},
   "outputs": [],
   "source": [
    "# Elemental Molecular Masses (g mol^-1)\n",
    "O_Mr = 15.999\n",
    "Si_Mr = 28.085\n",
    "Mg_Mr = 24.305\n",
    "Al_Mr = 26.981\n",
    "Fe_Mr = 55.845\n",
    "Ca_Mr = 40.078\n",
    "Na_Mr = 22.989"
   ]
  },
  {
   "cell_type": "markdown",
   "metadata": {},
   "source": [
    "Molecular masses of oxides defined:"
   ]
  },
  {
   "cell_type": "code",
   "execution_count": 37,
   "metadata": {},
   "outputs": [],
   "source": [
    "# Oxide Molecular Masses (g mol^-1)\n",
    "SiO2_Mr = Si_Mr + (2 * O_Mr)\n",
    "MgO_Mr = Mg_Mr + O_Mr\n",
    "Al2O3_Mr = (2 * Al_Mr) + (3 * O_Mr)\n",
    "FeO_Mr = Fe_Mr + O_Mr\n",
    "CaO_Mr = Ca_Mr + O_Mr\n",
    "Fe2O3_Mr = (2 * Fe_Mr) + (3 * O_Mr)\n",
    "Na2O_Mr = (2 * Na_Mr) + O_Mr"
   ]
  },
  {
   "cell_type": "markdown",
   "metadata": {},
   "source": [
    "Moles of oxides in the basalt sample calculated:"
   ]
  },
  {
   "cell_type": "code",
   "execution_count": 38,
   "metadata": {},
   "outputs": [],
   "source": [
    "# Oxide Molar Values (Moles)\n",
    "SiO2_mol = SiO2_m / SiO2_Mr\n",
    "MgO_mol = MgO_m / MgO_Mr\n",
    "Al2O3_mol = Al2O3_m / Al2O3_Mr\n",
    "FeO_mol = FeO_m / FeO_Mr\n",
    "CaO_mol = CaO_m / CaO_Mr\n",
    "Fe2O3_mol = Fe2O3_m / Fe2O3_Mr\n",
    "Na2O_mol = Na2O_m / Na2O_Mr"
   ]
  },
  {
   "cell_type": "markdown",
   "metadata": {},
   "source": [
    "Masses of oxygen in the oxides is calculated:"
   ]
  },
  {
   "cell_type": "code",
   "execution_count": 39,
   "metadata": {},
   "outputs": [
    {
     "name": "stdout",
     "output_type": "stream",
     "text": [
      "{'SiO2_O2_m': 25.509781468967926, 'MgO_O_m': 5.5852007244938475, 'Al2O3_O_m': 5.573656862072009, 'FeO_O_m': 2.1823701352931355, 'CaO_O_m': 2.6504754177291936, 'Fe2O3_O_m': 0.6973206334892633, 'Na2O_O_m': 0.4285192894138148}\n"
     ]
    }
   ],
   "source": [
    "# Oxide Oxygen Masses (g)\n",
    "SiO2_O2_m = SiO2_mol * (2 * O_Mr)\n",
    "MgO_O_m = MgO_mol * O_Mr\n",
    "Al2O3_O_m = Al2O3_mol * (3 * O_Mr)\n",
    "FeO_O_m = FeO_mol * O_Mr\n",
    "CaO_O_m = CaO_mol * O_Mr\n",
    "Fe2O3_O_m = Fe2O3_mol * (3 * O_Mr)\n",
    "Na2O_O_m = Na2O_mol * (O_Mr)\n",
    "\n",
    "oxide_oxygen_masses_kg = {\"SiO2_O2_m\":SiO2_O2_m, \"MgO_O_m\":MgO_O_m, \"Al2O3_O_m\":Al2O3_O_m, \"FeO_O_m\":FeO_O_m, \"CaO_O_m\":CaO_O_m, \"Fe2O3_O_m\":Fe2O3_O_m, \"Na2O_O_m\":Na2O_O_m}\n",
    "print(oxide_oxygen_masses_kg)"
   ]
  },
  {
   "cell_type": "markdown",
   "metadata": {},
   "source": [
    "Masses of cations in the oxides is calculated:"
   ]
  },
  {
   "cell_type": "code",
   "execution_count": 40,
   "metadata": {},
   "outputs": [
    {
     "name": "stdout",
     "output_type": "stream",
     "text": [
      "{'SiO2_Si_m': 22.390218531032072, 'MgO_Mg_m': 8.484799275506154, 'Al2O3_Al_m': 6.266343137927991, 'FeO_Fe_m': 7.617629864706865, 'CaO_Ca_m': 6.6395245822708056, 'Fe2O3_Fe_m': 1.6226793665107364, 'Na2O_Na_m': 1.2314807105861851}\n"
     ]
    }
   ],
   "source": [
    "# Oxide Cation Masses (g)\n",
    "SiO2_Si_m = SiO2_mol * Si_Mr\n",
    "MgO_Mg_m = MgO_mol * Mg_Mr\n",
    "Al2O3_Al_m = Al2O3_mol * (2 * Al_Mr)\n",
    "FeO_Fe_m = FeO_mol * Fe_Mr\n",
    "CaO_Ca_m = CaO_mol * Ca_Mr\n",
    "Fe2O3_Fe_m = Fe2O3_mol * (2 * Fe_Mr)\n",
    "Na2O_Na_m = Na2O_mol * (2 * Na_Mr)\n",
    "\n",
    "oxide_cation_masses_kg = {\"SiO2_Si_m\":SiO2_Si_m, \"MgO_Mg_m\":MgO_Mg_m, \"Al2O3_Al_m\":Al2O3_Al_m, \"FeO_Fe_m\":FeO_Fe_m, \"CaO_Ca_m\":CaO_Ca_m, \"Fe2O3_Fe_m\":Fe2O3_Fe_m, \"Na2O_Na_m\":Na2O_Na_m}\n",
    "print(oxide_cation_masses_kg)"
   ]
  },
  {
   "cell_type": "markdown",
   "metadata": {},
   "source": [
    "Total masses of the various elements in the basalt sample calculated:"
   ]
  },
  {
   "cell_type": "code",
   "execution_count": 41,
   "metadata": {},
   "outputs": [
    {
     "name": "stdout",
     "output_type": "stream",
     "text": [
      "[42.62732453145919, 22.390218531032072, 9.240309231217601, 8.484799275506154, 6.6395245822708056, 6.266343137927991, 1.2314807105861851, 3.1200000000000188]\n"
     ]
    }
   ],
   "source": [
    "# Total Elemental Masses (g)\n",
    "O_m = SiO2_O2_m + MgO_O_m + Al2O3_O_m + FeO_O_m + CaO_O_m + Fe2O3_O_m + Na2O_O_m\n",
    "Si_m = SiO2_Si_m\n",
    "Fe_m = FeO_Fe_m + Fe2O3_Fe_m\n",
    "Mg_m = MgO_Mg_m\n",
    "Ca_m = CaO_Ca_m\n",
    "Al_m = Al2O3_Al_m\n",
    "Na_m = Na2O_Na_m\n",
    "Trace_m = Basalt_m - (O_m + Si_m + Fe_m + Mg_m + Al_m + Ca_m + Na_m)\n",
    "\n",
    "total_elemental_masses_kg = [O_m, Si_m, Fe_m, Mg_m, Ca_m, Al_m, Na_m, Trace_m]\n",
    "print(total_elemental_masses_kg)"
   ]
  },
  {
   "cell_type": "markdown",
   "metadata": {},
   "source": [
    "By interpreting melt diagrams a number of assumptions were made:\n",
    "* Olivine (Forsterite etc) is generated first, between 1700-1560 oC (140 oC period)\n",
    "* Pyroxene (Enstatite etc) is generated second, between 1560-1540 oC (20 oC period)\n",
    "* Plagioclase (Anorthite etc) is generated last, between 1550-1130 oC (420 oC period)\n",
    "If temperature periods and time periods are assumed to be directly proportional, (which they are likely not...), and the amount of mineral precipitated per amount of time period to be equal across all minerals considered (again, not entirely believable...), then ratios can be formed as to the minerals generated.\n",
    "\n",
    "Olivine ------------------------ Pyroxene ------------------------ Plagioclase\n",
    "\n",
    "Mg, Fe  ------------------------ Ca, Mg, Fe ---------------------- Ca, Na\n",
    "\n",
    "* Olivine : Pyroxene : Plagioclase (140 + 20 + 420 = 580)\n",
    "\n",
    "    * 140 / 580 : 20 / 580 : 420 / 580\n",
    "\n",
    "        * 0.2413793103 : 0.03448275862 : 0.724137931\n",
    "\n",
    "* Olivine : Pyroxene (140 + 20 = 160)\n",
    "\n",
    "    * 140 / 160 : 20 / 160\n",
    "\n",
    "        * 0.875 : 0.125\n",
    "\n",
    "* Pyroxene : Plagioclase (20 + 420 = 440)\n",
    "\n",
    "    * 20 / 440 : 420 / 440\n",
    "\n",
    "        * 0.04545454545 : 0.9545454545"
   ]
  },
  {
   "cell_type": "code",
   "execution_count": 42,
   "metadata": {},
   "outputs": [],
   "source": [
    "# Ratios of Minerals\n",
    "# Olivine_Pyroxene_Plagioclase = [0.2413793103, 0.03448275862, 0.724137931]\n",
    "# Olivine_Pyroxene = [0.875, 0.125]\n",
    "# Pyroxene_Plagioclase = [0.04545454545, 0.9545454545]"
   ]
  },
  {
   "cell_type": "code",
   "execution_count": 43,
   "metadata": {},
   "outputs": [],
   "source": [
    "# Alternative Ratios of Minerals based on Angus' suggestion of 15% Olivine, 35% Clinopyroxene, 50% Plagioclase\n",
    "Olivine_Pyroxene_Plagioclase = [0.15, 0.35, 0.50]\n",
    "Olivine_Pyroxene = [0.3, 0.7]\n",
    "Pyroxene_Plagioclase = [0.41, 0.59]"
   ]
  },
  {
   "cell_type": "markdown",
   "metadata": {},
   "source": [
    "Masses of elements within the different mineralogical-series calculated:"
   ]
  },
  {
   "cell_type": "code",
   "execution_count": 44,
   "metadata": {},
   "outputs": [
    {
     "name": "stdout",
     "output_type": "stream",
     "text": [
      "[2.545439782651846, 2.77209276936528, 2.72220507873103, 5.939359492854307, 6.468216461852321, 3.917319503539775, 1.2314807105861851]\n"
     ]
    }
   ],
   "source": [
    "# Mineral-Series Masses (g)\n",
    "Olivine_Mg_m = Mg_m * Olivine_Pyroxene[0]\n",
    "Olivine_Fe_m = Fe_m * Olivine_Pyroxene[0]\n",
    "Pyroxene_Ca_m = Ca_m * Pyroxene_Plagioclase[0]\n",
    "Pyroxene_Mg_m = Mg_m * Olivine_Pyroxene[1]\n",
    "Pyroxene_Fe_m = Fe_m * Olivine_Pyroxene[1]\n",
    "Plagioclase_Ca_m = Ca_m * Pyroxene_Plagioclase[1]\n",
    "Plagioclase_Na_m = Na_m\n",
    "\n",
    "mineral_masses_kg = [Olivine_Mg_m, Olivine_Fe_m, Pyroxene_Ca_m, Pyroxene_Mg_m, Pyroxene_Fe_m, Plagioclase_Ca_m, Plagioclase_Na_m]\n",
    "print(mineral_masses_kg)"
   ]
  },
  {
   "cell_type": "markdown",
   "metadata": {},
   "source": [
    "Molecular masses of various minerals within the mineral-series calculated:"
   ]
  },
  {
   "cell_type": "code",
   "execution_count": 45,
   "metadata": {},
   "outputs": [],
   "source": [
    "# Mineral Molecular Masses (g mol^-1)\n",
    "# Olivine Series\n",
    "Mg2SiO4_Mr = (2 * Mg_Mr) + Si_Mr + (4 * O_Mr) # Forsterite\n",
    "Fe2SiO4_Mr = (2 * Fe_Mr) + Si_Mr + (4 * O_Mr) # Fayalite\n",
    "\n",
    "# Pyroxene Series\n",
    "Ca2Si2O6_Mr = (2 * Ca_Mr) + (2 * Si_Mr) + (6 * O_Mr) # Wollastonite\n",
    "Mg2Si2O6_Mr = (2 * Mg_Mr) + (2 * Si_Mr) + (6 * O_Mr) # Enstatite\n",
    "Fe2Si2O6_Mr = (2 * Fe_Mr) + (2 * Si_Mr) + (6 * O_Mr) # Ferrosilicate\n",
    "\n",
    "# Plagioclase Series\n",
    "CaAl2Si2O8_Mr = Ca_Mr + (2 * Al_Mr) + (2 * Si_Mr) + (8 * O_Mr) # Anorthite\n",
    "NaAlSi3O8_Mr = Na_Mr + Al_Mr + (3 * Si_Mr) + (8 * O_Mr) # Albite"
   ]
  },
  {
   "cell_type": "markdown",
   "metadata": {},
   "source": [
    "Masses of minerals within mineral-series calculated:"
   ]
  },
  {
   "cell_type": "code",
   "execution_count": 46,
   "metadata": {},
   "outputs": [],
   "source": [
    "# Mineral Masses (g)\n",
    "# Olivine Seris\n",
    "Mg2SiO4_m = ((Olivine_Mg_m / Mg_Mr) / 2) * Mg2SiO4_Mr # Forsterite\n",
    "Fe2SiO4_m = ((Olivine_Fe_m / Fe_Mr) / 2) * Fe2SiO4_Mr # Fayalite\n",
    "\n",
    "# Pyroxene Series\n",
    "Ca2Si2O6_m = ((Pyroxene_Ca_m / Ca_Mr) / 2) * Ca2Si2O6_Mr # Wollastonite\n",
    "Mg2Si2O6_m = ((Pyroxene_Mg_m / Mg_Mr) / 2) * Mg2Si2O6_Mr # Enstatite\n",
    "Fe2Si2O6_m = ((Pyroxene_Fe_m / Fe_Mr) / 2) * Fe2Si2O6_Mr # Ferrosilicate\n",
    "\n",
    "# Plagioclase Series\n",
    "CaAl2Si2O8_m = ((Plagioclase_Ca_m / Ca_Mr) / 1) * CaAl2Si2O8_Mr # Anorthite\n",
    "NaAlSi3O8_m = ((Plagioclase_Na_m / Na_Mr) / 1) * NaAlSi3O8_Mr # Albite"
   ]
  },
  {
   "cell_type": "code",
   "execution_count": 47,
   "metadata": {},
   "outputs": [
    {
     "name": "stdout",
     "output_type": "stream",
     "text": [
      "The Olivine-Series Minerals (g):\n",
      "{'Forsterite': 7.37, 'Fayalite': 5.06}\n",
      "\n",
      "The Pyroxene-Series Minerals (g):\n",
      "{'Wollastonite': 7.89, 'Enstatite': 24.53, 'Ferrosilicate': 15.28}\n",
      "\n",
      "The Plagioclase-Series Minerals (g):\n",
      "{'Anorthite': 27.19, 'Albite': 14.05}\n",
      "\n",
      "\n",
      "The Total Minerals:\n",
      "101.36 g\n"
     ]
    }
   ],
   "source": [
    "# Overview of Masses Generated (g)\n",
    "Olivine_masses = {\"Forsterite\":np.round(Mg2SiO4_m, 2), \"Fayalite\":np.round(Fe2SiO4_m, 2)}\n",
    "Pyroxene_masses = {\"Wollastonite\":np.round(Ca2Si2O6_m, 2), \"Enstatite\":np.round(Mg2Si2O6_m, 2), \"Ferrosilicate\":np.round(Fe2Si2O6_m, 2)}\n",
    "Plagioclase_masses = {\"Anorthite\":np.round(CaAl2Si2O8_m, 2), \"Albite\":np.round(NaAlSi3O8_m, 2)}\n",
    "\n",
    "print(\"The Olivine-Series Minerals (g):\")\n",
    "print(f\"{Olivine_masses}\\n\")\n",
    "print(\"The Pyroxene-Series Minerals (g):\")\n",
    "print(f\"{Pyroxene_masses}\\n\")\n",
    "print(\"The Plagioclase-Series Minerals (g):\")\n",
    "print(f\"{Plagioclase_masses}\\n\\n\")\n",
    "print(\"The Total Minerals:\")\n",
    "print(f\"{round(Mg2SiO4_m + Fe2SiO4_m + Ca2Si2O6_m + Mg2Si2O6_m + Fe2Si2O6_m + CaAl2Si2O8_m + NaAlSi3O8_m, 2)} g\")"
   ]
  },
  {
   "cell_type": "markdown",
   "metadata": {},
   "source": [
    "Plotting mineralogical contents of the basaltic sample specified:"
   ]
  },
  {
   "cell_type": "code",
   "execution_count": 48,
   "metadata": {},
   "outputs": [
    {
     "name": "stdout",
     "output_type": "stream",
     "text": [
      "dict_keys(['Forsterite', 'Fayalite', 'Wollastonite', 'Enstatite', 'Ferrosilicate', 'Anorthite', 'Albite'])\n",
      "dict_values([7.37, 5.06, 7.89, 24.53, 15.28, 27.19, 14.05])\n"
     ]
    },
    {
     "data": {
      "image/png": "[encoded data removed]",
      "text/plain": [
       "<Figure size 720x504 with 1 Axes>"
      ]
     },
     "metadata": {},
     "output_type": "display_data"
    }
   ],
   "source": [
    "# Merging dictionaries of minerals and their masses\n",
    "minerals_mass_dict = Olivine_masses | Pyroxene_masses | Plagioclase_masses\n",
    "minerals_mass_names_arr = minerals_mass_dict.keys()\n",
    "minerals_mass_values_arr = minerals_mass_dict.values()\n",
    "print(minerals_mass_names_arr)\n",
    "print(minerals_mass_values_arr)\n",
    "\n",
    "# Creating plot\n",
    "fig = plt.figure(figsize =(10, 7))\n",
    "plt.pie(minerals_mass_values_arr, labels = minerals_mass_names_arr)\n",
    "plt.show()"
   ]
  },
  {
   "cell_type": "code",
   "execution_count": 49,
   "metadata": {},
   "outputs": [],
   "source": [
    "# Mineral Percentages (%)\n",
    "\n",
    "# Total Mass\n",
    "min_m = sum(list(minerals_mass_dict.values()))\n",
    "\n",
    "# Olivine Series\n",
    "Mg2SiO4_pct = (minerals_mass_dict[\"Forsterite\"] / min_m) * 100 # Forsterite\n",
    "Fe2SiO4_pct = (minerals_mass_dict[\"Fayalite\"] / min_m) * 100 # Fayalite\n",
    "\n",
    "# Pyroxene Series\n",
    "Ca2Si2O6_pct = (minerals_mass_dict[\"Wollastonite\"] / min_m) * 100  # Wollastonite\n",
    "Mg2Si2O6_pct = (minerals_mass_dict[\"Enstatite\"] / min_m) * 100  # Enstatite\n",
    "Fe2Si2O6_pct = (minerals_mass_dict[\"Ferrosilicate\"] / min_m) * 100  # Ferrosilicate\n",
    "\n",
    "# Plagioclase Series\n",
    "CaAl2Si2O8_pct = (minerals_mass_dict[\"Anorthite\"] / min_m) * 100 # Anorthite\n",
    "NaAlSi3O8_pct = (minerals_mass_dict[\"Albite\"] / min_m) * 100  # Albite"
   ]
  },
  {
   "cell_type": "code",
   "execution_count": 50,
   "metadata": {},
   "outputs": [
    {
     "name": "stdout",
     "output_type": "stream",
     "text": [
      "The Olivine-Series Minerals (% mass):\n",
      "Forsterite: 7.27\n",
      "Fayalite: 4.99\n",
      "\n",
      "The Pyroxene-Series Minerals (% mass):\n",
      "Wollastonite: 7.78\n",
      "Enstatite: 24.2\n",
      "Ferrosilicate: 15.07\n",
      "\n",
      "The Plagioclase-Series Minerals (% mass):\n",
      "Anorthite: 26.82\n",
      "Albite: 13.86\n"
     ]
    }
   ],
   "source": [
    "# End Mass Ratio of Minerals\n",
    "total_mass = sum(list(minerals_mass_dict.values()))\n",
    "\n",
    "print(\"The Olivine-Series Minerals (% mass):\")\n",
    "print(f\"Forsterite: {round(Mg2SiO4_pct, 2)}\")\n",
    "print(f\"Fayalite: {round(Fe2SiO4_pct, 2)}\\n\")\n",
    "print(\"The Pyroxene-Series Minerals (% mass):\")\n",
    "print(f\"Wollastonite: {round(Ca2Si2O6_pct, 2)}\")\n",
    "print(f\"Enstatite: {round(Mg2Si2O6_pct, 2)}\")\n",
    "print(f\"Ferrosilicate: {round(Fe2Si2O6_pct, 2)}\\n\")\n",
    "print(\"The Plagioclase-Series Minerals (% mass):\")\n",
    "print(f\"Anorthite: {round(CaAl2Si2O8_pct, 2)}\")\n",
    "print(f\"Albite: {round(NaAlSi3O8_pct, 2)}\")"
   ]
  },
  {
   "cell_type": "markdown",
   "metadata": {},
   "source": [
    "# Volumes"
   ]
  },
  {
   "cell_type": "code",
   "execution_count": 51,
   "metadata": {},
   "outputs": [],
   "source": [
    "# Basalt Base Parameters\n",
    "basalt_porosity_pct = 5\n",
    "basalt_mass_g = 100"
   ]
  },
  {
   "cell_type": "code",
   "execution_count": 52,
   "metadata": {},
   "outputs": [],
   "source": [
    "# Mineral Molar Volumes (cm^3 moles^-1)\n",
    "# Olivine Series\n",
    "Mg2SiO4_molvol = 43.79 # Forsterite\n",
    "Fe2SiO4_molvol = 46.39 # Fayalite\n",
    "\n",
    "# Pyroxene Series\n",
    "Ca2Si2O6_molvol = 39.93 # Wollastonite\n",
    "Mg2Si2O6_molvol = 31.276 # Enstatite\n",
    "Fe2Si2O6_molvol = 32.952 # Ferrosilicate\n",
    "\n",
    "# Plagioclase Series\n",
    "CaAl2Si2O8_molvol = 100.79 # Anorthite\n",
    "NaAlSi3O8_molvol = 100.25 # Albite"
   ]
  },
  {
   "cell_type": "code",
   "execution_count": 53,
   "metadata": {},
   "outputs": [],
   "source": [
    "# Mineral Masses (g)\n",
    "# Olivine Series\n",
    "Mg2SiO4_m_2 = (Mg2SiO4_pct / 100) * basalt_mass_g # Forsterite\n",
    "Fe2SiO4_m_2 = (Fe2SiO4_pct / 100) * basalt_mass_g # Fayalite\n",
    "\n",
    "# Pyroxene Series\n",
    "Ca2Si2O6_m_2 = (Ca2Si2O6_pct / 100) * basalt_mass_g # Wollastonite\n",
    "Mg2Si2O6_m_2 = (Mg2Si2O6_pct / 100) * basalt_mass_g # Enstatite\n",
    "Fe2Si2O6_m_2 = (Fe2Si2O6_pct / 100) * basalt_mass_g # Ferrosilicate\n",
    "\n",
    "# Plagioclase Series\n",
    "CaAl2Si2O8_m_2 = (CaAl2Si2O8_pct / 100) * basalt_mass_g # Anorthite\n",
    "NaAlSi3O8_m_2 = (NaAlSi3O8_pct / 100) * basalt_mass_g # Albite"
   ]
  },
  {
   "cell_type": "code",
   "execution_count": 54,
   "metadata": {},
   "outputs": [],
   "source": [
    "# Mineral Moles (moles)\n",
    "# Olivine Series\n",
    "Mg2SiO4_mol = Mg2SiO4_m_2 / Mg2SiO4_Mr # Forsterite\n",
    "Fe2SiO4_mol = Fe2SiO4_m_2 / Fe2SiO4_Mr # Fayalite\n",
    "\n",
    "# Pyroxene Series\n",
    "Ca2Si2O6_mol = Ca2Si2O6_m_2 / Ca2Si2O6_Mr # Wollastonite\n",
    "Mg2Si2O6_mol = Mg2Si2O6_m_2 / Mg2Si2O6_Mr # Enstatite\n",
    "Fe2Si2O6_mol = Fe2Si2O6_m_2 / Fe2Si2O6_Mr # Ferrosilicate\n",
    "\n",
    "# Plagioclase Series\n",
    "CaAl2Si2O8_mol = CaAl2Si2O8_m_2 / CaAl2Si2O8_Mr # Anorthite\n",
    "NaAlSi3O8_mol = NaAlSi3O8_m_2 / NaAlSi3O8_Mr # Albite"
   ]
  },
  {
   "cell_type": "code",
   "execution_count": 55,
   "metadata": {},
   "outputs": [],
   "source": [
    "# Mineral Volumes (cm^3)\n",
    "# Olivine Series\n",
    "Mg2SiO4_vol = Mg2SiO4_mol * Mg2SiO4_molvol # Forsterite\n",
    "Fe2SiO4_vol = Fe2SiO4_mol * Fe2SiO4_molvol # Fayalite\n",
    "\n",
    "# Pyroxene Series\n",
    "Ca2Si2O6_vol = Ca2Si2O6_mol * Ca2Si2O6_molvol # Wollastonite\n",
    "Mg2Si2O6_vol = Mg2Si2O6_mol * Mg2Si2O6_molvol # Enstatite\n",
    "Fe2Si2O6_vol = Fe2Si2O6_mol * Fe2Si2O6_molvol # Ferrosilicate\n",
    "\n",
    "# Plagioclase Series\n",
    "CaAl2Si2O8_vol = CaAl2Si2O8_mol * CaAl2Si2O8_molvol # Anorthite\n",
    "NaAlSi3O8_vol = NaAlSi3O8_mol * NaAlSi3O8_molvol # Albite\n",
    "\n",
    "# Total Mineral Volume\n",
    "min_vol = Mg2SiO4_vol + Fe2SiO4_vol + Ca2Si2O6_vol + Mg2Si2O6_vol + Fe2Si2O6_vol + CaAl2Si2O8_vol + NaAlSi3O8_vol"
   ]
  },
  {
   "cell_type": "code",
   "execution_count": 56,
   "metadata": {},
   "outputs": [
    {
     "name": "stdout",
     "output_type": "stream",
     "text": [
      "The Olivine-Series Minerals (cm^3):\n",
      "Forsterite: 1.14\n",
      "Fayalite: 4.99\n",
      "\n",
      "The Pyroxene-Series Minerals (cm^3):\n",
      "Wollastonite: 1.34\n",
      "Enstatite: 3.77\n",
      "Ferrosilicate: 1.88\n",
      "\n",
      "The Plagioclase-Series Minerals (cm^3):\n",
      "Anorthite: 9.72\n",
      "Albite: 5.3\n",
      "\n",
      "The Total Minerals (cm^3):\n",
      "25.41\n"
     ]
    }
   ],
   "source": [
    "print(\"The Olivine-Series Minerals (cm^3):\")\n",
    "print(f\"Forsterite: {round(Fe2SiO4_vol, 2)}\")\n",
    "print(f\"Fayalite: {round(Fe2SiO4_pct, 2)}\\n\")\n",
    "print(\"The Pyroxene-Series Minerals (cm^3):\")\n",
    "print(f\"Wollastonite: {round(Ca2Si2O6_vol, 2)}\")\n",
    "print(f\"Enstatite: {round(Mg2Si2O6_vol, 2)}\")\n",
    "print(f\"Ferrosilicate: {round(Fe2Si2O6_vol, 2)}\\n\")\n",
    "print(\"The Plagioclase-Series Minerals (cm^3):\")\n",
    "print(f\"Anorthite: {round(CaAl2Si2O8_vol, 2)}\")\n",
    "print(f\"Albite: {round(NaAlSi3O8_vol, 2)}\\n\")\n",
    "print(\"The Total Minerals (cm^3):\")\n",
    "print(f\"{round(min_vol,2)}\")"
   ]
  },
  {
   "cell_type": "code",
   "execution_count": 57,
   "metadata": {},
   "outputs": [],
   "source": [
    "# Mineral Percentages of overall volume (%)\n",
    "# Olivine Series\n",
    "Mg2SiO4_pctvol = (Mg2SiO4_vol / min_vol) * 100 # Forsterite\n",
    "Fe2SiO4_pctvol = (Fe2SiO4_vol / min_vol) * 100 # Fayalite\n",
    "\n",
    "# Pyroxene Series\n",
    "Ca2Si2O6_pctvol = (Ca2Si2O6_vol / min_vol) * 100 # Wollastonite\n",
    "Mg2Si2O6_pctvol = (Mg2Si2O6_vol / min_vol) * 100 # Enstatite\n",
    "Fe2Si2O6_pctvol = (Fe2Si2O6_vol / min_vol) * 100 # Ferrosilicate\n",
    "\n",
    "# Plagioclase Series\n",
    "CaAl2Si2O8_pctvol = (CaAl2Si2O8_vol / min_vol) * 100 # Anorthite\n",
    "NaAlSi3O8_pctvol = (NaAlSi3O8_vol / min_vol) * 100 # Albite"
   ]
  },
  {
   "cell_type": "code",
   "execution_count": 58,
   "metadata": {},
   "outputs": [
    {
     "name": "stdout",
     "output_type": "stream",
     "text": [
      "The Olivine-Series Minerals (% vol):\n",
      "Forsterite: 8.91\n",
      "Fayalite: 4.47\n",
      "\n",
      "The Pyroxene-Series Minerals (% vol):\n",
      "Wollastonite: 5.27\n",
      "Enstatite: 14.84\n",
      "Ferrosilicate: 7.41\n",
      "\n",
      "The Plagioclase-Series Minerals (% vol):\n",
      "Anorthite: 38.25\n",
      "Albite: 20.86\n",
      "\n"
     ]
    }
   ],
   "source": [
    "print(\"The Olivine-Series Minerals (% vol):\")\n",
    "print(f\"Forsterite: {round(Mg2SiO4_pctvol, 2)}\")\n",
    "print(f\"Fayalite: {round(Fe2SiO4_pctvol, 2)}\\n\")\n",
    "print(\"The Pyroxene-Series Minerals (% vol):\")\n",
    "print(f\"Wollastonite: {round(Ca2Si2O6_pctvol, 2)}\")\n",
    "print(f\"Enstatite: {round(Mg2Si2O6_pctvol, 2)}\")\n",
    "print(f\"Ferrosilicate: {round(Fe2Si2O6_pctvol, 2)}\\n\")\n",
    "print(\"The Plagioclase-Series Minerals (% vol):\")\n",
    "print(f\"Anorthite: {round(CaAl2Si2O8_pctvol, 2)}\")\n",
    "print(f\"Albite: {round(NaAlSi3O8_pctvol, 2)}\\n\")"
   ]
  },
  {
   "cell_type": "code",
   "execution_count": 59,
   "metadata": {},
   "outputs": [],
   "source": [
    "# Comparison of % mass and % volume\n",
    "titles = ['Forsterite', 'Fayalite', 'Wollastonite', 'Enstatite', 'Ferrosilicate', 'Anorthite', 'Albite']\n",
    "pct_mass = [Mg2SiO4_pct,Fe2SiO4_pct,Ca2Si2O6_pct,Mg2Si2O6_pct,Fe2Si2O6_pct,CaAl2Si2O8_pct,NaAlSi3O8_pct]\n",
    "pct_vol = [Mg2SiO4_pctvol,Fe2SiO4_pctvol,Ca2Si2O6_pctvol,Mg2Si2O6_pctvol,Fe2Si2O6_pctvol,CaAl2Si2O8_pctvol,NaAlSi3O8_pctvol]"
   ]
  },
  {
   "cell_type": "code",
   "execution_count": 60,
   "metadata": {},
   "outputs": [
    {
     "data": {
      "image/png": "[encoded data removed]",
      "text/plain": [
       "<Figure size 720x504 with 1 Axes>"
      ]
     },
     "metadata": {},
     "output_type": "display_data"
    }
   ],
   "source": [
    "# Creating plot\n",
    "fig = plt.figure(figsize =(10, 7))\n",
    "plt.pie(pct_mass, labels = titles)\n",
    "plt.show()"
   ]
  },
  {
   "cell_type": "code",
   "execution_count": 61,
   "metadata": {},
   "outputs": [
    {
     "data": {
      "image/png": "[encoded data removed]",
      "text/plain": [
       "<Figure size 720x504 with 1 Axes>"
      ]
     },
     "metadata": {},
     "output_type": "display_data"
    }
   ],
   "source": [
    "# Creating plot\n",
    "fig = plt.figure(figsize =(10, 7))\n",
    "plt.pie(pct_vol, labels = titles)\n",
    "plt.show()"
   ]
  },
  {
   "cell_type": "code",
   "execution_count": 62,
   "metadata": {},
   "outputs": [],
   "source": [
    "# Deduced Basalt Density (g cm^-3)\n",
    "basalt_p = basalt_mass_g / min_vol"
   ]
  },
  {
   "cell_type": "markdown",
   "metadata": {},
   "source": [
    "# Model"
   ]
  },
  {
   "cell_type": "code",
   "execution_count": 63,
   "metadata": {},
   "outputs": [
    {
     "name": "stdout",
     "output_type": "stream",
     "text": [
      "Basalt Volume: 1000000 cm^3 (1.0 m^3)\n",
      "Pore Volume: 50000.0 cm^3 (0.05 m^3)\n"
     ]
    }
   ],
   "source": [
    "# Model Base Parameters\n",
    "\n",
    "# Sides on a test cube (cm)\n",
    "x_len = 100\n",
    "y_len = 100\n",
    "z_len = 100\n",
    "\n",
    "# Volume of a test cube (cm^3)\n",
    "xyz_vol = x_len * y_len * z_len\n",
    "\n",
    "# Volume of basalt = xyz_vol\n",
    "basalt_vol = xyz_vol\n",
    "print(f\"Basalt Volume: {basalt_vol} cm^3 ({basalt_vol/(100**3)} m^3)\")\n",
    "\n",
    "# Volume of pore space (i.e. water)\n",
    "pore_vol = (basalt_porosity_pct / 100) * basalt_vol\n",
    "print(f\"Pore Volume: {pore_vol} cm^3 ({pore_vol/(100**3)} m^3)\")"
   ]
  },
  {
   "cell_type": "code",
   "execution_count": 66,
   "metadata": {},
   "outputs": [
    {
     "name": "stdout",
     "output_type": "stream",
     "text": [
      "The Olivine-Series Minerals (% vol):\n",
      "Forsterite: 0.08\n",
      "Fayalite: 0.04\n",
      "\n",
      "The Pyroxene-Series Minerals (% vol):\n",
      "Wollastonite: 0.05\n",
      "Enstatite: 0.14\n",
      "Ferrosilicate: 0.07\n",
      "\n",
      "The Plagioclase-Series Minerals (% vol):\n",
      "Anorthite: 0.36\n",
      "Albite: 0.2\n",
      "\n",
      "Total pore space: 5\n"
     ]
    }
   ],
   "source": [
    "print(\"The Olivine-Series Minerals (% vol):\")\n",
    "print(f\"Forsterite: {round(Mg2SiO4_pctvol*0.95/100, 2)}\")\n",
    "print(f\"Fayalite: {round(Fe2SiO4_pctvol*0.95/100, 2)}\\n\")\n",
    "print(\"The Pyroxene-Series Minerals (% vol):\")\n",
    "print(f\"Wollastonite: {round(Ca2Si2O6_pctvol*0.95/100, 2)}\")\n",
    "print(f\"Enstatite: {round(Mg2Si2O6_pctvol*0.95/100, 2)}\")\n",
    "print(f\"Ferrosilicate: {round(Fe2Si2O6_pctvol*0.95/100, 2)}\\n\")\n",
    "print(\"The Plagioclase-Series Minerals (% vol):\")\n",
    "print(f\"Anorthite: {round(CaAl2Si2O8_pctvol*0.95/100, 2)}\")\n",
    "print(f\"Albite: {round(NaAlSi3O8_pctvol*0.95/100, 2)}\\n\")\n",
    "print(f\"Total pore space: 5\")"
   ]
  },
  {
   "cell_type": "code",
   "execution_count": null,
   "metadata": {},
   "outputs": [],
   "source": []
  }
 ],
 "metadata": {
  "interpreter": {
   "hash": "1f5a9ee26702319cd369ef3e03c3c80aafb7aa74a4afc3a7d4c42cb609aa32fa"
  },
  "kernelspec": {
   "display_name": "Python 3.10.2 ('coding')",
   "language": "python",
   "name": "python3"
  },
  "language_info": {
   "codemirror_mode": {
    "name": "ipython",
    "version": 3
   },
   "file_extension": ".py",
   "mimetype": "text/x-python",
   "name": "python",
   "nbconvert_exporter": "python",
   "pygments_lexer": "ipython3",
   "version": "3.9.7"
  },
  "orig_nbformat": 4
 },
 "nbformat": 4,
 "nbformat_minor": 2
}
