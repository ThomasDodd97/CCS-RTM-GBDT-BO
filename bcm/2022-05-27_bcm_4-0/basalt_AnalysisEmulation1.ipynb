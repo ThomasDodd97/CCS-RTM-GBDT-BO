{
 "cells": [
  {
   "cell_type": "code",
   "execution_count": 3,
   "metadata": {},
   "outputs": [],
   "source": [
    "import sys\n",
    "sys.path.insert(0,'/Users/thomasdodd/Library/CloudStorage/OneDrive-MillfieldEnterprisesLimited/github/Omphalos')\n",
    "sys.path.insert(1,'/Users/thomasdodd/Library/CloudStorage/OneDrive-MillfieldEnterprisesLimited/github')\n",
    "import numpy as np\n",
    "import pandas as pd\n",
    "import xarray as xr\n",
    "\n",
    "import wandb\n",
    "import xgboost as xgb\n",
    "import re\n",
    "\n",
    "from importlib import reload\n",
    "\n",
    "# Import Omphalos modules.\n",
    "from omphalos import file_methods as fm\n",
    "from omphalos import attributes as attr\n",
    "from omphalos import labels as lbls\n",
    "from analysis import helper as hp\n",
    "\n",
    "from matplotlib import pyplot as plt\n",
    "from sklearn.model_selection import train_test_split\n",
    "\n",
    "\n",
    "random_state = 69\n",
    "np.random.state = random_state\n",
    "np.random.seed = random_state"
   ]
  },
  {
   "cell_type": "code",
   "execution_count": 4,
   "metadata": {},
   "outputs": [],
   "source": [
    "# Port in and unpack all the runs we need from the .pkl file.\n",
    "TrainSet_na_dict = fm.unpickle('/Users/thomasdodd/Library/CloudStorage/OneDrive-MillfieldEnterprisesLimited/cambridge/ai4er/easter/mres/CrunchFlow_Work/bcm/2022-05-27_bcm_4-0/basalt_na+.pkl')\n",
    "TrainSet_cl_dict = fm.unpickle('/Users/thomasdodd/Library/CloudStorage/OneDrive-MillfieldEnterprisesLimited/cambridge/ai4er/easter/mres/CrunchFlow_Work/bcm/2022-05-27_bcm_4-0/basalt_cl-.pkl')"
   ]
  },
  {
   "cell_type": "code",
   "execution_count": 5,
   "metadata": {},
   "outputs": [],
   "source": [
    "# Rename all the keys in train_set_cl so that they follow on\n",
    "# from the previous dictionary; this allows merging\n",
    "TrainSet_na_len = len(TrainSet_na_dict.keys())\n",
    "TrainSet_cl_len = len(TrainSet_na_dict.keys())\n",
    "TrainSet_cl_arr = []\n",
    "for key in TrainSet_cl_dict.keys():\n",
    "    TrainSet_cl_arr.append(key)\n",
    "\n",
    "for _ in TrainSet_cl_arr:\n",
    "    old_key = _\n",
    "    new_key = _ + TrainSet_na_len\n",
    "    TrainSet_cl_dict[new_key] = TrainSet_cl_dict[old_key]\n",
    "    del TrainSet_cl_dict[old_key]\n",
    "\n",
    "# Merge the Na+ and Cl- charge balanced dictionaries\n",
    "TrainSet_dict = TrainSet_na_dict | TrainSet_cl_dict"
   ]
  },
  {
   "cell_type": "code",
   "execution_count": 6,
   "metadata": {},
   "outputs": [
    {
     "name": "stdout",
     "output_type": "stream",
     "text": [
      "Returned 5316 files without errors out of a total possible 10000.\n",
      "4684 files had errors.\n",
      "0 files had unhandled errors.\n",
      "File failure rate: 88.11136192626034 %.\n",
      "To see unhandled errors, run with verbose=True.\n",
      "Returned 2471 files without errors out of a total possible 5000.\n",
      "2529 files had errors.\n",
      "0 files had unhandled errors.\n",
      "File failure rate: 102.34722784297855 %.\n",
      "To see unhandled errors, run with verbose=True.\n",
      "Returned 2845 files without errors out of a total possible 5000.\n",
      "2155 files had errors.\n",
      "0 files had unhandled errors.\n",
      "File failure rate: 75.7469244288225 %.\n",
      "To see unhandled errors, run with verbose=True.\n"
     ]
    }
   ],
   "source": [
    "# Filter any error filled runs and create errorless datasets\n",
    "dataset_all_dict, error_all_dict = hp.filter_errors(TrainSet_dict)\n",
    "dataset_na_dict, error_na_dict = hp.filter_errors(TrainSet_na_dict)\n",
    "dataset_cl_dict, error_cl_dict = hp.filter_errors(TrainSet_cl_dict)"
   ]
  },
  {
   "cell_type": "code",
   "execution_count": 7,
   "metadata": {},
   "outputs": [
    {
     "name": "stderr",
     "output_type": "stream",
     "text": [
      "/Users/thomasdodd/Library/CloudStorage/OneDrive-MillfieldEnterprisesLimited/github/Omphalos/omphalos/attributes.py:40: FutureWarning: The frame.append method is deprecated and will be removed from pandas in a future version. Use pandas.concat instead.\n",
      "  species_attrs = species_attrs.append(primary_species(data_set[i], condition), ignore_index=True)\n"
     ]
    },
    {
     "data": {
      "text/html": [
       "<div>\n",
       "<style scoped>\n",
       "    .dataframe tbody tr th:only-of-type {\n",
       "        vertical-align: middle;\n",
       "    }\n",
       "\n",
       "    .dataframe tbody tr th {\n",
       "        vertical-align: top;\n",
       "    }\n",
       "\n",
       "    .dataframe thead th {\n",
       "        text-align: right;\n",
       "    }\n",
       "</style>\n",
       "<table border=\"1\" class=\"dataframe\">\n",
       "  <thead>\n",
       "    <tr style=\"text-align: right;\">\n",
       "      <th></th>\n",
       "      <th>Ca++</th>\n",
       "      <th>Fe++</th>\n",
       "      <th>Mg++</th>\n",
       "      <th>HCO3-</th>\n",
       "    </tr>\n",
       "  </thead>\n",
       "  <tbody>\n",
       "    <tr>\n",
       "      <th>0</th>\n",
       "      <td>0.000030</td>\n",
       "      <td>0.000262</td>\n",
       "      <td>0.000121</td>\n",
       "      <td>0.82</td>\n",
       "    </tr>\n",
       "    <tr>\n",
       "      <th>1</th>\n",
       "      <td>0.000071</td>\n",
       "      <td>0.000244</td>\n",
       "      <td>0.000245</td>\n",
       "      <td>0.82</td>\n",
       "    </tr>\n",
       "    <tr>\n",
       "      <th>2</th>\n",
       "      <td>0.000183</td>\n",
       "      <td>0.000048</td>\n",
       "      <td>0.000124</td>\n",
       "      <td>0.82</td>\n",
       "    </tr>\n",
       "    <tr>\n",
       "      <th>3</th>\n",
       "      <td>0.000157</td>\n",
       "      <td>0.000085</td>\n",
       "      <td>0.000127</td>\n",
       "      <td>0.82</td>\n",
       "    </tr>\n",
       "    <tr>\n",
       "      <th>4</th>\n",
       "      <td>0.000053</td>\n",
       "      <td>0.000019</td>\n",
       "      <td>0.000237</td>\n",
       "      <td>0.82</td>\n",
       "    </tr>\n",
       "    <tr>\n",
       "      <th>...</th>\n",
       "      <td>...</td>\n",
       "      <td>...</td>\n",
       "      <td>...</td>\n",
       "      <td>...</td>\n",
       "    </tr>\n",
       "    <tr>\n",
       "      <th>5311</th>\n",
       "      <td>0.000263</td>\n",
       "      <td>0.000020</td>\n",
       "      <td>0.000210</td>\n",
       "      <td>0.82</td>\n",
       "    </tr>\n",
       "    <tr>\n",
       "      <th>5312</th>\n",
       "      <td>0.000245</td>\n",
       "      <td>0.000107</td>\n",
       "      <td>0.000123</td>\n",
       "      <td>0.82</td>\n",
       "    </tr>\n",
       "    <tr>\n",
       "      <th>5313</th>\n",
       "      <td>0.000176</td>\n",
       "      <td>0.000031</td>\n",
       "      <td>0.000255</td>\n",
       "      <td>0.82</td>\n",
       "    </tr>\n",
       "    <tr>\n",
       "      <th>5314</th>\n",
       "      <td>0.000272</td>\n",
       "      <td>0.000215</td>\n",
       "      <td>0.000171</td>\n",
       "      <td>0.82</td>\n",
       "    </tr>\n",
       "    <tr>\n",
       "      <th>5315</th>\n",
       "      <td>0.000080</td>\n",
       "      <td>0.000170</td>\n",
       "      <td>0.000015</td>\n",
       "      <td>0.82</td>\n",
       "    </tr>\n",
       "  </tbody>\n",
       "</table>\n",
       "<p>5316 rows × 4 columns</p>\n",
       "</div>"
      ],
      "text/plain": [
       "          Ca++      Fe++      Mg++  HCO3-\n",
       "0     0.000030  0.000262  0.000121   0.82\n",
       "1     0.000071  0.000244  0.000245   0.82\n",
       "2     0.000183  0.000048  0.000124   0.82\n",
       "3     0.000157  0.000085  0.000127   0.82\n",
       "4     0.000053  0.000019  0.000237   0.82\n",
       "...        ...       ...       ...    ...\n",
       "5311  0.000263  0.000020  0.000210   0.82\n",
       "5312  0.000245  0.000107  0.000123   0.82\n",
       "5313  0.000176  0.000031  0.000255   0.82\n",
       "5314  0.000272  0.000215  0.000171   0.82\n",
       "5315  0.000080  0.000170  0.000015   0.82\n",
       "\n",
       "[5316 rows x 4 columns]"
      ]
     },
     "execution_count": 7,
     "metadata": {},
     "output_type": "execute_result"
    }
   ],
   "source": [
    "attributes_all_df = attr.get_condition(dataset_all_dict,\"basalt\",species_concs=True)\n",
    "attributes_all_df = attributes_all_df.loc[:, ['Ca++', 'Fe++', 'Mg++', 'HCO3-']]\n",
    "attributes_all_df"
   ]
  },
  {
   "cell_type": "code",
   "execution_count": 8,
   "metadata": {},
   "outputs": [
    {
     "data": {
      "text/html": [
       "<div>\n",
       "<style scoped>\n",
       "    .dataframe tbody tr th:only-of-type {\n",
       "        vertical-align: middle;\n",
       "    }\n",
       "\n",
       "    .dataframe tbody tr th {\n",
       "        vertical-align: top;\n",
       "    }\n",
       "\n",
       "    .dataframe thead th {\n",
       "        text-align: right;\n",
       "    }\n",
       "</style>\n",
       "<table border=\"1\" class=\"dataframe\">\n",
       "  <thead>\n",
       "    <tr style=\"text-align: right;\">\n",
       "      <th></th>\n",
       "      <th>Ca++</th>\n",
       "      <th>Fe++</th>\n",
       "      <th>Mg++</th>\n",
       "      <th>HCO3-</th>\n",
       "      <th>pH</th>\n",
       "    </tr>\n",
       "  </thead>\n",
       "  <tbody>\n",
       "    <tr>\n",
       "      <th>0</th>\n",
       "      <td>0.000030</td>\n",
       "      <td>0.000262</td>\n",
       "      <td>0.000121</td>\n",
       "      <td>0.82</td>\n",
       "      <td>4.533987010208772</td>\n",
       "    </tr>\n",
       "    <tr>\n",
       "      <th>1</th>\n",
       "      <td>0.000071</td>\n",
       "      <td>0.000244</td>\n",
       "      <td>0.000245</td>\n",
       "      <td>0.82</td>\n",
       "      <td>4.6355729656454905</td>\n",
       "    </tr>\n",
       "    <tr>\n",
       "      <th>2</th>\n",
       "      <td>0.000183</td>\n",
       "      <td>0.000048</td>\n",
       "      <td>0.000124</td>\n",
       "      <td>0.82</td>\n",
       "      <td>4.266688527662164</td>\n",
       "    </tr>\n",
       "    <tr>\n",
       "      <th>3</th>\n",
       "      <td>0.000157</td>\n",
       "      <td>0.000085</td>\n",
       "      <td>0.000127</td>\n",
       "      <td>0.82</td>\n",
       "      <td>4.93744987421191</td>\n",
       "    </tr>\n",
       "    <tr>\n",
       "      <th>4</th>\n",
       "      <td>0.000053</td>\n",
       "      <td>0.000019</td>\n",
       "      <td>0.000237</td>\n",
       "      <td>0.82</td>\n",
       "      <td>4.320066725459632</td>\n",
       "    </tr>\n",
       "    <tr>\n",
       "      <th>...</th>\n",
       "      <td>...</td>\n",
       "      <td>...</td>\n",
       "      <td>...</td>\n",
       "      <td>...</td>\n",
       "      <td>...</td>\n",
       "    </tr>\n",
       "    <tr>\n",
       "      <th>5311</th>\n",
       "      <td>0.000263</td>\n",
       "      <td>0.000020</td>\n",
       "      <td>0.000210</td>\n",
       "      <td>0.82</td>\n",
       "      <td>3.5183910175187125</td>\n",
       "    </tr>\n",
       "    <tr>\n",
       "      <th>5312</th>\n",
       "      <td>0.000245</td>\n",
       "      <td>0.000107</td>\n",
       "      <td>0.000123</td>\n",
       "      <td>0.82</td>\n",
       "      <td>3.036155925072882</td>\n",
       "    </tr>\n",
       "    <tr>\n",
       "      <th>5313</th>\n",
       "      <td>0.000176</td>\n",
       "      <td>0.000031</td>\n",
       "      <td>0.000255</td>\n",
       "      <td>0.82</td>\n",
       "      <td>3.4486894430649</td>\n",
       "    </tr>\n",
       "    <tr>\n",
       "      <th>5314</th>\n",
       "      <td>0.000272</td>\n",
       "      <td>0.000215</td>\n",
       "      <td>0.000171</td>\n",
       "      <td>0.82</td>\n",
       "      <td>3.747021276313699</td>\n",
       "    </tr>\n",
       "    <tr>\n",
       "      <th>5315</th>\n",
       "      <td>0.000080</td>\n",
       "      <td>0.000170</td>\n",
       "      <td>0.000015</td>\n",
       "      <td>0.82</td>\n",
       "      <td>3.6964459784268895</td>\n",
       "    </tr>\n",
       "  </tbody>\n",
       "</table>\n",
       "<p>5316 rows × 5 columns</p>\n",
       "</div>"
      ],
      "text/plain": [
       "          Ca++      Fe++      Mg++  HCO3-                  pH\n",
       "0     0.000030  0.000262  0.000121   0.82   4.533987010208772\n",
       "1     0.000071  0.000244  0.000245   0.82  4.6355729656454905\n",
       "2     0.000183  0.000048  0.000124   0.82   4.266688527662164\n",
       "3     0.000157  0.000085  0.000127   0.82    4.93744987421191\n",
       "4     0.000053  0.000019  0.000237   0.82   4.320066725459632\n",
       "...        ...       ...       ...    ...                 ...\n",
       "5311  0.000263  0.000020  0.000210   0.82  3.5183910175187125\n",
       "5312  0.000245  0.000107  0.000123   0.82   3.036155925072882\n",
       "5313  0.000176  0.000031  0.000255   0.82     3.4486894430649\n",
       "5314  0.000272  0.000215  0.000171   0.82   3.747021276313699\n",
       "5315  0.000080  0.000170  0.000015   0.82  3.6964459784268895\n",
       "\n",
       "[5316 rows x 5 columns]"
      ]
     },
     "execution_count": 8,
     "metadata": {},
     "output_type": "execute_result"
    }
   ],
   "source": [
    "def get_condition_ph(complete_dict, condition):\n",
    "    index_vals = []\n",
    "    ph_vals = []\n",
    "    for _ in complete_dict.keys():\n",
    "        index_vals.append(_)\n",
    "        ph_vals.append(complete_dict[_].condition_blocks[condition].contents['pH'])\n",
    "    ph_df = pd.DataFrame(ph_vals, index=index_vals, columns=['pH'])\n",
    "    ph_df = ph_df.reset_index(drop=True)\n",
    "    return ph_df\n",
    "\n",
    "ph_df = get_condition_ph(dataset_all_dict, \"basalt\")\n",
    "\n",
    "attributes_all_df =  pd.concat([attributes_all_df, ph_df], axis=1)\n",
    "attributes_all_df"
   ]
  },
  {
   "cell_type": "code",
   "execution_count": 9,
   "metadata": {},
   "outputs": [],
   "source": [
    "def NrFormatFixer_XYZTime(xr_DataSet):\n",
    "    for _ in xr_DataSet.X.values:\n",
    "        for __ in xr_DataSet.Y.values:\n",
    "            for ___ in xr_DataSet.Z.values:\n",
    "                for ____ in xr_DataSet.time.values:\n",
    "                    for _____ in xr_DataSet.data_vars:\n",
    "                        xr_DataArray = xr_DataSet[f'{_____}'].loc[dict(X=f'{_}',Y=f'{__}',Z=f'{___}',time=f'{____}')]\n",
    "                        for ______ in range(0,len(xr_DataArray)):\n",
    "                            string = str(xr_DataArray.values[______])\n",
    "                            new_val = string\n",
    "                            if re.match(\"^\\d+\\.\\d+-\\d+$\",string):\n",
    "                                i_rev = 1\n",
    "                                str_len = len(string)\n",
    "                                for _______ in reversed(string):\n",
    "                                    if _______ == \"-\":\n",
    "                                        break\n",
    "                                    else:\n",
    "                                        i_rev+=1\n",
    "                                        continue\n",
    "                                i = str_len - i_rev\n",
    "                                new_string = string[:i] + \"e\" + string[i:]\n",
    "                                new_val = new_string\n",
    "                            xr_DataArray.values[______] = new_val\n",
    "    return xr_DataSet"
   ]
  },
  {
   "cell_type": "code",
   "execution_count": 10,
   "metadata": {},
   "outputs": [],
   "source": [
    "def NrFormatFixer_XYZ(xr_DataSet):\n",
    "    for _ in xr_DataSet.X.values:\n",
    "        for __ in xr_DataSet.Y.values:\n",
    "            for ___ in xr_DataSet.Z.values:\n",
    "                for _____ in xr_DataSet.data_vars:\n",
    "                    xr_DataArray = xr_DataSet[f'{_____}'].loc[dict(X=f'{_}',Y=f'{__}',Z=f'{___}')]\n",
    "                    for ______ in range(0,len(xr_DataArray)):\n",
    "                        string = str(xr_DataArray.values[______])\n",
    "                        new_val = string\n",
    "                        if re.match(\"^\\d+\\.\\d+-\\d+$\",string):\n",
    "                            i_rev = 1\n",
    "                            str_len = len(string)\n",
    "                            for _______ in reversed(string):\n",
    "                                if _______ == \"-\":\n",
    "                                    break\n",
    "                                else:\n",
    "                                    i_rev+=1\n",
    "                                    continue\n",
    "                            i = str_len - i_rev\n",
    "                            new_string = string[:i] + \"e\" + string[i:]\n",
    "                            new_val = new_string\n",
    "                        xr_DataArray.values[______] = new_val\n",
    "    return xr_DataSet"
   ]
  },
  {
   "cell_type": "code",
   "execution_count": 11,
   "metadata": {},
   "outputs": [],
   "source": [
    "# Retrieval of xarray datasets containing final and initial mineralogical volume fractions\n",
    "FinalVols_ds = lbls.raw(dataset_all_dict, 'volume')\n",
    "FinalVols_ds = NrFormatFixer_XYZTime(FinalVols_ds)\n",
    "FinalVols_ds = FinalVols_ds.astype(float)\n",
    "\n",
    "InitialVols_ds = attr.initial_conditions(dataset_all_dict, concentrations=False, minerals=True)\n",
    "InitialVols_ds = NrFormatFixer_XYZ(InitialVols_ds)\n",
    "InitialVols_ds = InitialVols_ds.astype(float)\n",
    "\n",
    "# Generation of an xarray dataset representing change in mineralogical volume fractions\n",
    "DeltVolFrac_ds = FinalVols_ds - InitialVols_ds\n",
    "\n",
    "# Generation of an narrowed-down xarray dataset containing only data on a specific time and place\n",
    "DeltVolFrac_TenYr_ds = DeltVolFrac_ds.sel(X=0.5,Y=0.5,Z=0.5,time=10)\n",
    "\n",
    "# Generation of an additional xarray variable entitled Carbonates; placed into the above xarray dataset\n",
    "DeltVolFrac_TenYr_ds = DeltVolFrac_TenYr_ds.assign(Carbonates=lambda DeltVolFrac_TenYr_ds: DeltVolFrac_TenYr_ds.Calcite + DeltVolFrac_TenYr_ds.Siderite + DeltVolFrac_TenYr_ds.Magnesite)"
   ]
  },
  {
   "cell_type": "code",
   "execution_count": 12,
   "metadata": {},
   "outputs": [],
   "source": [
    "# For the ML problem define attributes and labels datasets\n",
    "attributes = attributes_all_df\n",
    "labels = DeltVolFrac_TenYr_ds\n",
    "\n",
    "# Split the ML datasets into x's (predictor arrays) and y's (target arrays)\n",
    "x = attributes.loc[:, ['Ca++', 'Fe++','Mg++', 'pH']].astype(float)\n",
    "y = DeltVolFrac_TenYr_ds.Carbonates.values.astype(float)\n",
    "\n",
    "# Generate a numpy matrix from a pandas dataframe\n",
    "x = x.to_numpy()\n",
    "\n",
    "# Normalisation array for each of the columns in x\n",
    "# Essentially the top values that are found in each of these columns\n",
    "x_norm = [3.0E-4, 3.0E-4, 3.0E-4, 5]\n",
    "\n",
    "# Normalisation of the np matrix using the x_norm array\n",
    "for i, norm in enumerate(x_norm):\n",
    "    x[:, i] = x[:, i]/norm\n",
    "\n",
    "# Generate a vertical array of target values.\n",
    "y = y.reshape(-1,1)\n",
    "# y = y * 1e4 ?? Is this normalisation Angus? If so, I'd have done it like this:\n",
    "y_norm = max(y)\n",
    "y = y / y_norm\n",
    "\n",
    "x_train, x_test, y_train, y_test = train_test_split(x, y, test_size=0.1, random_state=random_state)"
   ]
  },
  {
   "cell_type": "code",
   "execution_count": 15,
   "metadata": {},
   "outputs": [
    {
     "data": {
      "text/html": [
       "Finishing last run (ID:nic1d7ht) before initializing another..."
      ],
      "text/plain": [
       "<IPython.core.display.HTML object>"
      ]
     },
     "metadata": {},
     "output_type": "display_data"
    },
    {
     "data": {
      "text/html": [
       "Waiting for W&B process to finish... <strong style=\"color:green\">(success).</strong>"
      ],
      "text/plain": [
       "<IPython.core.display.HTML object>"
      ]
     },
     "metadata": {},
     "output_type": "display_data"
    },
    {
     "data": {
      "application/vnd.jupyter.widget-view+json": {
       "model_id": "116305c40d9f4e809948f6041182c459",
       "version_major": 2,
       "version_minor": 0
      },
      "text/plain": [
       "VBox(children=(Label(value='0.000 MB of 0.000 MB uploaded (0.000 MB deduped)\\r'), FloatProgress(value=1.0, max…"
      ]
     },
     "metadata": {},
     "output_type": "display_data"
    },
    {
     "data": {
      "text/html": [
       "Synced <strong style=\"color:#cdcd00\">misunderstood-shape-5</strong>: <a href=\"https://wandb.ai/tjhd97/bcm_4-0/runs/nic1d7ht\" target=\"_blank\">https://wandb.ai/tjhd97/bcm_4-0/runs/nic1d7ht</a><br/>Synced 5 W&B file(s), 0 media file(s), 0 artifact file(s) and 0 other file(s)"
      ],
      "text/plain": [
       "<IPython.core.display.HTML object>"
      ]
     },
     "metadata": {},
     "output_type": "display_data"
    },
    {
     "data": {
      "text/html": [
       "Find logs at: <code>./wandb/run-20220531_163848-nic1d7ht/logs</code>"
      ],
      "text/plain": [
       "<IPython.core.display.HTML object>"
      ]
     },
     "metadata": {},
     "output_type": "display_data"
    },
    {
     "data": {
      "text/html": [
       "Successfully finished last run (ID:nic1d7ht). Initializing new run:<br/>"
      ],
      "text/plain": [
       "<IPython.core.display.HTML object>"
      ]
     },
     "metadata": {},
     "output_type": "display_data"
    },
    {
     "data": {
      "text/html": [
       "Tracking run with wandb version 0.12.17"
      ],
      "text/plain": [
       "<IPython.core.display.HTML object>"
      ]
     },
     "metadata": {},
     "output_type": "display_data"
    },
    {
     "data": {
      "text/html": [
       "Run data is saved locally in <code>/Users/thomasdodd/Library/CloudStorage/OneDrive-MillfieldEnterprisesLimited/Cambridge/AI4ER/Easter/MRes/CrunchFlow_Work/bcm/2022-05-27_bcm_4-0/wandb/run-20220531_163926-2wkgksrm</code>"
      ],
      "text/plain": [
       "<IPython.core.display.HTML object>"
      ]
     },
     "metadata": {},
     "output_type": "display_data"
    },
    {
     "data": {
      "text/html": [
       "Syncing run <strong><a href=\"https://wandb.ai/tjhd97/bcm_4-0/runs/2wkgksrm\" target=\"_blank\">robust-sea-6</a></strong> to <a href=\"https://wandb.ai/tjhd97/bcm_4-0\" target=\"_blank\">Weights & Biases</a> (<a href=\"https://wandb.me/run\" target=\"_blank\">docs</a>)<br/>"
      ],
      "text/plain": [
       "<IPython.core.display.HTML object>"
      ]
     },
     "metadata": {},
     "output_type": "display_data"
    },
    {
     "ename": "KeyError",
     "evalue": "'mphe'",
     "output_type": "error",
     "traceback": [
      "\u001b[0;31m---------------------------------------------------------------------------\u001b[0m",
      "\u001b[0;31mKeyError\u001b[0m                                  Traceback (most recent call last)",
      "File \u001b[0;32m<timed exec>:66\u001b[0m, in \u001b[0;36m<module>\u001b[0;34m\u001b[0m\n",
      "\u001b[0;31mKeyError\u001b[0m: 'mphe'"
     ]
    }
   ],
   "source": [
    "%%time\n",
    "\n",
    "xgb_defaults = {\n",
    "    'tree_method': 'hist',\n",
    "    'gamma': 0,\n",
    "    'mds': 0,\n",
    "    'eta': 0.01,\n",
    "    'l1' : 0,\n",
    "    'l2' : 1,\n",
    "    'max_depth' : 0,\n",
    "    'max_leaves': 6,\n",
    "    'objective': 'reg:squarederror',\n",
    "    'max_bin': 10000,\n",
    "    'grow_policy': 'lossguide'\n",
    "}\n",
    "\n",
    "config_defaults = {\n",
    "    'tree_method': 'hist',\n",
    "    'gamma': 0,\n",
    "    'mds': 0,\n",
    "    'eta': 0.009829,\n",
    "    'l1' : 0.09512,\n",
    "    'l2' : 6.852,\n",
    "    'max_depth' : 13,\n",
    "    'objective': 'reg:pseudohubererror'\n",
    "}\n",
    "\n",
    "config_defaults = {\n",
    "    'tree_method': 'hist',\n",
    "    'gamma': 0,\n",
    "    'mds': 0,\n",
    "    'eta': 0.007711,\n",
    "    'l1' : 9.942,\n",
    "    'l2' : 6.002,\n",
    "    'max_depth' : 11,\n",
    "    'objective': 'reg:pseudohubererror'\n",
    "}\n",
    "\n",
    "wandb.init(config=xgb_defaults, project='bcm_4-0')\n",
    "\n",
    "dtrain = xgb.DMatrix(x_train, label=y_train)\n",
    "dtest = xgb.DMatrix(x_test, label=y_test)\n",
    "\n",
    "evallist = [(dtest, 'eval'), (dtrain, 'train')]\n",
    "\n",
    "params = {'max_depth': wandb.config.max_depth,\n",
    "            'tree_method': wandb.config.tree_method,\n",
    "            'max_delta_step': wandb.config.mds,\n",
    "            'eta': wandb.config.eta,\n",
    "            'objective': wandb.config.objective,\n",
    "            'alpha': wandb.config.l1,\n",
    "            'lambda': wandb.config.l2,\n",
    "            'gamma': wandb.config.gamma,\n",
    "            'max_leaves': wandb.config.max_leaves,\n",
    "            'max_bin': wandb.config.max_bin,\n",
    "            'grow_policy': wandb.config.grow_policy\n",
    "        }\n",
    "\n",
    "# Use nested list to define feature interaction constraints\n",
    "#params_constrained['interaction_constraints'] = '[[0], [1, 2, 3, 4]]'\n",
    "#params_constrained['monotone_constraints'] = \"(1,0,1,0,0)\"\n",
    "\n",
    "results = {}\n",
    "\n",
    "num_round = 50000\n",
    "bst = xgb.train(params, dtrain, num_round, evallist, evals_result=results, verbose_eval=False, callbacks=[wandb.xgboost.WandbCallback()])\n",
    "wandb.log({\"val_loss\" : results['rmse'][-1]})"
   ]
  },
  {
   "cell_type": "code",
   "execution_count": 31,
   "metadata": {},
   "outputs": [
    {
     "data": {
      "text/plain": [
       "Text(-0.1, 1.05, '(a)')"
      ]
     },
     "execution_count": 31,
     "metadata": {},
     "output_type": "execute_result"
    },
    {
     "data": {
      "image/png": "[encoded data removed]",
      "text/plain": [
       "<Figure size 1152x720 with 1 Axes>"
      ]
     },
     "metadata": {
      "needs_background": "light"
     },
     "output_type": "display_data"
    }
   ],
   "source": [
    "from matplotlib import pyplot\n",
    "\n",
    "loss_key = 'rmse'\n",
    "fontsize = 20\n",
    "\n",
    "epochs = len(results['train'][loss_key])\n",
    "x_axis = range(0, epochs)\n",
    "# plot log loss\n",
    "fig, ax = plt.subplots(figsize=(16,10))\n",
    "ax.plot(x_axis, (results['train'][loss_key]), label='BCM Training RMSE')\n",
    "ax.plot(x_axis, (results['eval'][loss_key]), label='BCM Testing RMSE')\n",
    "# ax.set_ylim(0, 0.00004)\n",
    "ax.legend(fontsize=fontsize)\n",
    "ax.tick_params('both', labelsize=18)\n",
    "ax.set_ylabel('Root Mean Squared Error', fontsize=fontsize)\n",
    "ax.set_xlabel('Training Epochs', fontsize=fontsize)\n",
    "ax.text(-0.1, 1.05, '(a)', transform=ax.transAxes, size=20)\n",
    "# fig.savefig('figures/rifle_training.png', dpi=300)\n"
   ]
  },
  {
   "cell_type": "code",
   "execution_count": 49,
   "metadata": {},
   "outputs": [
    {
     "data": {
      "text/plain": [
       "<matplotlib.collections.PathCollection at 0x18f00a050>"
      ]
     },
     "execution_count": 49,
     "metadata": {},
     "output_type": "execute_result"
    },
    {
     "data": {
      "image/png": "[encoded data removed]",
      "text/plain": [
       "<Figure size 640x480 with 1 Axes>"
      ]
     },
     "metadata": {},
     "output_type": "display_data"
    }
   ],
   "source": [
    "# Plot Normalised [Ca++] vs Normalised Tot. Carbonates in Eval Data\n",
    "# x_test ca fe mg ph\n",
    "# y_test carbonates\n",
    "x = x_test[:,3]\n",
    "y = y_test\n",
    "\n",
    "\n",
    "\n",
    "\n",
    "\n",
    "\n",
    "\n",
    "\n",
    "\n",
    "\n",
    "plt.scatter(x, y)"
   ]
  },
  {
   "cell_type": "code",
   "execution_count": 42,
   "metadata": {},
   "outputs": [
    {
     "data": {
      "image/png": "[encoded data removed]",
      "text/plain": [
       "<Figure size 2500x1600 with 4 Axes>"
      ]
     },
     "metadata": {},
     "output_type": "display_data"
    }
   ],
   "source": [
    "fig = plt.figure(figsize=(25, 16))\n",
    "\n",
    "plt.style.use('default')\n",
    "\n",
    "# Generate uneven subplots\n",
    "sub1 = fig.add_subplot(2,2,1)\n",
    "sub2 = fig.add_subplot(2,2,2)\n",
    "sub3 = fig.add_subplot(2,2,3)\n",
    "sub4 = fig.add_subplot(2,2,4)\n",
    "\n",
    "axis_list = [sub1, sub2, sub3, sub4]\n",
    "\n",
    "species_list = ['Ca++', 'Fe++','Mg++', 'pH']\n",
    "axis_labels = ['[Ca++] (arb.)', '[Fe++] (arb.)','[Mg++] (arb.)', 'pH (arb.)']\n",
    "\n",
    "samples = 30\n",
    "dims = 4\n",
    "plot_vars = np.arange(dims)\n",
    "\n",
    "predict_range = (0,1)\n",
    "\n",
    "defaults = np.ones((samples, dims))\n",
    "\n",
    "defaults[:,0] = 1.5\n",
    "defaults[:,1] = 8.8\n",
    "defaults[:,2] = 5.4\n",
    "defaults[:,3] = 9.7\n",
    "n=0\n",
    "\n",
    "x_norm = [3.0E-4, 3.0E-4, 3.0E-4, 5]\n",
    "\n",
    "for plot_var, x_label, species, ax, norm in zip(plot_vars, axis_labels, species_list, axis_list, x_norm):\n",
    "    defaults = np.ones((samples, dims))\n",
    "    # Default (Druhan 2014)\n",
    "    defaults[:,0] = 1.5 / 3.0E-4\n",
    "    defaults[:,1] = 8.8 / 3.0E-4\n",
    "    defaults[:,2] = 5.4 / 3.0E-4\n",
    "    defaults[:,3] = 9.7 / 5\n",
    "    path = '/Users/thomasdodd/Library/CloudStorage/OneDrive-MillfieldEnterprisesLimited/Cambridge/AI4ER/Easter/MRes/CrunchFlow_Work/bcm/2022-05-27_bcm_4-0/{}.pkl'.format(species)\n",
    "\n",
    "    defaults[:,plot_var] =  np.linspace(predict_range[0], predict_range[1], len(defaults[:, plot_var]))\n",
    "    \n",
    "    ypred = bst.predict(xgb.DMatrix(defaults))\n",
    "    ypred = (ypred / (0.6389136261 * 100)) * 100\n",
    "\n",
    "    sweep_x, sweep_y = gpfp.get_sweep(path, species, 'amendment', ('FeS(am)', 'FeS34(am)'))\n",
    "    sweep_y = (sweep_y / (0.6389136261 * 100)) * 100\n",
    "    ax.plot(defaults[:, plot_var] * x_norm[plot_var], ypred * 1e-4, label='GBTree fit')\n",
    "    \n",
    "    ax.set_xlabel(x_label, fontsize=20)\n",
    "    ax.set_ylabel('Percentage vol. frac. increase (%)', fontsize=20)\n",
    "    ax.tick_params('both', labelsize=18)\n",
    "    ax.set_xlim(-1, 31)\n",
    "    ax.set_ylim(-0.003, 0.09)\n",
    "\n",
    "    ax.text(-0.1, 1.05, '({})'.format(string.ascii_lowercase[n]), transform=ax.transAxes, size=20)\n",
    "    \n",
    "    n = n+1\n",
    "            \n",
    "    ax.scatter(sweep_x, sweep_y, c=\"k\", marker='+', s=100,label='RTM results')\n",
    "    \n",
    "    \n",
    "sub5.legend(('GBT fit', 'RTM results'), fontsize=20, bbox_to_anchor=(1, 0, 1, 1), loc=\"lower left\", ncol=1)"
   ]
  },
  {
   "cell_type": "code",
   "execution_count": null,
   "metadata": {},
   "outputs": [],
   "source": []
  },
  {
   "cell_type": "code",
   "execution_count": null,
   "metadata": {},
   "outputs": [],
   "source": []
  }
 ],
 "metadata": {
  "interpreter": {
   "hash": "296a52c54e27bbbcd48798fb7fd1a88824ee79f86959dd60c8f5f391966dbb41"
  },
  "kernelspec": {
   "display_name": "Python 3.10.4 ('omphalos')",
   "language": "python",
   "name": "python3"
  },
  "language_info": {
   "codemirror_mode": {
    "name": "ipython",
    "version": 3
   },
   "file_extension": ".py",
   "mimetype": "text/x-python",
   "name": "python",
   "nbconvert_exporter": "python",
   "pygments_lexer": "ipython3",
   "version": "3.10.4"
  },
  "orig_nbformat": 4
 },
 "nbformat": 4,
 "nbformat_minor": 2
}
