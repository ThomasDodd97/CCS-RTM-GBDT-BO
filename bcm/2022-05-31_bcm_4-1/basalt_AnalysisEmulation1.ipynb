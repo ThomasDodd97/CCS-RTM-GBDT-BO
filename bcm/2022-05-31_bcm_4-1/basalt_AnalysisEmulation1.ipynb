{
 "cells": [
  {
   "cell_type": "code",
   "execution_count": 2,
   "metadata": {},
   "outputs": [
    {
     "name": "stderr",
     "output_type": "stream",
     "text": [
      "/Users/thomasdodd/opt/anaconda3/envs/omphalos/lib/python3.10/site-packages/xgboost/compat.py:36: FutureWarning: pandas.Int64Index is deprecated and will be removed from pandas in a future version. Use pandas.Index with the appropriate dtype instead.\n",
      "  from pandas import MultiIndex, Int64Index\n"
     ]
    }
   ],
   "source": [
    "import sys\n",
    "sys.path.insert(0,'/Users/thomasdodd/Library/CloudStorage/OneDrive-MillfieldEnterprisesLimited/github/Omphalos')\n",
    "sys.path.insert(1,'/Users/thomasdodd/Library/CloudStorage/OneDrive-MillfieldEnterprisesLimited/github')\n",
    "import numpy as np\n",
    "import pandas as pd\n",
    "import xarray as xr\n",
    "\n",
    "import wandb\n",
    "import xgboost as xgb\n",
    "import re\n",
    "\n",
    "from importlib import reload\n",
    "\n",
    "# Import Omphalos modules.\n",
    "from omphalos import file_methods as fm\n",
    "from omphalos import attributes as attr\n",
    "from omphalos import labels as lbls\n",
    "from analysis import helper as hp\n",
    "\n",
    "from matplotlib import pyplot as plt\n",
    "from sklearn.model_selection import train_test_split\n",
    "\n",
    "random_state = 69\n",
    "np.random.state = random_state\n",
    "np.random.seed = random_state"
   ]
  },
  {
   "cell_type": "markdown",
   "metadata": {},
   "source": [
    "# Training Data Import & Cleaning"
   ]
  },
  {
   "cell_type": "code",
   "execution_count": 11,
   "metadata": {},
   "outputs": [
    {
     "name": "stdout",
     "output_type": "stream",
     "text": [
      "4992\n",
      "9986\n"
     ]
    }
   ],
   "source": [
    "# Port in and unpack all the runs we need from the .pkl file.\n",
    "TrainSet_cl_dict_1 = fm.unpickle('/Users/thomasdodd/Library/CloudStorage/OneDrive-MillfieldEnterprisesLimited/cambridge/ai4er/easter/mres/CrunchFlow_Work/bcm/2022-05-31_bcm_4-1/basalt_cl-.pkl')\n",
    "TrainSet_cl_dict_2 = fm.unpickle('/Users/thomasdodd/Library/CloudStorage/OneDrive-MillfieldEnterprisesLimited/cambridge/ai4er/easter/mres/CrunchFlow_Work/bcm/2022-05-31_bcm_4-1/basalt_cl-_2.pkl')"
   ]
  },
  {
   "cell_type": "code",
   "execution_count": 18,
   "metadata": {},
   "outputs": [
    {
     "name": "stdout",
     "output_type": "stream",
     "text": [
      "14978\n"
     ]
    }
   ],
   "source": [
    "# Merging the two dictionaries\n",
    "TrainSet_cl_1_len = len(TrainSet_cl_dict_1.keys())\n",
    "TrainSet_cl_2_len = len(TrainSet_cl_dict_2.keys())\n",
    "# Creating an array of all the keys in second dict\n",
    "TrainSet_cl_2_OldKeys_arr = []\n",
    "for key in TrainSet_cl_dict_2.keys():\n",
    "    TrainSet_cl_2_OldKeys_arr.append(key)\n",
    "# Creating an array of all the new key numbers needed\n",
    "TrainSet_cl_2_NewKeys_arr = [x + TrainSet_cl_1_len for x in TrainSet_cl_2_OldKeys_arr]\n",
    "# Creating a new dictionary of old keys : new keys\n",
    "TrainSet_cl_2_OldNewKeys_dict = dict(zip(TrainSet_cl_2_OldKeys_arr, TrainSet_cl_2_NewKeys_arr))\n",
    "# Updating the keys in the second dictionary using the new dictionary of old keys : new keys\n",
    "TrainSet_cl_dict_2 = dict([(TrainSet_cl_2_OldNewKeys_dict.get(key), value) for key, value in TrainSet_cl_dict_2.items()])\n",
    "# Merge the two different dictionaries with their newly continuous sets of keys\n",
    "TrainSet_cl_dict = TrainSet_cl_dict_1 | TrainSet_cl_dict_2"
   ]
  },
  {
   "cell_type": "code",
   "execution_count": 19,
   "metadata": {},
   "outputs": [
    {
     "name": "stdout",
     "output_type": "stream",
     "text": [
      "Returned 14901 files without errors out of a total possible 14978.\n",
      "77 files had errors.\n",
      "0 files had unhandled errors.\n",
      "File failure rate: 0.5167438426951211 %.\n",
      "To see unhandled errors, run with verbose=True.\n"
     ]
    }
   ],
   "source": [
    "# Filter all errored files out of the dictionary\n",
    "dataset_dict, error_dict = hp.filter_errors(TrainSet_cl_dict)"
   ]
  },
  {
   "cell_type": "code",
   "execution_count": 20,
   "metadata": {},
   "outputs": [
    {
     "name": "stderr",
     "output_type": "stream",
     "text": [
      "/Users/thomasdodd/Library/CloudStorage/OneDrive-MillfieldEnterprisesLimited/github/Omphalos/omphalos/attributes.py:40: FutureWarning: The frame.append method is deprecated and will be removed from pandas in a future version. Use pandas.concat instead.\n",
      "  species_attrs = species_attrs.append(primary_species(data_set[i], condition), ignore_index=True)\n"
     ]
    },
    {
     "data": {
      "text/html": [
       "<div>\n",
       "<style scoped>\n",
       "    .dataframe tbody tr th:only-of-type {\n",
       "        vertical-align: middle;\n",
       "    }\n",
       "\n",
       "    .dataframe tbody tr th {\n",
       "        vertical-align: top;\n",
       "    }\n",
       "\n",
       "    .dataframe thead th {\n",
       "        text-align: right;\n",
       "    }\n",
       "</style>\n",
       "<table border=\"1\" class=\"dataframe\">\n",
       "  <thead>\n",
       "    <tr style=\"text-align: right;\">\n",
       "      <th></th>\n",
       "      <th>Ca++</th>\n",
       "      <th>Fe++</th>\n",
       "      <th>Mg++</th>\n",
       "    </tr>\n",
       "  </thead>\n",
       "  <tbody>\n",
       "    <tr>\n",
       "      <th>0</th>\n",
       "      <td>0.000017</td>\n",
       "      <td>0.000253</td>\n",
       "      <td>0.000103</td>\n",
       "    </tr>\n",
       "    <tr>\n",
       "      <th>1</th>\n",
       "      <td>0.000135</td>\n",
       "      <td>0.000168</td>\n",
       "      <td>0.000169</td>\n",
       "    </tr>\n",
       "    <tr>\n",
       "      <th>2</th>\n",
       "      <td>0.000069</td>\n",
       "      <td>0.000119</td>\n",
       "      <td>0.000051</td>\n",
       "    </tr>\n",
       "    <tr>\n",
       "      <th>3</th>\n",
       "      <td>0.000079</td>\n",
       "      <td>0.000218</td>\n",
       "      <td>0.000222</td>\n",
       "    </tr>\n",
       "    <tr>\n",
       "      <th>4</th>\n",
       "      <td>0.000236</td>\n",
       "      <td>0.000180</td>\n",
       "      <td>0.000211</td>\n",
       "    </tr>\n",
       "    <tr>\n",
       "      <th>...</th>\n",
       "      <td>...</td>\n",
       "      <td>...</td>\n",
       "      <td>...</td>\n",
       "    </tr>\n",
       "    <tr>\n",
       "      <th>14896</th>\n",
       "      <td>0.000037</td>\n",
       "      <td>0.000194</td>\n",
       "      <td>0.000083</td>\n",
       "    </tr>\n",
       "    <tr>\n",
       "      <th>14897</th>\n",
       "      <td>0.000235</td>\n",
       "      <td>0.000131</td>\n",
       "      <td>0.000090</td>\n",
       "    </tr>\n",
       "    <tr>\n",
       "      <th>14898</th>\n",
       "      <td>0.000262</td>\n",
       "      <td>0.000144</td>\n",
       "      <td>0.000178</td>\n",
       "    </tr>\n",
       "    <tr>\n",
       "      <th>14899</th>\n",
       "      <td>0.000242</td>\n",
       "      <td>0.000246</td>\n",
       "      <td>0.000028</td>\n",
       "    </tr>\n",
       "    <tr>\n",
       "      <th>14900</th>\n",
       "      <td>0.000222</td>\n",
       "      <td>0.000166</td>\n",
       "      <td>0.000290</td>\n",
       "    </tr>\n",
       "  </tbody>\n",
       "</table>\n",
       "<p>14901 rows × 3 columns</p>\n",
       "</div>"
      ],
      "text/plain": [
       "           Ca++      Fe++      Mg++\n",
       "0      0.000017  0.000253  0.000103\n",
       "1      0.000135  0.000168  0.000169\n",
       "2      0.000069  0.000119  0.000051\n",
       "3      0.000079  0.000218  0.000222\n",
       "4      0.000236  0.000180  0.000211\n",
       "...         ...       ...       ...\n",
       "14896  0.000037  0.000194  0.000083\n",
       "14897  0.000235  0.000131  0.000090\n",
       "14898  0.000262  0.000144  0.000178\n",
       "14899  0.000242  0.000246  0.000028\n",
       "14900  0.000222  0.000166  0.000290\n",
       "\n",
       "[14901 rows x 3 columns]"
      ]
     },
     "execution_count": 20,
     "metadata": {},
     "output_type": "execute_result"
    }
   ],
   "source": [
    "# Get a df of all the start attributes of interest\n",
    "attributes_all_df = attr.get_condition(dataset_dict,\"basalt\",species_concs=True)\n",
    "attributes_all_df = attributes_all_df.loc[:, ['Ca++', 'Fe++', 'Mg++']]\n",
    "attributes_all_df"
   ]
  },
  {
   "cell_type": "code",
   "execution_count": 21,
   "metadata": {},
   "outputs": [],
   "source": [
    "def NrFormatFixer_XYZTime(xr_DataSet):\n",
    "    for _ in xr_DataSet.X.values:\n",
    "        for __ in xr_DataSet.Y.values:\n",
    "            for ___ in xr_DataSet.Z.values:\n",
    "                for ____ in xr_DataSet.time.values:\n",
    "                    for _____ in xr_DataSet.data_vars:\n",
    "                        xr_DataArray = xr_DataSet[f'{_____}'].loc[dict(X=f'{_}',Y=f'{__}',Z=f'{___}',time=f'{____}')]\n",
    "                        for ______ in range(0,len(xr_DataArray)):\n",
    "                            string = str(xr_DataArray.values[______])\n",
    "                            new_val = string\n",
    "                            if re.match(\"^\\d+\\.\\d+-\\d+$\",string):\n",
    "                                i_rev = 1\n",
    "                                str_len = len(string)\n",
    "                                for _______ in reversed(string):\n",
    "                                    if _______ == \"-\":\n",
    "                                        break\n",
    "                                    else:\n",
    "                                        i_rev+=1\n",
    "                                        continue\n",
    "                                i = str_len - i_rev\n",
    "                                new_string = string[:i] + \"e\" + string[i:]\n",
    "                                new_val = new_string\n",
    "                            xr_DataArray.values[______] = new_val\n",
    "    return xr_DataSet"
   ]
  },
  {
   "cell_type": "code",
   "execution_count": 22,
   "metadata": {},
   "outputs": [],
   "source": [
    "def NrFormatFixer_XYZ(xr_DataSet):\n",
    "    for _ in xr_DataSet.X.values:\n",
    "        for __ in xr_DataSet.Y.values:\n",
    "            for ___ in xr_DataSet.Z.values:\n",
    "                for _____ in xr_DataSet.data_vars:\n",
    "                    xr_DataArray = xr_DataSet[f'{_____}'].loc[dict(X=f'{_}',Y=f'{__}',Z=f'{___}')]\n",
    "                    for ______ in range(0,len(xr_DataArray)):\n",
    "                        string = str(xr_DataArray.values[______])\n",
    "                        new_val = string\n",
    "                        if re.match(\"^\\d+\\.\\d+-\\d+$\",string):\n",
    "                            i_rev = 1\n",
    "                            str_len = len(string)\n",
    "                            for _______ in reversed(string):\n",
    "                                if _______ == \"-\":\n",
    "                                    break\n",
    "                                else:\n",
    "                                    i_rev+=1\n",
    "                                    continue\n",
    "                            i = str_len - i_rev\n",
    "                            new_string = string[:i] + \"e\" + string[i:]\n",
    "                            new_val = new_string\n",
    "                        xr_DataArray.values[______] = new_val\n",
    "    return xr_DataSet"
   ]
  },
  {
   "cell_type": "code",
   "execution_count": 23,
   "metadata": {},
   "outputs": [],
   "source": [
    "# Retrieval of xarray datasets containing final and initial mineralogical volume fractions\n",
    "FinalVols_ds = lbls.raw(dataset_dict, 'volume')\n",
    "FinalVols_ds = NrFormatFixer_XYZTime(FinalVols_ds)\n",
    "FinalVols_ds = FinalVols_ds.astype(float)\n",
    "\n",
    "InitialVols_ds = attr.initial_conditions(dataset_dict, concentrations=False, minerals=True)\n",
    "InitialVols_ds = NrFormatFixer_XYZ(InitialVols_ds)\n",
    "InitialVols_ds = InitialVols_ds.astype(float)\n",
    "\n",
    "# Generation of an xarray dataset representing change in mineralogical volume fractions\n",
    "DeltVolFrac_ds = FinalVols_ds - InitialVols_ds\n",
    "\n",
    "# Generation of an narrowed-down xarray dataset containing only data on a specific time and place\n",
    "DeltVolFrac_TenYr_ds = DeltVolFrac_ds.sel(X=0.5,Y=0.5,Z=0.5,time=10)\n",
    "\n",
    "# Generation of an additional xarray variable entitled Carbonates; placed into the above xarray dataset\n",
    "DeltVolFrac_TenYr_ds = DeltVolFrac_TenYr_ds.assign(Carbonates=lambda DeltVolFrac_TenYr_ds: DeltVolFrac_TenYr_ds.Calcite + DeltVolFrac_TenYr_ds.Siderite + DeltVolFrac_TenYr_ds.Magnesite)"
   ]
  },
  {
   "cell_type": "markdown",
   "metadata": {},
   "source": [
    "# XGBoost Model Training"
   ]
  },
  {
   "cell_type": "code",
   "execution_count": 24,
   "metadata": {},
   "outputs": [],
   "source": [
    "# For the ML problem define attributes and labels datasets\n",
    "attributes = attributes_all_df\n",
    "labels = DeltVolFrac_TenYr_ds\n",
    "\n",
    "# Split the ML datasets into x's (predictor arrays) and y's (target arrays)\n",
    "x = attributes.loc[:, ['Ca++', 'Fe++','Mg++']].astype(float)\n",
    "y = DeltVolFrac_TenYr_ds.Carbonates.values.astype(float)\n",
    "\n",
    "# Generate a numpy matrix from a pandas dataframe\n",
    "x = x.to_numpy()\n",
    "\n",
    "def NormalizeData(data, lower, upper):\n",
    "    return (data - lower) / (upper - lower)\n",
    "\n",
    "x_upper_normalizer = 3.0E-4 # max(data)\n",
    "x_lower_normalizer = 0 # min(data)\n",
    "\n",
    "y_upper_normalizer = 0.0019470942119 # max(data)\n",
    "y_lower_normalizer = 0.0019468777495 # min(data)\n",
    "\n",
    "x = NormalizeData(x, x_lower_normalizer, x_upper_normalizer)\n",
    "y = NormalizeData(y, y_lower_normalizer, y_upper_normalizer)\n",
    "y = y.reshape(-1,1)\n",
    "\n",
    "x_train, x_test, y_train, y_test = train_test_split(x, y, test_size=0.1, random_state=random_state)"
   ]
  },
  {
   "cell_type": "code",
   "execution_count": 25,
   "metadata": {},
   "outputs": [
    {
     "name": "stderr",
     "output_type": "stream",
     "text": [
      "Failed to detect the name of this notebook, you can set it manually with the WANDB_NOTEBOOK_NAME environment variable to enable code saving.\n",
      "\u001b[34m\u001b[1mwandb\u001b[0m: Currently logged in as: \u001b[33mtjhd97\u001b[0m. Use \u001b[1m`wandb login --relogin`\u001b[0m to force relogin\n"
     ]
    },
    {
     "data": {
      "text/html": [
       "Tracking run with wandb version 0.12.17"
      ],
      "text/plain": [
       "<IPython.core.display.HTML object>"
      ]
     },
     "metadata": {},
     "output_type": "display_data"
    },
    {
     "data": {
      "text/html": [
       "Run data is saved locally in <code>/Users/thomasdodd/Library/CloudStorage/OneDrive-MillfieldEnterprisesLimited/Cambridge/AI4ER/Easter/MRes/CrunchFlow_Work/bcm/2022-05-31_bcm_4-1/wandb/run-20220602_153112-3ikgumtv</code>"
      ],
      "text/plain": [
       "<IPython.core.display.HTML object>"
      ]
     },
     "metadata": {},
     "output_type": "display_data"
    },
    {
     "data": {
      "text/html": [
       "Syncing run <strong><a href=\"https://wandb.ai/tjhd97/bcm_4-1/runs/3ikgumtv\" target=\"_blank\">clear-bee-32</a></strong> to <a href=\"https://wandb.ai/tjhd97/bcm_4-1\" target=\"_blank\">Weights & Biases</a> (<a href=\"https://wandb.me/run\" target=\"_blank\">docs</a>)<br/>"
      ],
      "text/plain": [
       "<IPython.core.display.HTML object>"
      ]
     },
     "metadata": {},
     "output_type": "display_data"
    },
    {
     "ename": "KeyError",
     "evalue": "'rmse'",
     "output_type": "error",
     "traceback": [
      "\u001b[0;31m---------------------------------------------------------------------------\u001b[0m",
      "\u001b[0;31mKeyError\u001b[0m                                  Traceback (most recent call last)",
      "File \u001b[0;32m<timed exec>:41\u001b[0m, in \u001b[0;36m<module>\u001b[0;34m\u001b[0m\n",
      "\u001b[0;31mKeyError\u001b[0m: 'rmse'"
     ]
    }
   ],
   "source": [
    "%%time\n",
    "\n",
    "xgb_defaults = {\n",
    "    'tree_method': 'hist',\n",
    "    'gamma': 0,\n",
    "    'mds': 0,\n",
    "    'eta': 0.01,\n",
    "    'l1' : 0,\n",
    "    'l2' : 1,\n",
    "    'max_depth' : 0,\n",
    "    'max_leaves': 6,\n",
    "    'objective': 'reg:squarederror',\n",
    "    'max_bin': 10000,\n",
    "    'grow_policy': 'lossguide'\n",
    "}\n",
    "\n",
    "# Initialise the wandb instance\n",
    "wandb.init(config=xgb_defaults, project='bcm_4-1')\n",
    "\n",
    "# Setup xgb matrices; one for training and one testing\n",
    "dtrain = xgb.DMatrix(x_train, label=y_train)\n",
    "dtest = xgb.DMatrix(x_test, label=y_test)\n",
    "\n",
    "evallist = [(dtest, 'eval'), (dtrain, 'train')]\n",
    "\n",
    "params = {'max_depth': wandb.config.max_depth,\n",
    "            'tree_method': wandb.config.tree_method,\n",
    "            'max_delta_step': wandb.config.mds,\n",
    "            'eta': wandb.config.eta,\n",
    "            'objective': wandb.config.objective,\n",
    "            'alpha': wandb.config.l1,\n",
    "            'lambda': wandb.config.l2,\n",
    "            'gamma': wandb.config.gamma,\n",
    "            'max_leaves': wandb.config.max_leaves,\n",
    "            'max_bin': wandb.config.max_bin,\n",
    "            'grow_policy': wandb.config.grow_policy\n",
    "        }\n",
    "\n",
    "results = {}\n",
    "\n",
    "num_round = 4000\n",
    "bst = xgb.train(params, dtrain, num_round, evallist, evals_result=results, verbose_eval=False, callbacks=[wandb.xgboost.WandbCallback()])\n",
    "wandb.log({\"val_loss\" : results['rmse'][-1]})"
   ]
  },
  {
   "cell_type": "code",
   "execution_count": 26,
   "metadata": {},
   "outputs": [],
   "source": [
    "bst.save_model(\"bcm_xgbModel_4-1.json\")"
   ]
  },
  {
   "cell_type": "markdown",
   "metadata": {},
   "source": [
    "# Comparison Data Import and Cleaning"
   ]
  },
  {
   "cell_type": "code",
   "execution_count": 27,
   "metadata": {},
   "outputs": [],
   "source": [
    "# Port in and unpack all the runs we need from the .pkl file.\n",
    "CtrlSet_ca_dict = fm.unpickle('/Users/thomasdodd/Library/CloudStorage/OneDrive-MillfieldEnterprisesLimited/cambridge/ai4er/easter/mres/CrunchFlow_Work/bcm/2022-05-31_bcm_4-1/control_ca/basalt_cl-_ctrl-ca++_2.pkl')\n",
    "CtrlSet_fe_dict = fm.unpickle('/Users/thomasdodd/Library/CloudStorage/OneDrive-MillfieldEnterprisesLimited/cambridge/ai4er/easter/mres/CrunchFlow_Work/bcm/2022-05-31_bcm_4-1/control_fe/basalt_cl-_ctrl-fe++_2.pkl')\n",
    "CtrlSet_mg_dict = fm.unpickle('/Users/thomasdodd/Library/CloudStorage/OneDrive-MillfieldEnterprisesLimited/cambridge/ai4er/easter/mres/CrunchFlow_Work/bcm/2022-05-31_bcm_4-1/control_mg/basalt_cl-_ctrl-mg++_2.pkl')"
   ]
  },
  {
   "cell_type": "code",
   "execution_count": 28,
   "metadata": {},
   "outputs": [
    {
     "name": "stdout",
     "output_type": "stream",
     "text": [
      "Returned 100 files without errors out of a total possible 100.\n",
      "0 files had errors.\n",
      "0 files had unhandled errors.\n",
      "File failure rate: 0.0 %.\n",
      "To see unhandled errors, run with verbose=True.\n",
      "Returned 100 files without errors out of a total possible 100.\n",
      "0 files had errors.\n",
      "0 files had unhandled errors.\n",
      "File failure rate: 0.0 %.\n",
      "To see unhandled errors, run with verbose=True.\n",
      "Returned 100 files without errors out of a total possible 100.\n",
      "0 files had errors.\n",
      "0 files had unhandled errors.\n",
      "File failure rate: 0.0 %.\n",
      "To see unhandled errors, run with verbose=True.\n"
     ]
    }
   ],
   "source": [
    "# Create a number of datasets from the control RTM experiments\n",
    "dataset_ca_dict, error_dict = hp.filter_errors(CtrlSet_ca_dict)\n",
    "dataset_fe_dict, error_dict = hp.filter_errors(CtrlSet_fe_dict)\n",
    "dataset_mg_dict, error_dict = hp.filter_errors(CtrlSet_mg_dict)"
   ]
  },
  {
   "cell_type": "code",
   "execution_count": 29,
   "metadata": {},
   "outputs": [
    {
     "name": "stderr",
     "output_type": "stream",
     "text": [
      "/Users/thomasdodd/Library/CloudStorage/OneDrive-MillfieldEnterprisesLimited/github/Omphalos/omphalos/attributes.py:40: FutureWarning: The frame.append method is deprecated and will be removed from pandas in a future version. Use pandas.concat instead.\n",
      "  species_attrs = species_attrs.append(primary_species(data_set[i], condition), ignore_index=True)\n",
      "/Users/thomasdodd/Library/CloudStorage/OneDrive-MillfieldEnterprisesLimited/github/Omphalos/omphalos/attributes.py:40: FutureWarning: The frame.append method is deprecated and will be removed from pandas in a future version. Use pandas.concat instead.\n",
      "  species_attrs = species_attrs.append(primary_species(data_set[i], condition), ignore_index=True)\n",
      "/Users/thomasdodd/Library/CloudStorage/OneDrive-MillfieldEnterprisesLimited/github/Omphalos/omphalos/attributes.py:40: FutureWarning: The frame.append method is deprecated and will be removed from pandas in a future version. Use pandas.concat instead.\n",
      "  species_attrs = species_attrs.append(primary_species(data_set[i], condition), ignore_index=True)\n"
     ]
    }
   ],
   "source": [
    "# Get all the attribute df's for the control RTM experiments\n",
    "attributes_ca_df = attr.get_condition(dataset_ca_dict,\"basalt\",species_concs=True)\n",
    "attributes_ca_df = attributes_ca_df.loc[:, ['Ca++', 'Fe++', 'Mg++']]\n",
    "attributes_fe_df = attr.get_condition(dataset_fe_dict,\"basalt\",species_concs=True)\n",
    "attributes_fe_df = attributes_fe_df.loc[:, ['Ca++', 'Fe++', 'Mg++']]\n",
    "attributes_mg_df = attr.get_condition(dataset_mg_dict,\"basalt\",species_concs=True)\n",
    "attributes_mg_df = attributes_mg_df.loc[:, ['Ca++', 'Fe++', 'Mg++']]"
   ]
  },
  {
   "cell_type": "code",
   "execution_count": 30,
   "metadata": {},
   "outputs": [],
   "source": [
    "# Retrieval of xarray datasets containing final and initial mineralogical volume fractions for the control RTM experiments\n",
    "\n",
    "# Final mineralogical volumes xarray datasets\n",
    "FinalVols_ca_ds = lbls.raw(dataset_ca_dict, 'volume')\n",
    "FinalVols_ca_ds = NrFormatFixer_XYZTime(FinalVols_ca_ds)\n",
    "FinalVols_ca_ds = FinalVols_ca_ds.astype(float)\n",
    "FinalVols_fe_ds = lbls.raw(dataset_fe_dict, 'volume')\n",
    "FinalVols_fe_ds = NrFormatFixer_XYZTime(FinalVols_fe_ds)\n",
    "FinalVols_fe_ds = FinalVols_fe_ds.astype(float)\n",
    "FinalVols_mg_ds = lbls.raw(dataset_mg_dict, 'volume')\n",
    "FinalVols_mg_ds = NrFormatFixer_XYZTime(FinalVols_mg_ds)\n",
    "FinalVols_mg_ds = FinalVols_mg_ds.astype(float)\n",
    "\n",
    "# Start mineralogical volumes xarray datasets\n",
    "InitialVols_ca_ds = attr.initial_conditions(dataset_ca_dict, concentrations=False, minerals=True)\n",
    "InitialVols_ca_ds = NrFormatFixer_XYZ(InitialVols_ca_ds)\n",
    "InitialVols_ca_ds = InitialVols_ca_ds.astype(float)\n",
    "InitialVols_fe_ds = attr.initial_conditions(dataset_fe_dict, concentrations=False, minerals=True)\n",
    "InitialVols_fe_ds = NrFormatFixer_XYZ(InitialVols_fe_ds)\n",
    "InitialVols_fe_ds = InitialVols_fe_ds.astype(float)\n",
    "InitialVols_mg_ds = attr.initial_conditions(dataset_fe_dict, concentrations=False, minerals=True)\n",
    "InitialVols_mg_ds = NrFormatFixer_XYZ(InitialVols_mg_ds)\n",
    "InitialVols_mg_ds = InitialVols_mg_ds.astype(float)\n",
    "\n",
    "# Generation of an xarray dataset representing change in mineralogical volume fractions\n",
    "DeltVolFrac_ca_ds = FinalVols_ca_ds - InitialVols_ca_ds\n",
    "DeltVolFrac_fe_ds = FinalVols_fe_ds - InitialVols_fe_ds\n",
    "DeltVolFrac_mg_ds = FinalVols_mg_ds - InitialVols_mg_ds\n",
    "\n",
    "# Generation of an narrowed-down xarray dataset containing only data on a specific time and place\n",
    "DeltVolFrac_ca_TenYr_ds = DeltVolFrac_ca_ds.sel(X=0.5,Y=0.5,Z=0.5,time=10)\n",
    "DeltVolFrac_fe_TenYr_ds = DeltVolFrac_fe_ds.sel(X=0.5,Y=0.5,Z=0.5,time=10)\n",
    "DeltVolFrac_mg_TenYr_ds = DeltVolFrac_mg_ds.sel(X=0.5,Y=0.5,Z=0.5,time=10)\n",
    "\n",
    "# Generation of an additional xarray variable entitled Carbonates; placed into the above xarray dataset\n",
    "DeltVolFrac_ca_TenYr_ds = DeltVolFrac_ca_TenYr_ds.assign(Carbonates=lambda DeltVolFrac_ca_TenYr_ds: DeltVolFrac_ca_TenYr_ds.Calcite + DeltVolFrac_ca_TenYr_ds.Siderite + DeltVolFrac_ca_TenYr_ds.Magnesite)\n",
    "DeltVolFrac_fe_TenYr_ds = DeltVolFrac_fe_TenYr_ds.assign(Carbonates=lambda DeltVolFrac_fe_TenYr_ds: DeltVolFrac_fe_TenYr_ds.Calcite + DeltVolFrac_fe_TenYr_ds.Siderite + DeltVolFrac_fe_TenYr_ds.Magnesite)\n",
    "DeltVolFrac_mg_TenYr_ds = DeltVolFrac_mg_TenYr_ds.assign(Carbonates=lambda DeltVolFrac_mg_TenYr_ds: DeltVolFrac_mg_TenYr_ds.Calcite + DeltVolFrac_mg_TenYr_ds.Siderite + DeltVolFrac_mg_TenYr_ds.Magnesite)"
   ]
  },
  {
   "cell_type": "code",
   "execution_count": 31,
   "metadata": {},
   "outputs": [],
   "source": [
    "# Control Experiments\n",
    "# Split the datasets into x's and y's\n",
    "# Normalise the control x's and y's in the same way as the training data\n",
    "\n",
    "# Control 1 - Ca++ Varied, Fe++/Mg++ Held-Steady\n",
    "x_ca = attributes_ca_df.loc[:, ['Ca++', 'Fe++','Mg++']].astype(float)\n",
    "y_ca = DeltVolFrac_ca_TenYr_ds.Carbonates.values.astype(float)\n",
    "\n",
    "x_ca = x_ca.to_numpy()\n",
    "x_ca = NormalizeData(x_ca, x_lower_normalizer, x_upper_normalizer)\n",
    "y_ca = NormalizeData(y_ca, y_lower_normalizer, y_upper_normalizer)\n",
    "y_ca = y_ca.reshape(-1,1)\n",
    "\n",
    "\n",
    "# Control 2 - Fe++ Varied, Ca++/Mg++ Held-Steady\n",
    "x_fe = attributes_fe_df.loc[:, ['Ca++', 'Fe++','Mg++']].astype(float)\n",
    "y_fe = DeltVolFrac_fe_TenYr_ds.Carbonates.values.astype(float)\n",
    "\n",
    "x_fe = x_fe.to_numpy()\n",
    "x_fe = NormalizeData(x_fe, x_lower_normalizer, x_upper_normalizer)\n",
    "y_fe = NormalizeData(y_fe, y_lower_normalizer, y_upper_normalizer)\n",
    "y_fe = y_fe.reshape(-1,1)\n",
    "\n",
    "\n",
    "# Prediction 3 - Mg++ Varied, Ca++/Fe++ Held-Steady\n",
    "x_mg = attributes_mg_df.loc[:, ['Ca++', 'Fe++','Mg++']].astype(float)\n",
    "y_mg = DeltVolFrac_mg_TenYr_ds.Carbonates.values.astype(float)\n",
    "\n",
    "x_mg = x_mg.to_numpy()\n",
    "x_mg = NormalizeData(x_mg, x_lower_normalizer, x_upper_normalizer)\n",
    "y_mg = NormalizeData(y_mg, y_lower_normalizer, y_upper_normalizer)\n",
    "y_mg = y_mg.reshape(-1,1)"
   ]
  },
  {
   "cell_type": "markdown",
   "metadata": {},
   "source": [
    "# Comparison of RTM Ground Truth and XGB Predictions"
   ]
  },
  {
   "cell_type": "code",
   "execution_count": 32,
   "metadata": {},
   "outputs": [],
   "source": [
    "# Prediction Experiments\n",
    "\n",
    "# The variable as varied between lower and upper bounds\n",
    "variable_range_lower, variable_range_upper = 0, 3.0E-4\n",
    "# The controlled values in the base .in file\n",
    "controlled_ca_val = 1.0922841574764136E-4\n",
    "controlled_fe_val = 2.0458518197753574E-4\n",
    "controlled_mg_val = 2.8166497794217927E-4\n",
    "\n",
    "# The number of ypred value samples desired\n",
    "samples = 100\n",
    "# The number dimensions (i.e. predictors i.e. ca, fe, mg)\n",
    "dims = 3\n",
    "\n",
    "# Prediction 1 - Ca++ Varied, Fe++/Mg++ Held-Steady\n",
    "pred_ca_matrix = np.ones((samples, dims))\n",
    "pred_ca_matrix[:,0] = np.linspace(variable_range_lower, variable_range_upper, samples)\n",
    "pred_ca_matrix[:,1] = controlled_fe_val\n",
    "pred_ca_matrix[:,2] = controlled_mg_val\n",
    "pred_ca_matrix = NormalizeData(pred_ca_matrix, x_lower_normalizer, x_upper_normalizer)\n",
    "xpred_ca = pred_ca_matrix[:,0]\n",
    "ypred_ca = bst.predict(xgb.DMatrix(pred_ca_matrix))\n",
    "\n",
    "# Prediction 2 - Fe++ Varied, Ca++/Mg++ Held-Steady\n",
    "pred_fe_matrix = np.ones((samples, dims))\n",
    "pred_fe_matrix[:,0] = controlled_ca_val\n",
    "pred_fe_matrix[:,1] = np.linspace(variable_range_lower, variable_range_upper, samples)\n",
    "pred_fe_matrix[:,2] = controlled_mg_val\n",
    "pred_fe_matrix = NormalizeData(pred_fe_matrix, x_lower_normalizer, x_upper_normalizer)\n",
    "xpred_fe = pred_fe_matrix[:,1]\n",
    "ypred_fe = bst.predict(xgb.DMatrix(pred_fe_matrix))\n",
    "\n",
    "# Prediction 3 - Mg++ Varied, Ca++/Fe++ Held-Steady\n",
    "pred_mg_matrix = np.ones((samples, dims))\n",
    "pred_mg_matrix[:,0] = controlled_ca_val\n",
    "pred_mg_matrix[:,1] = controlled_fe_val\n",
    "pred_mg_matrix[:,2] = np.linspace(variable_range_lower, variable_range_upper, samples)\n",
    "pred_mg_matrix = NormalizeData(pred_mg_matrix, x_lower_normalizer, x_upper_normalizer)\n",
    "xpred_mg = pred_mg_matrix[:,2]\n",
    "ypred_mg = bst.predict(xgb.DMatrix(pred_mg_matrix))"
   ]
  },
  {
   "cell_type": "code",
   "execution_count": 33,
   "metadata": {},
   "outputs": [
    {
     "data": {
      "image/png": "[encoded data removed]",
      "text/plain": [
       "<Figure size 1512x432 with 3 Axes>"
      ]
     },
     "metadata": {
      "needs_background": "light"
     },
     "output_type": "display_data"
    }
   ],
   "source": [
    "# Plotting the control RTM experiments against predictions made by the XGBoost Model\n",
    "fig, ((ax1),(ax2),(ax3)) = plt.subplots(1,3)\n",
    "fig.suptitle('FB - Flow Basalt OD Model - Omphalos Test - Carbonates Volume Change over 10yrs - Cl- Charge Balance - RTM Ground Truth vs XGB Predictions')\n",
    "\n",
    "fig.set_figheight(6)\n",
    "fig.set_figwidth(21)\n",
    "\n",
    "ax1.set_title(\"Ca++\", loc='center')\n",
    "ax2.set_title(\"Fe++\", loc='center')\n",
    "ax3.set_title(\"Mg++\", loc='center')\n",
    "\n",
    "ax1.set_ylabel('Tot. Carbonates Percentage Vol. Frac. Increase (norm.)')\n",
    "\n",
    "ax1.set_xlabel('[Ca++] (normalised)')\n",
    "ax2.set_xlabel('[Fe++] (normalised)')\n",
    "ax3.set_xlabel('[Mg++] (normalised)')\n",
    "\n",
    "ax1.set_ylim(0.61,0.65)\n",
    "ax2.set_ylim(0.61,0.65)\n",
    "ax3.set_ylim(0.61,0.65)\n",
    "\n",
    "# ax1.set_ylim(0,1)\n",
    "# ax2.set_ylim(0,1)\n",
    "# ax3.set_ylim(0,1)\n",
    "\n",
    "ax1_x_rtm = x_ca[:,0]\n",
    "ax1_y_rtm = y_ca\n",
    "ax1_x_xgb = xpred_ca\n",
    "ax1_y_xgb = ypred_ca\n",
    "\n",
    "ax2_x_rtm = x_fe[:,1]\n",
    "ax2_y_rtm = y_fe\n",
    "ax2_x_xgb = xpred_fe\n",
    "ax2_y_xgb = ypred_fe\n",
    "\n",
    "ax3_x_rtm = x_mg[:,2]\n",
    "ax3_y_rtm = y_mg\n",
    "ax3_x_xgb = xpred_mg\n",
    "ax3_y_xgb = ypred_mg\n",
    "\n",
    "ax1.scatter(x=ax1_x_rtm, y=ax1_y_rtm, c='blue', s=1, alpha=1, label=\"RTM\")\n",
    "ax1.scatter(x=ax1_x_xgb, y=ax1_y_xgb, c='red', s=1, alpha=1, label=\"XGB\")\n",
    "ax2.scatter(x=ax2_x_rtm, y=ax2_y_rtm, c='blue', s=1, alpha=1, label=\"RTM\")\n",
    "ax2.scatter(x=ax2_x_xgb, y=ax2_y_xgb, c='red', s=1, alpha=1, label=\"XGB\")\n",
    "ax3.scatter(x=ax3_x_rtm, y=ax3_y_rtm, c='blue', s=1, alpha=1, label=\"RTM\")\n",
    "ax3.scatter(x=ax3_x_xgb, y=ax3_y_xgb, c='red', s=1, alpha=1, label=\"XGB\")\n",
    "\n",
    "ax1.legend()\n",
    "\n",
    "plt.tight_layout()"
   ]
  },
  {
   "cell_type": "code",
   "execution_count": null,
   "metadata": {},
   "outputs": [],
   "source": []
  }
 ],
 "metadata": {
  "interpreter": {
   "hash": "296a52c54e27bbbcd48798fb7fd1a88824ee79f86959dd60c8f5f391966dbb41"
  },
  "kernelspec": {
   "display_name": "Python 3.10.4 ('omphalos')",
   "language": "python",
   "name": "python3"
  },
  "language_info": {
   "codemirror_mode": {
    "name": "ipython",
    "version": 3
   },
   "file_extension": ".py",
   "mimetype": "text/x-python",
   "name": "python",
   "nbconvert_exporter": "python",
   "pygments_lexer": "ipython3",
   "version": "3.10.4"
  },
  "orig_nbformat": 4
 },
 "nbformat": 4,
 "nbformat_minor": 2
}
