{
 "cells": [
  {
   "cell_type": "code",
   "execution_count": 1,
   "metadata": {},
   "outputs": [],
   "source": [
    "import os\n",
    "from glob import glob\n",
    "import numpy as np\n",
    "import pandas as pd\n",
    "import matplotlib.pyplot as plt\n",
    "import re"
   ]
  },
  {
   "cell_type": "markdown",
   "metadata": {},
   "source": [
    "# 2022-06-02_bfm_1-2 (Flood Basalt) (Liu)"
   ]
  },
  {
   "cell_type": "code",
   "execution_count": 2,
   "metadata": {},
   "outputs": [],
   "source": [
    "def data_cats(directory):\n",
    "    os.chdir(directory)\n",
    "    f_list = glob('*.csv')\n",
    "    f_list = [i.rstrip('.csv') for i in f_list]\n",
    "    f_list = [i.rstrip('0123456789') for i in f_list]\n",
    "    f_set = set(f_list)\n",
    "    output_total = len(f_list) / len(f_set)\n",
    "    return f_set, int(output_total)"
   ]
  },
  {
   "cell_type": "code",
   "execution_count": 3,
   "metadata": {},
   "outputs": [],
   "source": [
    "def time_finder(in_file_path):\n",
    "    with open(in_file_path) as f:\n",
    "        t = f.read().strip()\n",
    "    m = re.findall(r\"^spatial_profile.+?$\", t, re.MULTILINE)\n",
    "    m = m[0]\n",
    "    m = m.split()\n",
    "    m = m[1:]\n",
    "    m.append(\"1E-12\")\n",
    "    m_float = [float(x) for x in m]\n",
    "    return m_float"
   ]
  },
  {
   "cell_type": "code",
   "execution_count": 4,
   "metadata": {},
   "outputs": [],
   "source": [
    "# Iterate through all the files in order, generating dataframes that need compiling.\n",
    "def csv_dfer(directory, in_file_path):\n",
    "    catList, max_time = data_cats(directory)\n",
    "    times = time_finder(in_file_path)\n",
    "    metric_final_dataframes = []\n",
    "    for _ in catList:\n",
    "        metric_dataframes = []\n",
    "        for __,___ in zip(range(max_time), times):\n",
    "            df = pd.read_csv(directory + \"/\" + str(_) + str(__+1) + \".csv\")\n",
    "            df[\"timestep\"] = str(___)\n",
    "            metric_dataframes.append(df)\n",
    "        df = pd.concat(metric_dataframes)\n",
    "        df[\"metric\"] = str(_)\n",
    "        metric_final_dataframes.append(df)\n",
    "    final_df = pd.concat(metric_final_dataframes)\n",
    "    return final_df"
   ]
  },
  {
   "cell_type": "code",
   "execution_count": 5,
   "metadata": {},
   "outputs": [],
   "source": [
    "infile_path_FB = \"/Users/thomasdodd/Library/CloudStorage/OneDrive-MillfieldEnterprisesLimited/cambridge/ai4er/easter/mres/crunchflow_work/bfm/2022-06-05_bfm_1-2_1D-LS_FB/basalt.in\"\n",
    "\n",
    "directory_path_FB = (infile_path_FB.replace('/basalt.in','')) + \"/tec2csv\"\n",
    "\n",
    "df_FB = csv_dfer(directory_path_FB, infile_path_FB)"
   ]
  },
  {
   "cell_type": "code",
   "execution_count": 6,
   "metadata": {},
   "outputs": [
    {
     "data": {
      "text/html": [
       "<div>\n",
       "<style scoped>\n",
       "    .dataframe tbody tr th:only-of-type {\n",
       "        vertical-align: middle;\n",
       "    }\n",
       "\n",
       "    .dataframe tbody tr th {\n",
       "        vertical-align: top;\n",
       "    }\n",
       "\n",
       "    .dataframe thead th {\n",
       "        text-align: right;\n",
       "    }\n",
       "</style>\n",
       "<table border=\"1\" class=\"dataframe\">\n",
       "  <thead>\n",
       "    <tr style=\"text-align: right;\">\n",
       "      <th></th>\n",
       "      <th>X</th>\n",
       "      <th>Y</th>\n",
       "      <th>Z</th>\n",
       "      <th>Diopside</th>\n",
       "      <th>Diopside_a</th>\n",
       "      <th>Hedenbergite</th>\n",
       "      <th>Hedenbergite_a</th>\n",
       "      <th>Albite</th>\n",
       "      <th>Albite_a</th>\n",
       "      <th>Anorthite</th>\n",
       "      <th>...</th>\n",
       "      <th>CaOH+</th>\n",
       "      <th>FeCl+</th>\n",
       "      <th>FeOH+</th>\n",
       "      <th>HSiO3-</th>\n",
       "      <th>KCl(aq)</th>\n",
       "      <th>KOH(aq)</th>\n",
       "      <th>MgCl+</th>\n",
       "      <th>NaCl(aq)</th>\n",
       "      <th>NaHSiO3(aq)</th>\n",
       "      <th>NaOH(aq)</th>\n",
       "    </tr>\n",
       "  </thead>\n",
       "  <tbody>\n",
       "    <tr>\n",
       "      <th>0</th>\n",
       "      <td>0.125</td>\n",
       "      <td>5.52</td>\n",
       "      <td>0.07</td>\n",
       "      <td>0.041999</td>\n",
       "      <td>0.0</td>\n",
       "      <td>0.023999</td>\n",
       "      <td>0.0</td>\n",
       "      <td>0.039</td>\n",
       "      <td>0.0</td>\n",
       "      <td>0.057</td>\n",
       "      <td>...</td>\n",
       "      <td>NaN</td>\n",
       "      <td>NaN</td>\n",
       "      <td>NaN</td>\n",
       "      <td>NaN</td>\n",
       "      <td>NaN</td>\n",
       "      <td>NaN</td>\n",
       "      <td>NaN</td>\n",
       "      <td>NaN</td>\n",
       "      <td>NaN</td>\n",
       "      <td>NaN</td>\n",
       "    </tr>\n",
       "    <tr>\n",
       "      <th>1</th>\n",
       "      <td>0.375</td>\n",
       "      <td>5.52</td>\n",
       "      <td>0.07</td>\n",
       "      <td>0.041999</td>\n",
       "      <td>0.0</td>\n",
       "      <td>0.024000</td>\n",
       "      <td>0.0</td>\n",
       "      <td>0.039</td>\n",
       "      <td>0.0</td>\n",
       "      <td>0.057</td>\n",
       "      <td>...</td>\n",
       "      <td>NaN</td>\n",
       "      <td>NaN</td>\n",
       "      <td>NaN</td>\n",
       "      <td>NaN</td>\n",
       "      <td>NaN</td>\n",
       "      <td>NaN</td>\n",
       "      <td>NaN</td>\n",
       "      <td>NaN</td>\n",
       "      <td>NaN</td>\n",
       "      <td>NaN</td>\n",
       "    </tr>\n",
       "    <tr>\n",
       "      <th>2</th>\n",
       "      <td>0.625</td>\n",
       "      <td>5.52</td>\n",
       "      <td>0.07</td>\n",
       "      <td>0.041999</td>\n",
       "      <td>0.0</td>\n",
       "      <td>0.024000</td>\n",
       "      <td>0.0</td>\n",
       "      <td>0.039</td>\n",
       "      <td>0.0</td>\n",
       "      <td>0.057</td>\n",
       "      <td>...</td>\n",
       "      <td>NaN</td>\n",
       "      <td>NaN</td>\n",
       "      <td>NaN</td>\n",
       "      <td>NaN</td>\n",
       "      <td>NaN</td>\n",
       "      <td>NaN</td>\n",
       "      <td>NaN</td>\n",
       "      <td>NaN</td>\n",
       "      <td>NaN</td>\n",
       "      <td>NaN</td>\n",
       "    </tr>\n",
       "    <tr>\n",
       "      <th>3</th>\n",
       "      <td>0.875</td>\n",
       "      <td>5.52</td>\n",
       "      <td>0.07</td>\n",
       "      <td>0.042000</td>\n",
       "      <td>0.0</td>\n",
       "      <td>0.024000</td>\n",
       "      <td>0.0</td>\n",
       "      <td>0.039</td>\n",
       "      <td>0.0</td>\n",
       "      <td>0.057</td>\n",
       "      <td>...</td>\n",
       "      <td>NaN</td>\n",
       "      <td>NaN</td>\n",
       "      <td>NaN</td>\n",
       "      <td>NaN</td>\n",
       "      <td>NaN</td>\n",
       "      <td>NaN</td>\n",
       "      <td>NaN</td>\n",
       "      <td>NaN</td>\n",
       "      <td>NaN</td>\n",
       "      <td>NaN</td>\n",
       "    </tr>\n",
       "    <tr>\n",
       "      <th>4</th>\n",
       "      <td>1.125</td>\n",
       "      <td>5.52</td>\n",
       "      <td>0.07</td>\n",
       "      <td>0.042000</td>\n",
       "      <td>0.0</td>\n",
       "      <td>0.024000</td>\n",
       "      <td>0.0</td>\n",
       "      <td>0.039</td>\n",
       "      <td>0.0</td>\n",
       "      <td>0.057</td>\n",
       "      <td>...</td>\n",
       "      <td>NaN</td>\n",
       "      <td>NaN</td>\n",
       "      <td>NaN</td>\n",
       "      <td>NaN</td>\n",
       "      <td>NaN</td>\n",
       "      <td>NaN</td>\n",
       "      <td>NaN</td>\n",
       "      <td>NaN</td>\n",
       "      <td>NaN</td>\n",
       "      <td>NaN</td>\n",
       "    </tr>\n",
       "    <tr>\n",
       "      <th>...</th>\n",
       "      <td>...</td>\n",
       "      <td>...</td>\n",
       "      <td>...</td>\n",
       "      <td>...</td>\n",
       "      <td>...</td>\n",
       "      <td>...</td>\n",
       "      <td>...</td>\n",
       "      <td>...</td>\n",
       "      <td>...</td>\n",
       "      <td>...</td>\n",
       "      <td>...</td>\n",
       "      <td>...</td>\n",
       "      <td>...</td>\n",
       "      <td>...</td>\n",
       "      <td>...</td>\n",
       "      <td>...</td>\n",
       "      <td>...</td>\n",
       "      <td>...</td>\n",
       "      <td>...</td>\n",
       "      <td>...</td>\n",
       "      <td>...</td>\n",
       "    </tr>\n",
       "    <tr>\n",
       "      <th>147</th>\n",
       "      <td>36.875</td>\n",
       "      <td>5.52</td>\n",
       "      <td>0.07</td>\n",
       "      <td>NaN</td>\n",
       "      <td>NaN</td>\n",
       "      <td>NaN</td>\n",
       "      <td>NaN</td>\n",
       "      <td>NaN</td>\n",
       "      <td>NaN</td>\n",
       "      <td>NaN</td>\n",
       "      <td>...</td>\n",
       "      <td>-10.512548</td>\n",
       "      <td>-13.664109</td>\n",
       "      <td>-7.479505</td>\n",
       "      <td>-8.004557</td>\n",
       "      <td>-16.986664</td>\n",
       "      <td>-13.710692</td>\n",
       "      <td>-18.400634</td>\n",
       "      <td>-13.719207</td>\n",
       "      <td>-10.035384</td>\n",
       "      <td>-11.733107</td>\n",
       "    </tr>\n",
       "    <tr>\n",
       "      <th>148</th>\n",
       "      <td>37.125</td>\n",
       "      <td>5.52</td>\n",
       "      <td>0.07</td>\n",
       "      <td>NaN</td>\n",
       "      <td>NaN</td>\n",
       "      <td>NaN</td>\n",
       "      <td>NaN</td>\n",
       "      <td>NaN</td>\n",
       "      <td>NaN</td>\n",
       "      <td>NaN</td>\n",
       "      <td>...</td>\n",
       "      <td>-10.512688</td>\n",
       "      <td>-13.664113</td>\n",
       "      <td>-7.479507</td>\n",
       "      <td>-8.004514</td>\n",
       "      <td>-16.986847</td>\n",
       "      <td>-13.710873</td>\n",
       "      <td>-18.400379</td>\n",
       "      <td>-13.719168</td>\n",
       "      <td>-10.035302</td>\n",
       "      <td>-11.733066</td>\n",
       "    </tr>\n",
       "    <tr>\n",
       "      <th>149</th>\n",
       "      <td>37.375</td>\n",
       "      <td>5.52</td>\n",
       "      <td>0.07</td>\n",
       "      <td>NaN</td>\n",
       "      <td>NaN</td>\n",
       "      <td>NaN</td>\n",
       "      <td>NaN</td>\n",
       "      <td>NaN</td>\n",
       "      <td>NaN</td>\n",
       "      <td>NaN</td>\n",
       "      <td>...</td>\n",
       "      <td>-10.512793</td>\n",
       "      <td>-13.664117</td>\n",
       "      <td>-7.479508</td>\n",
       "      <td>-8.004483</td>\n",
       "      <td>-16.986984</td>\n",
       "      <td>-13.711008</td>\n",
       "      <td>-18.400188</td>\n",
       "      <td>-13.719138</td>\n",
       "      <td>-10.035241</td>\n",
       "      <td>-11.733034</td>\n",
       "    </tr>\n",
       "    <tr>\n",
       "      <th>150</th>\n",
       "      <td>37.625</td>\n",
       "      <td>5.52</td>\n",
       "      <td>0.07</td>\n",
       "      <td>NaN</td>\n",
       "      <td>NaN</td>\n",
       "      <td>NaN</td>\n",
       "      <td>NaN</td>\n",
       "      <td>NaN</td>\n",
       "      <td>NaN</td>\n",
       "      <td>NaN</td>\n",
       "      <td>...</td>\n",
       "      <td>-10.512863</td>\n",
       "      <td>-13.664119</td>\n",
       "      <td>-7.479509</td>\n",
       "      <td>-8.004462</td>\n",
       "      <td>-16.987075</td>\n",
       "      <td>-13.711099</td>\n",
       "      <td>-18.400061</td>\n",
       "      <td>-13.719118</td>\n",
       "      <td>-10.035200</td>\n",
       "      <td>-11.733014</td>\n",
       "    </tr>\n",
       "    <tr>\n",
       "      <th>151</th>\n",
       "      <td>37.875</td>\n",
       "      <td>5.52</td>\n",
       "      <td>0.07</td>\n",
       "      <td>NaN</td>\n",
       "      <td>NaN</td>\n",
       "      <td>NaN</td>\n",
       "      <td>NaN</td>\n",
       "      <td>NaN</td>\n",
       "      <td>NaN</td>\n",
       "      <td>NaN</td>\n",
       "      <td>...</td>\n",
       "      <td>-10.512899</td>\n",
       "      <td>-13.664120</td>\n",
       "      <td>-7.479510</td>\n",
       "      <td>-8.004451</td>\n",
       "      <td>-16.987121</td>\n",
       "      <td>-13.711144</td>\n",
       "      <td>-18.399997</td>\n",
       "      <td>-13.719108</td>\n",
       "      <td>-10.035180</td>\n",
       "      <td>-11.733003</td>\n",
       "    </tr>\n",
       "  </tbody>\n",
       "</table>\n",
       "<p>10944 rows × 61 columns</p>\n",
       "</div>"
      ],
      "text/plain": [
       "          X     Y     Z  Diopside  Diopside_a  Hedenbergite  Hedenbergite_a  \\\n",
       "0     0.125  5.52  0.07  0.041999         0.0      0.023999             0.0   \n",
       "1     0.375  5.52  0.07  0.041999         0.0      0.024000             0.0   \n",
       "2     0.625  5.52  0.07  0.041999         0.0      0.024000             0.0   \n",
       "3     0.875  5.52  0.07  0.042000         0.0      0.024000             0.0   \n",
       "4     1.125  5.52  0.07  0.042000         0.0      0.024000             0.0   \n",
       "..      ...   ...   ...       ...         ...           ...             ...   \n",
       "147  36.875  5.52  0.07       NaN         NaN           NaN             NaN   \n",
       "148  37.125  5.52  0.07       NaN         NaN           NaN             NaN   \n",
       "149  37.375  5.52  0.07       NaN         NaN           NaN             NaN   \n",
       "150  37.625  5.52  0.07       NaN         NaN           NaN             NaN   \n",
       "151  37.875  5.52  0.07       NaN         NaN           NaN             NaN   \n",
       "\n",
       "     Albite  Albite_a  Anorthite  ...      CaOH+      FeCl+     FeOH+  \\\n",
       "0     0.039       0.0      0.057  ...        NaN        NaN       NaN   \n",
       "1     0.039       0.0      0.057  ...        NaN        NaN       NaN   \n",
       "2     0.039       0.0      0.057  ...        NaN        NaN       NaN   \n",
       "3     0.039       0.0      0.057  ...        NaN        NaN       NaN   \n",
       "4     0.039       0.0      0.057  ...        NaN        NaN       NaN   \n",
       "..      ...       ...        ...  ...        ...        ...       ...   \n",
       "147     NaN       NaN        NaN  ... -10.512548 -13.664109 -7.479505   \n",
       "148     NaN       NaN        NaN  ... -10.512688 -13.664113 -7.479507   \n",
       "149     NaN       NaN        NaN  ... -10.512793 -13.664117 -7.479508   \n",
       "150     NaN       NaN        NaN  ... -10.512863 -13.664119 -7.479509   \n",
       "151     NaN       NaN        NaN  ... -10.512899 -13.664120 -7.479510   \n",
       "\n",
       "       HSiO3-    KCl(aq)    KOH(aq)      MgCl+   NaCl(aq)  NaHSiO3(aq)  \\\n",
       "0         NaN        NaN        NaN        NaN        NaN          NaN   \n",
       "1         NaN        NaN        NaN        NaN        NaN          NaN   \n",
       "2         NaN        NaN        NaN        NaN        NaN          NaN   \n",
       "3         NaN        NaN        NaN        NaN        NaN          NaN   \n",
       "4         NaN        NaN        NaN        NaN        NaN          NaN   \n",
       "..        ...        ...        ...        ...        ...          ...   \n",
       "147 -8.004557 -16.986664 -13.710692 -18.400634 -13.719207   -10.035384   \n",
       "148 -8.004514 -16.986847 -13.710873 -18.400379 -13.719168   -10.035302   \n",
       "149 -8.004483 -16.986984 -13.711008 -18.400188 -13.719138   -10.035241   \n",
       "150 -8.004462 -16.987075 -13.711099 -18.400061 -13.719118   -10.035200   \n",
       "151 -8.004451 -16.987121 -13.711144 -18.399997 -13.719108   -10.035180   \n",
       "\n",
       "      NaOH(aq)  \n",
       "0          NaN  \n",
       "1          NaN  \n",
       "2          NaN  \n",
       "3          NaN  \n",
       "4          NaN  \n",
       "..         ...  \n",
       "147 -11.733107  \n",
       "148 -11.733066  \n",
       "149 -11.733034  \n",
       "150 -11.733014  \n",
       "151 -11.733003  \n",
       "\n",
       "[10944 rows x 61 columns]"
      ]
     },
     "execution_count": 6,
     "metadata": {},
     "output_type": "execute_result"
    }
   ],
   "source": [
    "df_FB"
   ]
  },
  {
   "cell_type": "code",
   "execution_count": 7,
   "metadata": {},
   "outputs": [],
   "source": [
    "df_FB = df_FB.replace(to_replace=r'^\\d+\\.\\d+-\\d+$', value='0', regex=True)"
   ]
  },
  {
   "cell_type": "markdown",
   "metadata": {},
   "source": [
    "# 1.0 - Dodd Model Data"
   ]
  },
  {
   "cell_type": "code",
   "execution_count": 8,
   "metadata": {},
   "outputs": [],
   "source": [
    "df = df_FB.filter([\"X\", \"timestep\", \"metric\", \"Siderite\"])\n",
    "df = df.dropna(axis=0)\n",
    "df = df[df[\"metric\"] == \"volume\"]"
   ]
  },
  {
   "cell_type": "code",
   "execution_count": 9,
   "metadata": {},
   "outputs": [],
   "source": [
    "def df_interpreter(df, week):\n",
    "    df = df[df[\"timestep\"] == week]\n",
    "    x = (df.X).astype(float)\n",
    "    y = df[\"Siderite\"].astype(float)\n",
    "    return x, y"
   ]
  },
  {
   "cell_type": "code",
   "execution_count": 10,
   "metadata": {},
   "outputs": [],
   "source": [
    "x_fb_dodd_6week_DistMm, y_fb_dodd_6week_VolFracDecPct = df_interpreter(df, \"42.0\")\n",
    "x_fb_dodd_12week_DistMm, y_fb_dodd_12week_VolFracDecPct = df_interpreter(df, \"84.0\")\n",
    "x_fb_dodd_20week_DistMm, y_fb_dodd_20week_VolFracDecPct = df_interpreter(df, \"140.0\")\n",
    "x_fb_dodd_30week_DistMm, y_fb_dodd_30week_VolFracDecPct = df_interpreter(df, \"210.0\")\n",
    "x_fb_dodd_40week_DistMm, y_fb_dodd_40week_VolFracDecPct = df_interpreter(df, \"280.0\")"
   ]
  },
  {
   "cell_type": "code",
   "execution_count": 11,
   "metadata": {},
   "outputs": [],
   "source": [
    "y_fb_dodd_6week_VolFracPct = y_fb_dodd_6week_VolFracDecPct * 100\n",
    "y_fb_dodd_12week_VolFracPct = y_fb_dodd_12week_VolFracDecPct * 100\n",
    "y_fb_dodd_20week_VolFracPct = y_fb_dodd_20week_VolFracDecPct * 100\n",
    "y_fb_dodd_30week_VolFracPct = y_fb_dodd_30week_VolFracDecPct * 100\n",
    "y_fb_dodd_40week_VolFracPct = y_fb_dodd_40week_VolFracDecPct * 100"
   ]
  },
  {
   "cell_type": "code",
   "execution_count": 12,
   "metadata": {},
   "outputs": [],
   "source": [
    "def NormalizeData(data, lower, upper):\n",
    "    return (data - lower) / (upper - lower)"
   ]
  },
  {
   "cell_type": "code",
   "execution_count": 13,
   "metadata": {},
   "outputs": [],
   "source": [
    "max_vals = []\n",
    "list_of_Xs = [y_fb_dodd_6week_VolFracPct, y_fb_dodd_12week_VolFracPct, y_fb_dodd_20week_VolFracPct, y_fb_dodd_30week_VolFracPct, y_fb_dodd_40week_VolFracPct]\n",
    "for _ in list_of_Xs:\n",
    "    max_vals.append(max(_))\n",
    "max_value = max(max_vals)"
   ]
  },
  {
   "cell_type": "code",
   "execution_count": 14,
   "metadata": {},
   "outputs": [],
   "source": [
    "y_lower = 0\n",
    "y_higher = max_value\n",
    "\n",
    "y_fb_dodd_6week_VolFracPct_norm = NormalizeData(np.array(y_fb_dodd_6week_VolFracPct), y_lower, y_higher)\n",
    "y_fb_dodd_12week_VolFracPct_norm = NormalizeData(np.array(y_fb_dodd_12week_VolFracPct), y_lower, y_higher)\n",
    "y_fb_dodd_20week_VolFracPct_norm = NormalizeData(np.array(y_fb_dodd_20week_VolFracPct), y_lower, y_higher)\n",
    "y_fb_dodd_30week_VolFracPct_norm = NormalizeData(np.array(y_fb_dodd_30week_VolFracPct), y_lower, y_higher)\n",
    "y_fb_dodd_40week_VolFracPct_norm = NormalizeData(np.array(y_fb_dodd_40week_VolFracPct), y_lower, y_higher)"
   ]
  },
  {
   "cell_type": "markdown",
   "metadata": {},
   "source": [
    "# 1.1 - Xiong Model Data - Siderite"
   ]
  },
  {
   "cell_type": "code",
   "execution_count": 15,
   "metadata": {},
   "outputs": [],
   "source": [
    "fb_xiong_path = \"/Users/thomasdodd/Library/CloudStorage/OneDrive-MillfieldEnterprisesLimited/cambridge/ai4er/easter/mres/crunchflow_work/Xiong_data/FB_modelled.csv\"\n",
    "fb_xiong_df = pd.read_csv(fb_xiong_path)"
   ]
  },
  {
   "cell_type": "code",
   "execution_count": 16,
   "metadata": {},
   "outputs": [],
   "source": [
    "def df_interpreter(df, week):\n",
    "    df = df[df[\"Week\"] == week]\n",
    "    x = (df.Distance).astype(float)\n",
    "    y = df[\"Volume_Fraction\"].astype(float)\n",
    "    return x, y"
   ]
  },
  {
   "cell_type": "code",
   "execution_count": 17,
   "metadata": {},
   "outputs": [],
   "source": [
    "x_fb_xiong_6week_DistMm, y_fb_xiong_6week_VolFracPct = df_interpreter(fb_xiong_df, \"6week\")\n",
    "x_fb_xiong_12week_DistMm, y_fb_xiong_12week_VolFracPct = df_interpreter(fb_xiong_df, \"12week\")\n",
    "x_fb_xiong_20week_DistMm, y_fb_xiong_20week_VolFracPct = df_interpreter(fb_xiong_df, \"20week\")\n",
    "x_fb_xiong_30week_DistMm, y_fb_xiong_30week_VolFracPct = df_interpreter(fb_xiong_df, \"30week\")\n",
    "x_fb_xiong_40week_DistMm, y_fb_xiong_40week_VolFracPct = df_interpreter(fb_xiong_df, \"40week\")"
   ]
  },
  {
   "cell_type": "code",
   "execution_count": 18,
   "metadata": {},
   "outputs": [],
   "source": [
    "def NormalizeData(data, lower, upper):\n",
    "    return (data - lower) / (upper - lower)"
   ]
  },
  {
   "cell_type": "code",
   "execution_count": 19,
   "metadata": {},
   "outputs": [],
   "source": [
    "max_vals = []\n",
    "list_of_Xs = [y_fb_xiong_6week_VolFracPct, y_fb_xiong_12week_VolFracPct, y_fb_xiong_20week_VolFracPct, y_fb_xiong_30week_VolFracPct, y_fb_xiong_40week_VolFracPct]\n",
    "for _ in list_of_Xs:\n",
    "    max_vals.append(max(_))\n",
    "max_value = max(max_vals)"
   ]
  },
  {
   "cell_type": "code",
   "execution_count": 20,
   "metadata": {},
   "outputs": [],
   "source": [
    "y_lower = 0\n",
    "y_higher = max_value\n",
    "\n",
    "y_fb_xiong_6week_VolFracPct_norm = NormalizeData(np.array(y_fb_xiong_6week_VolFracPct), y_lower, y_higher)\n",
    "y_fb_xiong_12week_VolFracPct_norm = NormalizeData(np.array(y_fb_xiong_12week_VolFracPct), y_lower, y_higher)\n",
    "y_fb_xiong_20week_VolFracPct_norm = NormalizeData(np.array(y_fb_xiong_20week_VolFracPct), y_lower, y_higher)\n",
    "y_fb_xiong_30week_VolFracPct_norm = NormalizeData(np.array(y_fb_xiong_30week_VolFracPct), y_lower, y_higher)\n",
    "y_fb_xiong_40week_VolFracPct_norm = NormalizeData(np.array(y_fb_xiong_40week_VolFracPct), y_lower, y_higher)"
   ]
  },
  {
   "cell_type": "markdown",
   "metadata": {},
   "source": [
    "# 1.2 - Xiong vs Dodd Models - Siderite"
   ]
  },
  {
   "cell_type": "code",
   "execution_count": 21,
   "metadata": {},
   "outputs": [
    {
     "data": {
      "text/plain": [
       "<matplotlib.legend.Legend at 0x10e689ff0>"
      ]
     },
     "execution_count": 21,
     "metadata": {},
     "output_type": "execute_result"
    },
    {
     "data": {
      "image/png": "[encoded data removed]",
      "text/plain": [
       "<Figure size 1512x720 with 1 Axes>"
      ]
     },
     "metadata": {
      "needs_background": "light"
     },
     "output_type": "display_data"
    }
   ],
   "source": [
    "fig, ax1 = plt.subplots(1)\n",
    "fig.set_figheight(10)\n",
    "fig.set_figwidth(21)\n",
    "fig.suptitle(\"Siderite VolFrac: Dodd vs Xiong\")\n",
    "ax1.scatter(x=x_fb_xiong_6week_DistMm, y=y_fb_xiong_6week_VolFracPct, c=\"red\", label=\"X-6\")\n",
    "ax1.scatter(x=x_fb_xiong_12week_DistMm, y=y_fb_xiong_12week_VolFracPct, c=\"orange\", label=\"X-12\")\n",
    "ax1.scatter(x=x_fb_xiong_20week_DistMm, y=y_fb_xiong_20week_VolFracPct, c=\"blue\", label=\"X-20\")\n",
    "ax1.scatter(x=x_fb_xiong_30week_DistMm, y=y_fb_xiong_30week_VolFracPct, c=\"purple\", label=\"X-30\")\n",
    "ax1.scatter(x=x_fb_xiong_40week_DistMm, y=y_fb_xiong_40week_VolFracPct, c=\"green\", label=\"X-40\")\n",
    "ax1.scatter(x=x_fb_dodd_6week_DistMm, y=y_fb_dodd_6week_VolFracPct, c=\"red\", label=\"D-6\", marker=\"+\")\n",
    "ax1.scatter(x=x_fb_dodd_12week_DistMm, y=y_fb_dodd_12week_VolFracPct, c=\"orange\", label=\"D-12\", marker=\"+\")\n",
    "ax1.scatter(x=x_fb_dodd_20week_DistMm, y=y_fb_dodd_20week_VolFracPct, c=\"blue\", label=\"D-20\", marker=\"+\")\n",
    "ax1.scatter(x=x_fb_dodd_30week_DistMm, y=y_fb_dodd_30week_VolFracPct, c=\"purple\", label=\"D-30\", marker=\"+\")\n",
    "ax1.scatter(x=x_fb_dodd_40week_DistMm, y=y_fb_dodd_40week_VolFracPct, c=\"green\", label=\"D-40\", marker=\"+\")\n",
    "ax1.set_xlabel(\"Distance from Fracture Inlet (mm)\")\n",
    "ax1.set_ylabel(\"Siderite Precipitate Volume Fraction (%)\")\n",
    "plt.legend()"
   ]
  },
  {
   "cell_type": "code",
   "execution_count": 22,
   "metadata": {},
   "outputs": [
    {
     "data": {
      "text/plain": [
       "<matplotlib.legend.Legend at 0x10e7a1330>"
      ]
     },
     "execution_count": 22,
     "metadata": {},
     "output_type": "execute_result"
    },
    {
     "data": {
      "image/png": "[encoded data removed]",
      "text/plain": [
       "<Figure size 1512x720 with 1 Axes>"
      ]
     },
     "metadata": {
      "needs_background": "light"
     },
     "output_type": "display_data"
    }
   ],
   "source": [
    "fig, ax1 = plt.subplots(1)\n",
    "fig.set_figheight(10)\n",
    "fig.set_figwidth(21)\n",
    "fig.suptitle(\"Siderite VolFrac: Dodd vs Xiong\")\n",
    "ax1.scatter(x=x_fb_xiong_6week_DistMm, y=y_fb_xiong_6week_VolFracPct_norm, c=\"red\", label=\"X-6\")\n",
    "ax1.scatter(x=x_fb_xiong_12week_DistMm, y=y_fb_xiong_12week_VolFracPct_norm, c=\"orange\", label=\"X-12\")\n",
    "ax1.scatter(x=x_fb_xiong_20week_DistMm, y=y_fb_xiong_20week_VolFracPct_norm, c=\"blue\", label=\"X-20\")\n",
    "ax1.scatter(x=x_fb_xiong_30week_DistMm, y=y_fb_xiong_30week_VolFracPct_norm, c=\"purple\", label=\"X-30\")\n",
    "ax1.scatter(x=x_fb_xiong_40week_DistMm, y=y_fb_xiong_40week_VolFracPct_norm, c=\"green\", label=\"X-40\")\n",
    "ax1.scatter(x=x_fb_dodd_6week_DistMm, y=y_fb_dodd_6week_VolFracPct_norm, c=\"red\", label=\"D-6\", marker=\"+\")\n",
    "ax1.scatter(x=x_fb_dodd_12week_DistMm, y=y_fb_dodd_12week_VolFracPct_norm, c=\"orange\", label=\"D-12\", marker=\"+\")\n",
    "ax1.scatter(x=x_fb_dodd_20week_DistMm, y=y_fb_dodd_20week_VolFracPct_norm, c=\"blue\", label=\"D-20\", marker=\"+\")\n",
    "ax1.scatter(x=x_fb_dodd_30week_DistMm, y=y_fb_dodd_30week_VolFracPct_norm, c=\"purple\", label=\"D-30\", marker=\"+\")\n",
    "ax1.scatter(x=x_fb_dodd_40week_DistMm, y=y_fb_dodd_40week_VolFracPct_norm, c=\"green\", label=\"D-40\", marker=\"+\")\n",
    "ax1.set_xlabel(\"Distance from Fracture Inlet (mm)\")\n",
    "ax1.set_ylabel(\"Normalised Precipitate Volume Fraction\")\n",
    "plt.legend()"
   ]
  },
  {
   "cell_type": "markdown",
   "metadata": {},
   "source": [
    "# 2.0 - Dodd Model Data - Carbonates"
   ]
  },
  {
   "cell_type": "code",
   "execution_count": 23,
   "metadata": {},
   "outputs": [
    {
     "data": {
      "text/html": [
       "<div>\n",
       "<style scoped>\n",
       "    .dataframe tbody tr th:only-of-type {\n",
       "        vertical-align: middle;\n",
       "    }\n",
       "\n",
       "    .dataframe tbody tr th {\n",
       "        vertical-align: top;\n",
       "    }\n",
       "\n",
       "    .dataframe thead th {\n",
       "        text-align: right;\n",
       "    }\n",
       "</style>\n",
       "<table border=\"1\" class=\"dataframe\">\n",
       "  <thead>\n",
       "    <tr style=\"text-align: right;\">\n",
       "      <th></th>\n",
       "      <th>X</th>\n",
       "      <th>timestep</th>\n",
       "      <th>metric</th>\n",
       "      <th>Calcite</th>\n",
       "      <th>Siderite</th>\n",
       "      <th>Magnesite</th>\n",
       "      <th>Carbonates</th>\n",
       "    </tr>\n",
       "  </thead>\n",
       "  <tbody>\n",
       "    <tr>\n",
       "      <th>0</th>\n",
       "      <td>0.125</td>\n",
       "      <td>0.0001</td>\n",
       "      <td>volume</td>\n",
       "      <td>9.814664e-11</td>\n",
       "      <td>9.986960e-11</td>\n",
       "      <td>9.999998e-11</td>\n",
       "      <td>2.980162e-10</td>\n",
       "    </tr>\n",
       "    <tr>\n",
       "      <th>1</th>\n",
       "      <td>0.375</td>\n",
       "      <td>0.0001</td>\n",
       "      <td>volume</td>\n",
       "      <td>9.881493e-11</td>\n",
       "      <td>9.991560e-11</td>\n",
       "      <td>9.999998e-11</td>\n",
       "      <td>2.987305e-10</td>\n",
       "    </tr>\n",
       "    <tr>\n",
       "      <th>2</th>\n",
       "      <td>0.625</td>\n",
       "      <td>0.0001</td>\n",
       "      <td>volume</td>\n",
       "      <td>9.914348e-11</td>\n",
       "      <td>9.993581e-11</td>\n",
       "      <td>9.999998e-11</td>\n",
       "      <td>2.990793e-10</td>\n",
       "    </tr>\n",
       "    <tr>\n",
       "      <th>3</th>\n",
       "      <td>0.875</td>\n",
       "      <td>0.0001</td>\n",
       "      <td>volume</td>\n",
       "      <td>9.928937e-11</td>\n",
       "      <td>9.994510e-11</td>\n",
       "      <td>9.999998e-11</td>\n",
       "      <td>2.992345e-10</td>\n",
       "    </tr>\n",
       "    <tr>\n",
       "      <th>4</th>\n",
       "      <td>1.125</td>\n",
       "      <td>0.0001</td>\n",
       "      <td>volume</td>\n",
       "      <td>9.934643e-11</td>\n",
       "      <td>9.994902e-11</td>\n",
       "      <td>9.999998e-11</td>\n",
       "      <td>2.992954e-10</td>\n",
       "    </tr>\n",
       "    <tr>\n",
       "      <th>...</th>\n",
       "      <td>...</td>\n",
       "      <td>...</td>\n",
       "      <td>...</td>\n",
       "      <td>...</td>\n",
       "      <td>...</td>\n",
       "      <td>...</td>\n",
       "      <td>...</td>\n",
       "    </tr>\n",
       "    <tr>\n",
       "      <th>147</th>\n",
       "      <td>36.875</td>\n",
       "      <td>280.0</td>\n",
       "      <td>volume</td>\n",
       "      <td>0.000000e+00</td>\n",
       "      <td>2.938397e-02</td>\n",
       "      <td>5.011519e-10</td>\n",
       "      <td>2.938398e-02</td>\n",
       "    </tr>\n",
       "    <tr>\n",
       "      <th>148</th>\n",
       "      <td>37.125</td>\n",
       "      <td>280.0</td>\n",
       "      <td>volume</td>\n",
       "      <td>0.000000e+00</td>\n",
       "      <td>2.938382e-02</td>\n",
       "      <td>5.018430e-10</td>\n",
       "      <td>2.938382e-02</td>\n",
       "    </tr>\n",
       "    <tr>\n",
       "      <th>149</th>\n",
       "      <td>37.375</td>\n",
       "      <td>280.0</td>\n",
       "      <td>volume</td>\n",
       "      <td>0.000000e+00</td>\n",
       "      <td>2.938268e-02</td>\n",
       "      <td>5.023595e-10</td>\n",
       "      <td>2.938268e-02</td>\n",
       "    </tr>\n",
       "    <tr>\n",
       "      <th>150</th>\n",
       "      <td>37.625</td>\n",
       "      <td>280.0</td>\n",
       "      <td>volume</td>\n",
       "      <td>0.000000e+00</td>\n",
       "      <td>2.937957e-02</td>\n",
       "      <td>5.027029e-10</td>\n",
       "      <td>2.937957e-02</td>\n",
       "    </tr>\n",
       "    <tr>\n",
       "      <th>151</th>\n",
       "      <td>37.875</td>\n",
       "      <td>280.0</td>\n",
       "      <td>volume</td>\n",
       "      <td>0.000000e+00</td>\n",
       "      <td>2.937632e-02</td>\n",
       "      <td>5.028743e-10</td>\n",
       "      <td>2.937632e-02</td>\n",
       "    </tr>\n",
       "  </tbody>\n",
       "</table>\n",
       "<p>912 rows × 7 columns</p>\n",
       "</div>"
      ],
      "text/plain": [
       "          X timestep  metric       Calcite      Siderite     Magnesite  \\\n",
       "0     0.125   0.0001  volume  9.814664e-11  9.986960e-11  9.999998e-11   \n",
       "1     0.375   0.0001  volume  9.881493e-11  9.991560e-11  9.999998e-11   \n",
       "2     0.625   0.0001  volume  9.914348e-11  9.993581e-11  9.999998e-11   \n",
       "3     0.875   0.0001  volume  9.928937e-11  9.994510e-11  9.999998e-11   \n",
       "4     1.125   0.0001  volume  9.934643e-11  9.994902e-11  9.999998e-11   \n",
       "..      ...      ...     ...           ...           ...           ...   \n",
       "147  36.875    280.0  volume  0.000000e+00  2.938397e-02  5.011519e-10   \n",
       "148  37.125    280.0  volume  0.000000e+00  2.938382e-02  5.018430e-10   \n",
       "149  37.375    280.0  volume  0.000000e+00  2.938268e-02  5.023595e-10   \n",
       "150  37.625    280.0  volume  0.000000e+00  2.937957e-02  5.027029e-10   \n",
       "151  37.875    280.0  volume  0.000000e+00  2.937632e-02  5.028743e-10   \n",
       "\n",
       "       Carbonates  \n",
       "0    2.980162e-10  \n",
       "1    2.987305e-10  \n",
       "2    2.990793e-10  \n",
       "3    2.992345e-10  \n",
       "4    2.992954e-10  \n",
       "..            ...  \n",
       "147  2.938398e-02  \n",
       "148  2.938382e-02  \n",
       "149  2.938268e-02  \n",
       "150  2.937957e-02  \n",
       "151  2.937632e-02  \n",
       "\n",
       "[912 rows x 7 columns]"
      ]
     },
     "execution_count": 23,
     "metadata": {},
     "output_type": "execute_result"
    }
   ],
   "source": [
    "df = df_FB.filter([\"X\", \"timestep\", \"metric\", \"Calcite\", \"Siderite\", \"Magnesite\"])\n",
    "df = df.dropna(axis=0)\n",
    "df = df[df[\"metric\"] == \"volume\"]\n",
    "df['Carbonates'] = df['Calcite'].astype(float) + df['Siderite'].astype(float) + df['Magnesite'].astype(float)\n",
    "df"
   ]
  },
  {
   "cell_type": "code",
   "execution_count": 24,
   "metadata": {},
   "outputs": [],
   "source": [
    "def df_interpreter(df, week):\n",
    "    df = df[df[\"timestep\"] == week]\n",
    "    x = (df.X).astype(float)\n",
    "    y = df[\"Carbonates\"].astype(float)\n",
    "    return x, y"
   ]
  },
  {
   "cell_type": "code",
   "execution_count": 25,
   "metadata": {},
   "outputs": [],
   "source": [
    "x_fb_dodd_6week_Carb_DistMm, y_fb_dodd_6week_Carb_VolFracDecPct = df_interpreter(df, \"42.0\")\n",
    "x_fb_dodd_12week_Carb_DistMm, y_fb_dodd_12week_Carb_VolFracDecPct = df_interpreter(df, \"84.0\")\n",
    "x_fb_dodd_20week_Carb_DistMm, y_fb_dodd_20week_Carb_VolFracDecPct = df_interpreter(df, \"140.0\")\n",
    "x_fb_dodd_30week_Carb_DistMm, y_fb_dodd_30week_Carb_VolFracDecPct = df_interpreter(df, \"210.0\")\n",
    "x_fb_dodd_40week_Carb_DistMm, y_fb_dodd_40week_Carb_VolFracDecPct = df_interpreter(df, \"280.0\")"
   ]
  },
  {
   "cell_type": "code",
   "execution_count": 26,
   "metadata": {},
   "outputs": [],
   "source": [
    "y_fb_dodd_6week_Carb_VolFracPct = y_fb_dodd_6week_Carb_VolFracDecPct * 100\n",
    "y_fb_dodd_12week_Carb_VolFracPct = y_fb_dodd_12week_Carb_VolFracDecPct * 100\n",
    "y_fb_dodd_20week_Carb_VolFracPct = y_fb_dodd_20week_Carb_VolFracDecPct * 100\n",
    "y_fb_dodd_30week_Carb_VolFracPct = y_fb_dodd_30week_Carb_VolFracDecPct * 100\n",
    "y_fb_dodd_40week_Carb_VolFracPct = y_fb_dodd_40week_Carb_VolFracDecPct * 100"
   ]
  },
  {
   "cell_type": "code",
   "execution_count": 27,
   "metadata": {},
   "outputs": [
    {
     "data": {
      "text/plain": [
       "<matplotlib.collections.PathCollection at 0x10e83b730>"
      ]
     },
     "execution_count": 27,
     "metadata": {},
     "output_type": "execute_result"
    },
    {
     "data": {
      "image/png": "[encoded data removed]",
      "text/plain": [
       "<Figure size 432x288 with 1 Axes>"
      ]
     },
     "metadata": {
      "needs_background": "light"
     },
     "output_type": "display_data"
    }
   ],
   "source": [
    "fig, ax1 = plt.subplots(1)\n",
    "ax1.scatter(x_fb_dodd_6week_Carb_DistMm, y_fb_dodd_6week_Carb_VolFracPct)"
   ]
  },
  {
   "cell_type": "code",
   "execution_count": 28,
   "metadata": {},
   "outputs": [],
   "source": [
    "def NormalizeData(data, lower, upper):\n",
    "    return (data - lower) / (upper - lower)"
   ]
  },
  {
   "cell_type": "code",
   "execution_count": 29,
   "metadata": {},
   "outputs": [],
   "source": [
    "# max_vals = []\n",
    "# list_of_Xs = [y_fb_dodd_6week_Carb_VolFracPct, y_fb_dodd_12week_Carb_VolFracPct, y_fb_dodd_20week_Carb_VolFracPct, y_fb_dodd_30week_Carb_VolFracPct, y_fb_dodd_40week_Carb_VolFracPct]\n",
    "# for _ in list_of_Xs:\n",
    "#     max_vals.append(max(_))\n",
    "# max_value = max(max_vals)"
   ]
  },
  {
   "cell_type": "code",
   "execution_count": 30,
   "metadata": {},
   "outputs": [],
   "source": [
    "# y_lower = 0\n",
    "# y_higher = max_value\n",
    "\n",
    "y_lower = 0\n",
    "y_higher = max(y_fb_dodd_40week_Carb_VolFracPct)\n",
    "\n",
    "# y_fb_dodd_6week_Carb_VolFracPct_norm = NormalizeData(y_fb_dodd_6week_Carb_VolFracPct, y_lower, y_higher)\n",
    "# y_fb_dodd_12week_Carb_VolFracPct_norm = NormalizeData(y_fb_dodd_12week_Carb_VolFracPct, y_lower, y_higher)\n",
    "# y_fb_dodd_20week_Carb_VolFracPct_norm = NormalizeData(y_fb_dodd_20week_Carb_VolFracPct, y_lower, y_higher)\n",
    "# y_fb_dodd_30week_Carb_VolFracPct_norm = NormalizeData(y_fb_dodd_30week_Carb_VolFracPct, y_lower, y_higher)\n",
    "y_fb_dodd_40week_Carb_VolFracPct_norm = NormalizeData(y_fb_dodd_40week_Carb_VolFracPct, y_lower, y_higher)"
   ]
  },
  {
   "cell_type": "markdown",
   "metadata": {},
   "source": [
    "# 2.1 - Xiong Experimental Data - Carbonates"
   ]
  },
  {
   "cell_type": "code",
   "execution_count": 31,
   "metadata": {},
   "outputs": [],
   "source": [
    "fb_xiong_path = \"/Users/thomasdodd/Library/CloudStorage/OneDrive-MillfieldEnterprisesLimited/cambridge/ai4er/easter/mres/crunchflow_work/Xiong_data/FB_40weeks.csv\"\n",
    "fb_xiong_df = pd.read_csv(fb_xiong_path)"
   ]
  },
  {
   "cell_type": "code",
   "execution_count": 32,
   "metadata": {},
   "outputs": [],
   "source": [
    "def df_interpreter(df, volume_fraction):\n",
    "    x = df.Dist\n",
    "    y = df[volume_fraction]\n",
    "    return x, y"
   ]
  },
  {
   "cell_type": "code",
   "execution_count": 33,
   "metadata": {},
   "outputs": [],
   "source": [
    "x_xiong_fb_dist_mm, y_xiong_fb_VolFrac = df_interpreter(fb_xiong_df, \"Volume_Fraction\")\n",
    "x_xiong_fb_dist_mm_NpArr = np.array(x_xiong_fb_dist_mm)\n",
    "y_xiong_fb_VolFrac_NpArr = np.array(y_xiong_fb_VolFrac)"
   ]
  },
  {
   "cell_type": "code",
   "execution_count": 34,
   "metadata": {},
   "outputs": [],
   "source": [
    "def NormalizeData(data, lower, upper):\n",
    "    return (data - lower) / (upper - lower)"
   ]
  },
  {
   "cell_type": "code",
   "execution_count": 35,
   "metadata": {},
   "outputs": [],
   "source": [
    "lower = 0\n",
    "upper = max(y_xiong_fb_VolFrac_NpArr)\n",
    "y_xiong_fb_VolFrac_norm = NormalizeData(y_xiong_fb_VolFrac_NpArr, lower, upper)"
   ]
  },
  {
   "cell_type": "markdown",
   "metadata": {},
   "source": [
    "# 2.2 - Dodd Model vs Xiong Experimental - Carbonates"
   ]
  },
  {
   "cell_type": "code",
   "execution_count": 36,
   "metadata": {},
   "outputs": [
    {
     "data": {
      "text/plain": [
       "<matplotlib.legend.Legend at 0x10e8a5540>"
      ]
     },
     "execution_count": 36,
     "metadata": {},
     "output_type": "execute_result"
    },
    {
     "data": {
      "image/png": "[encoded data removed]",
      "text/plain": [
       "<Figure size 1512x720 with 1 Axes>"
      ]
     },
     "metadata": {
      "needs_background": "light"
     },
     "output_type": "display_data"
    }
   ],
   "source": [
    "fig, ax1 = plt.subplots(1)\n",
    "fig.set_figheight(10)\n",
    "fig.set_figwidth(21)\n",
    "fig.suptitle(\"Carbonate VolFrac: Dodd vs Xiong\")\n",
    "ax1.scatter(x=x_xiong_fb_dist_mm_NpArr, y=y_xiong_fb_VolFrac_NpArr, c=\"green\", label=\"X-40\")\n",
    "# ax1.scatter(x=x_fb_dodd_6week_Carb_DistMm, y=y_fb_dodd_6week_Carb_VolFracPct, c=\"red\", label=\"D-6\", marker=\"+\")\n",
    "# ax1.scatter(x=x_fb_dodd_12week_Carb_DistMm, y=y_fb_dodd_12week_Carb_VolFracPct, c=\"orange\", label=\"D-12\", marker=\"+\")\n",
    "# ax1.scatter(x=x_fb_dodd_20week_Carb_DistMm, y=y_fb_dodd_20week_Carb_VolFracPct, c=\"blue\", label=\"D-20\", marker=\"+\")\n",
    "# ax1.scatter(x=x_fb_dodd_30week_Carb_DistMm, y=y_fb_dodd_30week_Carb_VolFracPct, c=\"purple\", label=\"D-30\", marker=\"+\")\n",
    "ax1.scatter(x=x_fb_dodd_40week_Carb_DistMm, y=y_fb_dodd_40week_Carb_VolFracPct, c=\"green\", label=\"D-40\", marker=\"+\")\n",
    "ax1.set_xlabel(\"Distance from Fracture Inlet (mm)\")\n",
    "ax1.set_ylabel(\"Carbonate Precipitate Volume Fraction (%)\")\n",
    "plt.legend()"
   ]
  },
  {
   "cell_type": "code",
   "execution_count": 37,
   "metadata": {},
   "outputs": [
    {
     "data": {
      "text/plain": [
       "<matplotlib.legend.Legend at 0x10e917130>"
      ]
     },
     "execution_count": 37,
     "metadata": {},
     "output_type": "execute_result"
    },
    {
     "data": {
      "image/png": "[encoded data removed]",
      "text/plain": [
       "<Figure size 1512x720 with 1 Axes>"
      ]
     },
     "metadata": {
      "needs_background": "light"
     },
     "output_type": "display_data"
    }
   ],
   "source": [
    "fig, ax1 = plt.subplots(1)\n",
    "fig.set_figheight(10)\n",
    "fig.set_figwidth(21)\n",
    "fig.suptitle(\"Carbonate VolFrac Normalised: Dodd vs Xiong\")\n",
    "ax1.scatter(x=x_xiong_fb_dist_mm_NpArr, y=y_xiong_fb_VolFrac_norm, c=\"green\", label=\"X-40\")\n",
    "# ax1.scatter(x=x_fb_dodd_6week_Carb_DistMm, y=y_fb_dodd_6week_Carb_VolFracPct_norm, c=\"red\", label=\"D-6\", marker=\"+\")\n",
    "# ax1.scatter(x=x_fb_dodd_12week_Carb_DistMm, y=y_fb_dodd_12week_Carb_VolFracPct_norm, c=\"orange\", label=\"D-12\", marker=\"+\")\n",
    "# ax1.scatter(x=x_fb_dodd_20week_Carb_DistMm, y=y_fb_dodd_20week_Carb_VolFracPct_norm, c=\"blue\", label=\"D-20\", marker=\"+\")\n",
    "# ax1.scatter(x=x_fb_dodd_30week_Carb_DistMm, y=y_fb_dodd_30week_Carb_VolFracPct_norm, c=\"purple\", label=\"D-30\", marker=\"+\")\n",
    "ax1.scatter(x=x_fb_dodd_40week_Carb_DistMm, y=y_fb_dodd_40week_Carb_VolFracPct_norm, c=\"green\", label=\"D-40\", marker=\"+\")\n",
    "ax1.set_xlabel(\"Distance from Fracture Inlet (mm)\")\n",
    "ax1.set_ylabel(\"Normalised Precipitate Volume Fraction\")\n",
    "plt.legend()"
   ]
  },
  {
   "cell_type": "markdown",
   "metadata": {},
   "source": [
    "# Carbonates by Mineral"
   ]
  },
  {
   "cell_type": "code",
   "execution_count": 38,
   "metadata": {},
   "outputs": [
    {
     "data": {
      "text/html": [
       "<div>\n",
       "<style scoped>\n",
       "    .dataframe tbody tr th:only-of-type {\n",
       "        vertical-align: middle;\n",
       "    }\n",
       "\n",
       "    .dataframe tbody tr th {\n",
       "        vertical-align: top;\n",
       "    }\n",
       "\n",
       "    .dataframe thead th {\n",
       "        text-align: right;\n",
       "    }\n",
       "</style>\n",
       "<table border=\"1\" class=\"dataframe\">\n",
       "  <thead>\n",
       "    <tr style=\"text-align: right;\">\n",
       "      <th></th>\n",
       "      <th>X</th>\n",
       "      <th>timestep</th>\n",
       "      <th>metric</th>\n",
       "      <th>Calcite</th>\n",
       "      <th>Siderite</th>\n",
       "      <th>Magnesite</th>\n",
       "      <th>Carbonates</th>\n",
       "    </tr>\n",
       "  </thead>\n",
       "  <tbody>\n",
       "    <tr>\n",
       "      <th>0</th>\n",
       "      <td>0.125</td>\n",
       "      <td>280.0</td>\n",
       "      <td>volume</td>\n",
       "      <td>0.0</td>\n",
       "      <td>0.000000</td>\n",
       "      <td>6.070637e-11</td>\n",
       "      <td>6.070637e-11</td>\n",
       "    </tr>\n",
       "    <tr>\n",
       "      <th>1</th>\n",
       "      <td>0.375</td>\n",
       "      <td>280.0</td>\n",
       "      <td>volume</td>\n",
       "      <td>0.0</td>\n",
       "      <td>0.000000</td>\n",
       "      <td>6.160224e-11</td>\n",
       "      <td>6.160224e-11</td>\n",
       "    </tr>\n",
       "    <tr>\n",
       "      <th>2</th>\n",
       "      <td>0.625</td>\n",
       "      <td>280.0</td>\n",
       "      <td>volume</td>\n",
       "      <td>0.0</td>\n",
       "      <td>0.000000</td>\n",
       "      <td>6.220332e-11</td>\n",
       "      <td>6.220332e-11</td>\n",
       "    </tr>\n",
       "    <tr>\n",
       "      <th>3</th>\n",
       "      <td>0.875</td>\n",
       "      <td>280.0</td>\n",
       "      <td>volume</td>\n",
       "      <td>0.0</td>\n",
       "      <td>0.000000</td>\n",
       "      <td>6.266864e-11</td>\n",
       "      <td>6.266864e-11</td>\n",
       "    </tr>\n",
       "    <tr>\n",
       "      <th>4</th>\n",
       "      <td>1.125</td>\n",
       "      <td>280.0</td>\n",
       "      <td>volume</td>\n",
       "      <td>0.0</td>\n",
       "      <td>0.000000</td>\n",
       "      <td>6.306334e-11</td>\n",
       "      <td>6.306334e-11</td>\n",
       "    </tr>\n",
       "    <tr>\n",
       "      <th>...</th>\n",
       "      <td>...</td>\n",
       "      <td>...</td>\n",
       "      <td>...</td>\n",
       "      <td>...</td>\n",
       "      <td>...</td>\n",
       "      <td>...</td>\n",
       "      <td>...</td>\n",
       "    </tr>\n",
       "    <tr>\n",
       "      <th>147</th>\n",
       "      <td>36.875</td>\n",
       "      <td>280.0</td>\n",
       "      <td>volume</td>\n",
       "      <td>0.0</td>\n",
       "      <td>0.029384</td>\n",
       "      <td>5.011519e-10</td>\n",
       "      <td>2.938398e-02</td>\n",
       "    </tr>\n",
       "    <tr>\n",
       "      <th>148</th>\n",
       "      <td>37.125</td>\n",
       "      <td>280.0</td>\n",
       "      <td>volume</td>\n",
       "      <td>0.0</td>\n",
       "      <td>0.029384</td>\n",
       "      <td>5.018430e-10</td>\n",
       "      <td>2.938382e-02</td>\n",
       "    </tr>\n",
       "    <tr>\n",
       "      <th>149</th>\n",
       "      <td>37.375</td>\n",
       "      <td>280.0</td>\n",
       "      <td>volume</td>\n",
       "      <td>0.0</td>\n",
       "      <td>0.029383</td>\n",
       "      <td>5.023595e-10</td>\n",
       "      <td>2.938268e-02</td>\n",
       "    </tr>\n",
       "    <tr>\n",
       "      <th>150</th>\n",
       "      <td>37.625</td>\n",
       "      <td>280.0</td>\n",
       "      <td>volume</td>\n",
       "      <td>0.0</td>\n",
       "      <td>0.029380</td>\n",
       "      <td>5.027029e-10</td>\n",
       "      <td>2.937957e-02</td>\n",
       "    </tr>\n",
       "    <tr>\n",
       "      <th>151</th>\n",
       "      <td>37.875</td>\n",
       "      <td>280.0</td>\n",
       "      <td>volume</td>\n",
       "      <td>0.0</td>\n",
       "      <td>0.029376</td>\n",
       "      <td>5.028743e-10</td>\n",
       "      <td>2.937632e-02</td>\n",
       "    </tr>\n",
       "  </tbody>\n",
       "</table>\n",
       "<p>152 rows × 7 columns</p>\n",
       "</div>"
      ],
      "text/plain": [
       "          X timestep  metric  Calcite  Siderite     Magnesite    Carbonates\n",
       "0     0.125    280.0  volume      0.0  0.000000  6.070637e-11  6.070637e-11\n",
       "1     0.375    280.0  volume      0.0  0.000000  6.160224e-11  6.160224e-11\n",
       "2     0.625    280.0  volume      0.0  0.000000  6.220332e-11  6.220332e-11\n",
       "3     0.875    280.0  volume      0.0  0.000000  6.266864e-11  6.266864e-11\n",
       "4     1.125    280.0  volume      0.0  0.000000  6.306334e-11  6.306334e-11\n",
       "..      ...      ...     ...      ...       ...           ...           ...\n",
       "147  36.875    280.0  volume      0.0  0.029384  5.011519e-10  2.938398e-02\n",
       "148  37.125    280.0  volume      0.0  0.029384  5.018430e-10  2.938382e-02\n",
       "149  37.375    280.0  volume      0.0  0.029383  5.023595e-10  2.938268e-02\n",
       "150  37.625    280.0  volume      0.0  0.029380  5.027029e-10  2.937957e-02\n",
       "151  37.875    280.0  volume      0.0  0.029376  5.028743e-10  2.937632e-02\n",
       "\n",
       "[152 rows x 7 columns]"
      ]
     },
     "execution_count": 38,
     "metadata": {},
     "output_type": "execute_result"
    }
   ],
   "source": [
    "df = df_FB.filter([\"X\", \"timestep\", \"metric\", \"Calcite\", \"Siderite\", \"Magnesite\"])\n",
    "df = df.dropna(axis=0)\n",
    "df = df[df[\"metric\"] == \"volume\"]\n",
    "df = df[df[\"timestep\"] == \"280.0\"]\n",
    "df['Carbonates'] = df['Calcite'].astype(float) + df['Siderite'].astype(float) + df['Magnesite'].astype(float)\n",
    "df"
   ]
  },
  {
   "cell_type": "code",
   "execution_count": 39,
   "metadata": {},
   "outputs": [
    {
     "data": {
      "image/png": "[encoded data removed]",
      "text/plain": [
       "<Figure size 1512x288 with 4 Axes>"
      ]
     },
     "metadata": {
      "needs_background": "light"
     },
     "output_type": "display_data"
    }
   ],
   "source": [
    "fig, (ax1, ax2, ax3, ax4) = plt.subplots(1,4, sharey=True)\n",
    "fig.set_figheight(4)\n",
    "fig.set_figwidth(21)\n",
    "ax1.scatter(df[\"X\"].astype(float), df[\"Calcite\"].astype(float))\n",
    "ax1.set_title(\"Calcite\")\n",
    "ax2.scatter(df[\"X\"].astype(float), df[\"Siderite\"].astype(float))\n",
    "ax2.set_title(\"Siderite\")\n",
    "ax3.scatter(df[\"X\"].astype(float), df[\"Magnesite\"].astype(float))\n",
    "ax3.set_title(\"Magnesite\")\n",
    "ax4.scatter(df[\"X\"].astype(float), df[\"Carbonates\"].astype(float))\n",
    "ax4.set_title(\"Carbonates\")\n",
    "plt.tight_layout()"
   ]
  },
  {
   "cell_type": "code",
   "execution_count": null,
   "metadata": {},
   "outputs": [],
   "source": []
  }
 ],
 "metadata": {
  "interpreter": {
   "hash": "1f5a9ee26702319cd369ef3e03c3c80aafb7aa74a4afc3a7d4c42cb609aa32fa"
  },
  "kernelspec": {
   "display_name": "Python 3.10.2 ('coding')",
   "language": "python",
   "name": "python3"
  },
  "language_info": {
   "codemirror_mode": {
    "name": "ipython",
    "version": 3
   },
   "file_extension": ".py",
   "mimetype": "text/x-python",
   "name": "python",
   "nbconvert_exporter": "python",
   "pygments_lexer": "ipython3",
   "version": "3.10.2"
  },
  "orig_nbformat": 4
 },
 "nbformat": 4,
 "nbformat_minor": 2
}
