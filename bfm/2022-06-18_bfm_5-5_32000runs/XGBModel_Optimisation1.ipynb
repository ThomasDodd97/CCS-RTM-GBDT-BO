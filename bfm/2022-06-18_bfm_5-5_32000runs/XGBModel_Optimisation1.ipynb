{
 "cells": [
  {
   "cell_type": "code",
   "execution_count": 1,
   "metadata": {},
   "outputs": [
    {
     "name": "stderr",
     "output_type": "stream",
     "text": [
      "/Users/thomasdodd/opt/anaconda3/envs/omphalos/lib/python3.10/site-packages/xgboost/compat.py:36: FutureWarning: pandas.Int64Index is deprecated and will be removed from pandas in a future version. Use pandas.Index with the appropriate dtype instead.\n",
      "  from pandas import MultiIndex, Int64Index\n"
     ]
    }
   ],
   "source": [
    "import sys\n",
    "sys.path.insert(0,'/Users/thomasdodd/Library/CloudStorage/OneDrive-MillfieldEnterprisesLimited/github/Omphalos')\n",
    "sys.path.insert(1,'/Users/thomasdodd/Library/CloudStorage/OneDrive-MillfieldEnterprisesLimited/github')\n",
    "import numpy as np\n",
    "import pandas as pd\n",
    "import xarray as xr\n",
    "\n",
    "import xgboost as xgb\n",
    "\n",
    "from importlib import reload"
   ]
  },
  {
   "cell_type": "code",
   "execution_count": 2,
   "metadata": {},
   "outputs": [],
   "source": [
    "bst = xgb.Booster()\n",
    "bst.load_model(fname='bfm_XGBModel_5-5_Epo-3000.json')"
   ]
  },
  {
   "cell_type": "code",
   "execution_count": 3,
   "metadata": {},
   "outputs": [],
   "source": [
    "# Define all the attributes we have varied in .yaml file\n",
    "attribute_names = [\"Al+++\",\"Ca++\",\"Fe++\",\"K+\",\"Na+\",\"Mg++\",\"SiO2(aq)\",\"Cl-\"]"
   ]
  },
  {
   "cell_type": "code",
   "execution_count": 4,
   "metadata": {},
   "outputs": [],
   "source": [
    "y_norm = 96.2359084\n",
    "x_norms = [0.0199996777771118,0.0199998101672167,0.019999719657439,0.019999945896381,0.0199997455006281,0.0199994907051103,0.0199990220873342,0.0199997402413945]"
   ]
  },
  {
   "cell_type": "code",
   "execution_count": 5,
   "metadata": {},
   "outputs": [],
   "source": [
    "# The (ab)normalization functions and scaling function\n",
    "def NormalizeData(data, upper):\n",
    "    return data / upper\n",
    "def AbNormalizeData(data, upper):\n",
    "    return data * upper\n",
    "def ScaleData(data, scale_factor):\n",
    "    return data * scale_factor"
   ]
  },
  {
   "cell_type": "code",
   "execution_count": 6,
   "metadata": {},
   "outputs": [],
   "source": [
    "upper_x = 1.6E-2\n",
    "lower_x = 0"
   ]
  },
  {
   "cell_type": "markdown",
   "metadata": {},
   "source": [
    "# Brute Force Technique - Random Sampling Optimisation"
   ]
  },
  {
   "cell_type": "code",
   "execution_count": 8,
   "metadata": {},
   "outputs": [
    {
     "name": "stdout",
     "output_type": "stream",
     "text": [
      "Index point of the optimal conditions: 619075\n",
      "Volume Fraction of Carbonates within the Fracture: 3.22 %\n",
      "Optimal Concentrations of Aqueous Species in Carbonated Fluid:\n",
      "[Al+++] = 0.163 mmol/kg\n",
      "[Ca++] = 0.767 mmol/kg\n",
      "[Fe++] = 0.605 mmol/kg\n",
      "[K+] = 4.099 mmol/kg\n",
      "[Na+] = 0.173 mmol/kg\n",
      "[Mg++] = 11.803 mmol/kg\n",
      "[SiO2(aq)] = 0.037 mmol/kg\n",
      "[Cl-] = 14.787 mmol/kg\n",
      "CPU times: user 3min 19s, sys: 1.25 s, total: 3min 20s\n",
      "Wall time: 20.8 s\n"
     ]
    }
   ],
   "source": [
    "%%time\n",
    "\n",
    "#Finding best parameter from within the parameter space bounds set:\n",
    "# samples = 100000000 # 100,000,000 runs : 5 mins for matrix, 5mins for model interrogation, 10mins work\n",
    "samples = 10000000 # 10,000,000 runs : 3 mins work\n",
    "\n",
    "\n",
    "x1 = np.random.uniform(lower_x, upper_x, samples)\n",
    "x2 = np.random.uniform(lower_x, upper_x, samples)\n",
    "x3 = np.random.uniform(lower_x, upper_x, samples)\n",
    "x4 = np.random.uniform(lower_x, upper_x, samples)\n",
    "x5 = np.random.uniform(lower_x, upper_x, samples)\n",
    "x6 = np.random.uniform(lower_x, upper_x, samples)\n",
    "x7 = np.random.uniform(lower_x, upper_x, samples)\n",
    "x8 = np.random.uniform(lower_x, upper_x, samples)\n",
    "\n",
    "for _ in x_norms:\n",
    "    x1_norm = NormalizeData(x1,_)\n",
    "    x2_norm = NormalizeData(x2,_)\n",
    "    x3_norm = NormalizeData(x3,_)\n",
    "    x4_norm = NormalizeData(x4,_)\n",
    "    x5_norm = NormalizeData(x5,_)\n",
    "    x6_norm = NormalizeData(x6,_)\n",
    "    x7_norm = NormalizeData(x7,_)\n",
    "    x8_norm = NormalizeData(x8,_)\n",
    "\n",
    "matrix = np.ones((samples, len(attribute_names)))\n",
    "matrix[:,0] = x1\n",
    "matrix[:,1] = x2\n",
    "matrix[:,2] = x3\n",
    "matrix[:,3] = x4\n",
    "matrix[:,4] = x5\n",
    "matrix[:,5] = x6\n",
    "matrix[:,6] = x7\n",
    "matrix[:,7] = x8\n",
    "\n",
    "matrix_norm = np.ones((samples, len(attribute_names)))\n",
    "matrix_norm[:,0] = x1_norm\n",
    "matrix_norm[:,1] = x2_norm\n",
    "matrix_norm[:,2] = x3_norm\n",
    "matrix_norm[:,3] = x4_norm\n",
    "matrix_norm[:,4] = x5_norm\n",
    "matrix_norm[:,5] = x6_norm\n",
    "matrix_norm[:,6] = x7_norm\n",
    "matrix_norm[:,7] = x8_norm\n",
    "\n",
    "ypred_arr_norm = bst.predict(xgb.DMatrix(matrix_norm))\n",
    "ypred_arr = AbNormalizeData(ypred_arr_norm, y_norm)\n",
    "\n",
    "max_index = np.argmax(ypred_arr)\n",
    "optimal_x_conditions = matrix[max_index,:]\n",
    "print(f\"Index point of the optimal conditions: {max_index}\")\n",
    "print(f\"Volume Fraction of Carbonates within the Fracture: {round((ypred_arr[max_index]).astype(float),2)} %\")\n",
    "print(\"Optimal Concentrations of Aqueous Species in Carbonated Fluid:\")\n",
    "print(f\"[Al+++] = {round((optimal_x_conditions[0]*1000),3)} mmol/kg\")\n",
    "print(f\"[Ca++] = {round((optimal_x_conditions[1]*1000),3)} mmol/kg\")\n",
    "print(f\"[Fe++] = {round((optimal_x_conditions[2]*1000),3)} mmol/kg\")\n",
    "print(f\"[K+] = {round((optimal_x_conditions[3]*1000),3)} mmol/kg\")\n",
    "print(f\"[Na+] = {round((optimal_x_conditions[4]*1000),3)} mmol/kg\")\n",
    "print(f\"[Mg++] = {round((optimal_x_conditions[5]*1000),3)} mmol/kg\")\n",
    "print(f\"[SiO2(aq)] = {round((optimal_x_conditions[6]*1000),3)} mmol/kg\")\n",
    "print(f\"[Cl-] = {round((optimal_x_conditions[7]*1000),3)} mmol/kg\")"
   ]
  },
  {
   "cell_type": "code",
   "execution_count": null,
   "metadata": {},
   "outputs": [],
   "source": []
  }
 ],
 "metadata": {
  "kernelspec": {
   "display_name": "Python 3.10.4 ('omphalos')",
   "language": "python",
   "name": "python3"
  },
  "language_info": {
   "codemirror_mode": {
    "name": "ipython",
    "version": 3
   },
   "file_extension": ".py",
   "mimetype": "text/x-python",
   "name": "python",
   "nbconvert_exporter": "python",
   "pygments_lexer": "ipython3",
   "version": "3.10.4"
  },
  "orig_nbformat": 4,
  "vscode": {
   "interpreter": {
    "hash": "296a52c54e27bbbcd48798fb7fd1a88824ee79f86959dd60c8f5f391966dbb41"
   }
  }
 },
 "nbformat": 4,
 "nbformat_minor": 2
}
